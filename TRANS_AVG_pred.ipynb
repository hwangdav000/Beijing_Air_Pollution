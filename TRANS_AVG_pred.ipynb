{
 "cells": [
  {
   "cell_type": "code",
   "execution_count": 6,
   "id": "imported-syndication",
   "metadata": {},
   "outputs": [
    {
     "name": "stdout",
     "output_type": "stream",
     "text": [
      "1\n",
      "2\n",
      "3\n",
      "4\n",
      "5\n",
      "6\n",
      "7\n",
      "8\n",
      "9\n",
      "10\n",
      "11\n"
     ]
    }
   ],
   "source": [
    "import numpy as np\n",
    "import os\n",
    "\n",
    "directory = \"Transformer_preds_np_48_6\"\n",
    "cnt = 0\n",
    "for filename in os.listdir(os.path.join(os.getcwd(), directory)):\n",
    "    if '.npy' not in filename:\n",
    "        continue\n",
    "#     print('hk')\n",
    "    if cnt == 0:\n",
    "#         print('in')\n",
    "        loaded_np = np.load(directory + '/' + filename)\n",
    "        loaded_np = np.reshape(loaded_np, (1, loaded_np.shape[0], loaded_np.shape[1]))\n",
    "        cnt += 1\n",
    "    else:\n",
    "        big_np = np.load(directory + '/' + filename)\n",
    "        big_np = np.reshape(big_np, (1, big_np.shape[0], big_np.shape[1]))\n",
    "\n",
    "\n",
    "        # 12 x 8713 x 24 \n",
    "        #concat\n",
    "        loaded_np = np.concatenate((loaded_np, big_np), axis=0)\n",
    "#         loaded_np = np.hstack((loaded_np, big_np))\n",
    "\n",
    "        print(cnt)\n",
    "        cnt += 1\n",
    "\n",
    "    "
   ]
  },
  {
   "cell_type": "code",
   "execution_count": 7,
   "id": "objective-registrar",
   "metadata": {},
   "outputs": [
    {
     "name": "stdout",
     "output_type": "stream",
     "text": [
      ".ipynb_checkpoints\n",
      "PRSA_Aotizhongxin_np.npy\n",
      "PRSA_Changping_np.npy\n",
      "PRSA_Dingling_np.npy\n",
      "PRSA_Dongsi_np.npy\n",
      "PRSA_Guanyuan_np.npy\n",
      "PRSA_Gucheng_np.npy\n",
      "PRSA_Huairou_np.npy\n",
      "PRSA_Nongzhanguan_np.npy\n",
      "PRSA_Shunyi_np.npy\n",
      "PRSA_Tiantan_np.npy\n",
      "PRSA_Wanliu_np.npy\n",
      "PRSA_Wanshouxigong_np.npy\n"
     ]
    }
   ],
   "source": [
    "import os \n",
    "directory = \"Transformer_preds_np_48_6\"\n",
    "cnt = 0\n",
    "for filename in os.listdir(os.path.join(os.getcwd(), directory)):\n",
    "    print(filename)"
   ]
  },
  {
   "cell_type": "code",
   "execution_count": 8,
   "id": "distant-checkout",
   "metadata": {},
   "outputs": [
    {
     "name": "stdout",
     "output_type": "stream",
     "text": [
      "(12, 8731, 6)\n"
     ]
    }
   ],
   "source": [
    "print(loaded_np.shape)"
   ]
  },
  {
   "cell_type": "code",
   "execution_count": 9,
   "id": "beautiful-heath",
   "metadata": {},
   "outputs": [
    {
     "name": "stdout",
     "output_type": "stream",
     "text": [
      "(8731, 6)\n",
      "[[181.0602684  178.52437528 174.82996178 171.21935972 168.09931564\n",
      "  164.53351402]\n",
      " [174.99298286 172.62014516 169.08124224 165.68658066 162.77594121\n",
      "  159.54282061]\n",
      " [172.36857033 170.13630549 166.7232151  163.43053309 160.66985639\n",
      "  157.42955844]\n",
      " ...\n",
      " [ 19.78127718  20.78069599  21.82526644  23.23756933  24.77767944\n",
      "   26.55536962]\n",
      " [ 23.33779875  24.46897856  25.55593713  27.08557574  28.73657441\n",
      "   30.45462441]\n",
      " [ 24.07548785  25.19689409  26.36939438  27.94168194  29.55914489\n",
      "   31.3375996 ]]\n"
     ]
    }
   ],
   "source": [
    "average_pred = np.mean(loaded_np, axis=0)\n",
    "print(average_pred.shape)\n",
    "print(average_pred)"
   ]
  },
  {
   "cell_type": "code",
   "execution_count": 10,
   "id": "advised-integer",
   "metadata": {},
   "outputs": [],
   "source": [
    "np.save('Transformer_48_6_average_pred.npy', average_pred)"
   ]
  },
  {
   "cell_type": "code",
   "execution_count": null,
   "id": "endangered-channels",
   "metadata": {},
   "outputs": [],
   "source": []
  }
 ],
 "metadata": {
  "kernelspec": {
   "display_name": "Python 3 (my_tensorflow_env2)",
   "language": "python",
   "name": "my_tensorflow_env"
  },
  "language_info": {
   "codemirror_mode": {
    "name": "ipython",
    "version": 3
   },
   "file_extension": ".py",
   "mimetype": "text/x-python",
   "name": "python",
   "nbconvert_exporter": "python",
   "pygments_lexer": "ipython3",
   "version": "3.10.6"
  }
 },
 "nbformat": 4,
 "nbformat_minor": 5
}
