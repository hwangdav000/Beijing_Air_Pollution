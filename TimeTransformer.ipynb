{
 "cells": [
  {
   "cell_type": "code",
   "execution_count": 1,
   "metadata": {
    "colab": {
     "base_uri": "https://localhost:8080/"
    },
    "executionInfo": {
     "elapsed": 18636,
     "status": "ok",
     "timestamp": 1670972343837,
     "user": {
      "displayName": "David Hwang",
      "userId": "08387036443170848644"
     },
     "user_tz": 360
    },
    "id": "TP3XPFN4Gcpd",
    "outputId": "775d63e4-2279-48c0-8e5a-6031474c4e1e"
   },
   "outputs": [
    {
     "name": "stdout",
     "output_type": "stream",
     "text": [
      "Collecting pytorch_forecasting\n",
      "  Downloading pytorch_forecasting-0.10.3-py3-none-any.whl (141 kB)\n",
      "\u001b[2K     \u001b[90m━━━━━━━━━━━━━━━━━━━━━━━━━━━━━━━━━━━━━━━\u001b[0m \u001b[32m141.4/141.4 kB\u001b[0m \u001b[31m3.3 MB/s\u001b[0m eta \u001b[36m0:00:00\u001b[0ma \u001b[36m0:00:01\u001b[0m\n",
      "\u001b[?25hCollecting statsmodels\n",
      "  Downloading statsmodels-0.13.5-cp310-cp310-manylinux_2_17_x86_64.manylinux2014_x86_64.whl (9.9 MB)\n",
      "\u001b[2K     \u001b[90m━━━━━━━━━━━━━━━━━━━━━━━━━━━━━━━━━━━━━━━━\u001b[0m \u001b[32m9.9/9.9 MB\u001b[0m \u001b[31m29.7 MB/s\u001b[0m eta \u001b[36m0:00:00\u001b[0m00:01\u001b[0m00:01\u001b[0mm\n",
      "\u001b[?25hRequirement already satisfied: pandas<2.0.0,>=1.3.0 in ./.conda/envs/my_tensorflow_env2/lib/python3.10/site-packages (from pytorch_forecasting) (1.5.1)\n",
      "Requirement already satisfied: matplotlib in ./.conda/envs/my_tensorflow_env2/lib/python3.10/site-packages (from pytorch_forecasting) (3.6.2)\n",
      "Collecting optuna<3.0.0,>=2.3.0\n",
      "  Downloading optuna-2.10.1-py3-none-any.whl (308 kB)\n",
      "\u001b[2K     \u001b[90m━━━━━━━━━━━━━━━━━━━━━━━━━━━━━━━━━━━━━━━\u001b[0m \u001b[32m308.2/308.2 kB\u001b[0m \u001b[31m8.0 MB/s\u001b[0m eta \u001b[36m0:00:00\u001b[0m00:01\u001b[0m\n",
      "\u001b[?25hCollecting torch<2.0,>=1.7\n",
      "  Downloading torch-1.13.0-cp310-cp310-manylinux1_x86_64.whl (890.1 MB)\n",
      "\u001b[2K     \u001b[90m━━━━━━━━━━━━━━━━━━━━━━━━━━━━━━━━━━━━━━━\u001b[0m \u001b[32m890.1/890.1 MB\u001b[0m \u001b[31m2.5 MB/s\u001b[0m eta \u001b[36m0:00:00\u001b[0m00:01\u001b[0m00:01\u001b[0m\n",
      "\u001b[?25hRequirement already satisfied: scikit-learn<1.2,>=0.24 in ./.conda/envs/my_tensorflow_env2/lib/python3.10/site-packages (from pytorch_forecasting) (1.1.3)\n",
      "Collecting pytorch-lightning<2.0.0,>=1.2.4\n",
      "  Downloading pytorch_lightning-1.8.4.post0-py3-none-any.whl (800 kB)\n",
      "\u001b[2K     \u001b[90m━━━━━━━━━━━━━━━━━━━━━━━━━━━━━━━━━━━━━━━\u001b[0m \u001b[32m800.3/800.3 kB\u001b[0m \u001b[31m7.9 MB/s\u001b[0m eta \u001b[36m0:00:00\u001b[0m00:01\u001b[0m\n",
      "\u001b[?25hRequirement already satisfied: scipy<2.0,>=1.8 in ./.conda/envs/my_tensorflow_env2/lib/python3.10/site-packages (from pytorch_forecasting) (1.9.3)\n",
      "Collecting alembic\n",
      "  Downloading alembic-1.8.1-py3-none-any.whl (209 kB)\n",
      "\u001b[2K     \u001b[90m━━━━━━━━━━━━━━━━━━━━━━━━━━━━━━━━━━━━━━━\u001b[0m \u001b[32m209.8/209.8 kB\u001b[0m \u001b[31m4.5 MB/s\u001b[0m eta \u001b[36m0:00:00\u001b[0m00:01\u001b[0m\n",
      "\u001b[?25hCollecting PyYAML\n",
      "  Downloading PyYAML-6.0-cp310-cp310-manylinux_2_5_x86_64.manylinux1_x86_64.manylinux_2_12_x86_64.manylinux2010_x86_64.whl (682 kB)\n",
      "\u001b[2K     \u001b[90m━━━━━━━━━━━━━━━━━━━━━━━━━━━━━━━━━━━━━━━\u001b[0m \u001b[32m682.2/682.2 kB\u001b[0m \u001b[31m4.7 MB/s\u001b[0m eta \u001b[36m0:00:00\u001b[0m00:01\u001b[0m\n",
      "\u001b[?25hCollecting cmaes>=0.8.2\n",
      "  Downloading cmaes-0.9.0-py3-none-any.whl (23 kB)\n",
      "Requirement already satisfied: numpy in ./.conda/envs/my_tensorflow_env2/lib/python3.10/site-packages (from optuna<3.0.0,>=2.3.0->pytorch_forecasting) (1.23.5)\n",
      "Collecting cliff\n",
      "  Downloading cliff-4.1.0-py3-none-any.whl (81 kB)\n",
      "\u001b[2K     \u001b[90m━━━━━━━━━━━━━━━━━━━━━━━━━━━━━━━━━━━━━━━━\u001b[0m \u001b[32m81.0/81.0 kB\u001b[0m \u001b[31m1.6 MB/s\u001b[0m eta \u001b[36m0:00:00\u001b[0mta \u001b[36m0:00:01\u001b[0m\n",
      "\u001b[?25hCollecting sqlalchemy>=1.1.0\n",
      "  Downloading SQLAlchemy-1.4.45-cp310-cp310-manylinux_2_5_x86_64.manylinux1_x86_64.manylinux_2_17_x86_64.manylinux2014_x86_64.whl (1.6 MB)\n",
      "\u001b[2K     \u001b[90m━━━━━━━━━━━━━━━━━━━━━━━━━━━━━━━━━━━━━━━━\u001b[0m \u001b[32m1.6/1.6 MB\u001b[0m \u001b[31m18.3 MB/s\u001b[0m eta \u001b[36m0:00:00\u001b[0m:00:01\u001b[0m\n",
      "\u001b[?25hCollecting tqdm\n",
      "  Downloading tqdm-4.64.1-py2.py3-none-any.whl (78 kB)\n",
      "\u001b[2K     \u001b[90m━━━━━━━━━━━━━━━━━━━━━━━━━━━━━━━━━━━━━━━━\u001b[0m \u001b[32m78.5/78.5 kB\u001b[0m \u001b[31m2.7 MB/s\u001b[0m eta \u001b[36m0:00:00\u001b[0m\n",
      "\u001b[?25hCollecting colorlog\n",
      "  Downloading colorlog-6.7.0-py2.py3-none-any.whl (11 kB)\n",
      "Requirement already satisfied: packaging>=20.0 in ./.conda/envs/my_tensorflow_env2/lib/python3.10/site-packages (from optuna<3.0.0,>=2.3.0->pytorch_forecasting) (21.3)\n",
      "Requirement already satisfied: python-dateutil>=2.8.1 in ./.conda/envs/my_tensorflow_env2/lib/python3.10/site-packages (from pandas<2.0.0,>=1.3.0->pytorch_forecasting) (2.8.2)\n",
      "Requirement already satisfied: pytz>=2020.1 in ./.conda/envs/my_tensorflow_env2/lib/python3.10/site-packages (from pandas<2.0.0,>=1.3.0->pytorch_forecasting) (2022.6)\n",
      "Collecting tensorboardX>=2.2\n",
      "  Downloading tensorboardX-2.5.1-py2.py3-none-any.whl (125 kB)\n",
      "\u001b[2K     \u001b[90m━━━━━━━━━━━━━━━━━━━━━━━━━━━━━━━━━━━━━━━\u001b[0m \u001b[32m125.4/125.4 kB\u001b[0m \u001b[31m1.5 MB/s\u001b[0m eta \u001b[36m0:00:00\u001b[0m00:01\u001b[0m\n",
      "\u001b[?25hCollecting torchmetrics>=0.7.0\n",
      "  Downloading torchmetrics-0.11.0-py3-none-any.whl (512 kB)\n",
      "\u001b[2K     \u001b[90m━━━━━━━━━━━━━━━━━━━━━━━━━━━━━━━━━━━━━━\u001b[0m \u001b[32m512.4/512.4 kB\u001b[0m \u001b[31m10.5 MB/s\u001b[0m eta \u001b[36m0:00:00\u001b[0m00:01\u001b[0m\n",
      "\u001b[?25hRequirement already satisfied: typing-extensions>=4.0.0 in ./.conda/envs/my_tensorflow_env2/lib/python3.10/site-packages (from pytorch-lightning<2.0.0,>=1.2.4->pytorch_forecasting) (4.4.0)\n",
      "Collecting fsspec[http]>2021.06.0\n",
      "  Downloading fsspec-2022.11.0-py3-none-any.whl (139 kB)\n",
      "\u001b[2K     \u001b[90m━━━━━━━━━━━━━━━━━━━━━━━━━━━━━━━━━━━━━━━\u001b[0m \u001b[32m139.5/139.5 kB\u001b[0m \u001b[31m2.6 MB/s\u001b[0m eta \u001b[36m0:00:00\u001b[0ma \u001b[36m0:00:01\u001b[0m\n",
      "\u001b[?25hCollecting lightning-utilities!=0.4.0,>=0.3.0\n",
      "  Downloading lightning_utilities-0.4.2-py3-none-any.whl (16 kB)\n",
      "Requirement already satisfied: threadpoolctl>=2.0.0 in ./.conda/envs/my_tensorflow_env2/lib/python3.10/site-packages (from scikit-learn<1.2,>=0.24->pytorch_forecasting) (3.1.0)\n",
      "Requirement already satisfied: joblib>=1.0.0 in ./.conda/envs/my_tensorflow_env2/lib/python3.10/site-packages (from scikit-learn<1.2,>=0.24->pytorch_forecasting) (1.2.0)\n",
      "Collecting nvidia-cudnn-cu11==8.5.0.96\n",
      "  Downloading nvidia_cudnn_cu11-8.5.0.96-2-py3-none-manylinux1_x86_64.whl (557.1 MB)\n",
      "\u001b[2K     \u001b[90m━━━━━━━━━━━━━━━━━━━━━━━━━━━━━━━━━━━━━━━\u001b[0m \u001b[32m557.1/557.1 MB\u001b[0m \u001b[31m2.8 MB/s\u001b[0m eta \u001b[36m0:00:00\u001b[0m00:01\u001b[0m00:01\u001b[0m\n",
      "\u001b[?25hCollecting nvidia-cuda-runtime-cu11==11.7.99\n",
      "  Downloading nvidia_cuda_runtime_cu11-11.7.99-py3-none-manylinux1_x86_64.whl (849 kB)\n",
      "\u001b[2K     \u001b[90m━━━━━━━━━━━━━━━━━━━━━━━━━━━━━━━━━━━━━━\u001b[0m \u001b[32m849.3/849.3 kB\u001b[0m \u001b[31m18.5 MB/s\u001b[0m eta \u001b[36m0:00:00\u001b[0m00:01\u001b[0m\n",
      "\u001b[?25hCollecting nvidia-cublas-cu11==11.10.3.66\n",
      "  Downloading nvidia_cublas_cu11-11.10.3.66-py3-none-manylinux1_x86_64.whl (317.1 MB)\n",
      "\u001b[2K     \u001b[90m━━━━━━━━━━━━━━━━━━━━━━━━━━━━━━━━━━━━━━━\u001b[0m \u001b[32m317.1/317.1 MB\u001b[0m \u001b[31m8.0 MB/s\u001b[0m eta \u001b[36m0:00:00\u001b[0m00:01\u001b[0m00:01\u001b[0m\n",
      "\u001b[?25hCollecting nvidia-cuda-nvrtc-cu11==11.7.99\n",
      "  Downloading nvidia_cuda_nvrtc_cu11-11.7.99-2-py3-none-manylinux1_x86_64.whl (21.0 MB)\n",
      "\u001b[2K     \u001b[90m━━━━━━━━━━━━━━━━━━━━━━━━━━━━━━━━━━━━━━━━\u001b[0m \u001b[32m21.0/21.0 MB\u001b[0m \u001b[31m57.3 MB/s\u001b[0m eta \u001b[36m0:00:00\u001b[0m00:01\u001b[0m00:01\u001b[0m\n",
      "\u001b[?25hRequirement already satisfied: setuptools in ./.conda/envs/my_tensorflow_env2/lib/python3.10/site-packages (from nvidia-cublas-cu11==11.10.3.66->torch<2.0,>=1.7->pytorch_forecasting) (65.5.1)\n",
      "Requirement already satisfied: wheel in ./.conda/envs/my_tensorflow_env2/lib/python3.10/site-packages (from nvidia-cublas-cu11==11.10.3.66->torch<2.0,>=1.7->pytorch_forecasting) (0.38.4)\n",
      "Requirement already satisfied: kiwisolver>=1.0.1 in ./.conda/envs/my_tensorflow_env2/lib/python3.10/site-packages (from matplotlib->pytorch_forecasting) (1.4.4)\n",
      "Requirement already satisfied: cycler>=0.10 in ./.conda/envs/my_tensorflow_env2/lib/python3.10/site-packages (from matplotlib->pytorch_forecasting) (0.11.0)\n",
      "Requirement already satisfied: pyparsing>=2.2.1 in ./.conda/envs/my_tensorflow_env2/lib/python3.10/site-packages (from matplotlib->pytorch_forecasting) (3.0.9)\n",
      "Requirement already satisfied: fonttools>=4.22.0 in ./.conda/envs/my_tensorflow_env2/lib/python3.10/site-packages (from matplotlib->pytorch_forecasting) (4.38.0)\n",
      "Requirement already satisfied: contourpy>=1.0.1 in ./.conda/envs/my_tensorflow_env2/lib/python3.10/site-packages (from matplotlib->pytorch_forecasting) (1.0.6)\n",
      "Requirement already satisfied: pillow>=6.2.0 in ./.conda/envs/my_tensorflow_env2/lib/python3.10/site-packages (from matplotlib->pytorch_forecasting) (9.2.0)\n",
      "Collecting patsy>=0.5.2\n",
      "  Downloading patsy-0.5.3-py2.py3-none-any.whl (233 kB)\n",
      "\u001b[2K     \u001b[90m━━━━━━━━━━━━━━━━━━━━━━━━━━━━━━━━━━━━━━━\u001b[0m \u001b[32m233.8/233.8 kB\u001b[0m \u001b[31m4.5 MB/s\u001b[0m eta \u001b[36m0:00:00\u001b[0ma \u001b[36m0:00:01\u001b[0m\n",
      "\u001b[?25hRequirement already satisfied: aiohttp!=4.0.0a0,!=4.0.0a1 in ./.conda/envs/my_tensorflow_env2/lib/python3.10/site-packages (from fsspec[http]>2021.06.0->pytorch-lightning<2.0.0,>=1.2.4->pytorch_forecasting) (3.8.3)\n",
      "Requirement already satisfied: requests in ./.conda/envs/my_tensorflow_env2/lib/python3.10/site-packages (from fsspec[http]>2021.06.0->pytorch-lightning<2.0.0,>=1.2.4->pytorch_forecasting) (2.28.1)\n",
      "Requirement already satisfied: six in ./.conda/envs/my_tensorflow_env2/lib/python3.10/site-packages (from patsy>=0.5.2->statsmodels->pytorch_forecasting) (1.16.0)\n",
      "Collecting greenlet!=0.4.17\n",
      "  Downloading greenlet-2.0.1-cp310-cp310-manylinux_2_17_x86_64.manylinux2014_x86_64.whl (539 kB)\n",
      "\u001b[2K     \u001b[90m━━━━━━━━━━━━━━━━━━━━━━━━━━━━━━━━━━━━━━\u001b[0m \u001b[32m539.9/539.9 kB\u001b[0m \u001b[31m17.8 MB/s\u001b[0m eta \u001b[36m0:00:00\u001b[0m\n",
      "\u001b[?25hCollecting protobuf<=3.20.1,>=3.8.0\n",
      "  Downloading protobuf-3.20.1-cp310-cp310-manylinux_2_12_x86_64.manylinux2010_x86_64.whl (1.1 MB)\n",
      "\u001b[2K     \u001b[90m━━━━━━━━━━━━━━━━━━━━━━━━━━━━━━━━━━━━━━━━\u001b[0m \u001b[32m1.1/1.1 MB\u001b[0m \u001b[31m17.5 MB/s\u001b[0m eta \u001b[36m0:00:00\u001b[0m:00:01\u001b[0m\n",
      "\u001b[?25hCollecting Mako\n",
      "  Downloading Mako-1.2.4-py3-none-any.whl (78 kB)\n",
      "\u001b[2K     \u001b[90m━━━━━━━━━━━━━━━━━━━━━━━━━━━━━━━━━━━━━━━━\u001b[0m \u001b[32m78.7/78.7 kB\u001b[0m \u001b[31m3.1 MB/s\u001b[0m eta \u001b[36m0:00:00\u001b[0m\n",
      "\u001b[?25hCollecting stevedore>=2.0.1\n",
      "  Downloading stevedore-4.1.1-py3-none-any.whl (50 kB)\n",
      "\u001b[2K     \u001b[90m━━━━━━━━━━━━━━━━━━━━━━━━━━━━━━━━━━━━━━━\u001b[0m \u001b[32m50.0/50.0 kB\u001b[0m \u001b[31m954.8 kB/s\u001b[0m eta \u001b[36m0:00:00\u001b[0ma \u001b[36m0:00:01\u001b[0m\n",
      "\u001b[?25hCollecting PrettyTable>=0.7.2\n",
      "  Downloading prettytable-3.5.0-py3-none-any.whl (26 kB)\n",
      "Collecting cmd2>=1.0.0\n",
      "  Downloading cmd2-2.4.2-py3-none-any.whl (147 kB)\n",
      "\u001b[2K     \u001b[90m━━━━━━━━━━━━━━━━━━━━━━━━━━━━━━━━━━━━━━━\u001b[0m \u001b[32m147.1/147.1 kB\u001b[0m \u001b[31m2.9 MB/s\u001b[0m eta \u001b[36m0:00:00\u001b[0m00:01\u001b[0m\n",
      "\u001b[?25hRequirement already satisfied: importlib-metadata>=4.4 in ./.conda/envs/my_tensorflow_env2/lib/python3.10/site-packages (from cliff->optuna<3.0.0,>=2.3.0->pytorch_forecasting) (5.0.0)\n",
      "Collecting autopage>=0.4.0\n",
      "  Downloading autopage-0.5.1-py3-none-any.whl (29 kB)\n",
      "Requirement already satisfied: attrs>=17.3.0 in ./.conda/envs/my_tensorflow_env2/lib/python3.10/site-packages (from aiohttp!=4.0.0a0,!=4.0.0a1->fsspec[http]>2021.06.0->pytorch-lightning<2.0.0,>=1.2.4->pytorch_forecasting) (22.1.0)\n",
      "Requirement already satisfied: frozenlist>=1.1.1 in ./.conda/envs/my_tensorflow_env2/lib/python3.10/site-packages (from aiohttp!=4.0.0a0,!=4.0.0a1->fsspec[http]>2021.06.0->pytorch-lightning<2.0.0,>=1.2.4->pytorch_forecasting) (1.3.3)\n",
      "Requirement already satisfied: aiosignal>=1.1.2 in ./.conda/envs/my_tensorflow_env2/lib/python3.10/site-packages (from aiohttp!=4.0.0a0,!=4.0.0a1->fsspec[http]>2021.06.0->pytorch-lightning<2.0.0,>=1.2.4->pytorch_forecasting) (1.3.1)\n",
      "Requirement already satisfied: multidict<7.0,>=4.5 in ./.conda/envs/my_tensorflow_env2/lib/python3.10/site-packages (from aiohttp!=4.0.0a0,!=4.0.0a1->fsspec[http]>2021.06.0->pytorch-lightning<2.0.0,>=1.2.4->pytorch_forecasting) (6.0.2)\n",
      "Requirement already satisfied: yarl<2.0,>=1.0 in ./.conda/envs/my_tensorflow_env2/lib/python3.10/site-packages (from aiohttp!=4.0.0a0,!=4.0.0a1->fsspec[http]>2021.06.0->pytorch-lightning<2.0.0,>=1.2.4->pytorch_forecasting) (1.8.1)\n",
      "Requirement already satisfied: async-timeout<5.0,>=4.0.0a3 in ./.conda/envs/my_tensorflow_env2/lib/python3.10/site-packages (from aiohttp!=4.0.0a0,!=4.0.0a1->fsspec[http]>2021.06.0->pytorch-lightning<2.0.0,>=1.2.4->pytorch_forecasting) (4.0.2)\n",
      "Requirement already satisfied: charset-normalizer<3.0,>=2.0 in ./.conda/envs/my_tensorflow_env2/lib/python3.10/site-packages (from aiohttp!=4.0.0a0,!=4.0.0a1->fsspec[http]>2021.06.0->pytorch-lightning<2.0.0,>=1.2.4->pytorch_forecasting) (2.1.1)\n",
      "Collecting pyperclip>=1.6\n",
      "  Downloading pyperclip-1.8.2.tar.gz (20 kB)\n",
      "  Preparing metadata (setup.py) ... \u001b[?25ldone\n",
      "\u001b[?25hRequirement already satisfied: wcwidth>=0.1.7 in ./.conda/envs/my_tensorflow_env2/lib/python3.10/site-packages (from cmd2>=1.0.0->cliff->optuna<3.0.0,>=2.3.0->pytorch_forecasting) (0.2.5)\n",
      "Requirement already satisfied: zipp>=0.5 in ./.conda/envs/my_tensorflow_env2/lib/python3.10/site-packages (from importlib-metadata>=4.4->cliff->optuna<3.0.0,>=2.3.0->pytorch_forecasting) (3.10.0)\n",
      "Collecting pbr!=2.1.0,>=2.0.0\n",
      "  Downloading pbr-5.11.0-py2.py3-none-any.whl (112 kB)\n",
      "\u001b[2K     \u001b[90m━━━━━━━━━━━━━━━━━━━━━━━━━━━━━━━━━━━━━━\u001b[0m \u001b[32m112.6/112.6 kB\u001b[0m \u001b[31m70.6 kB/s\u001b[0m eta \u001b[36m0:00:00\u001b[0ma \u001b[36m0:00:01\u001b[0m\n",
      "\u001b[?25hRequirement already satisfied: MarkupSafe>=0.9.2 in ./.conda/envs/my_tensorflow_env2/lib/python3.10/site-packages (from Mako->alembic->optuna<3.0.0,>=2.3.0->pytorch_forecasting) (2.1.1)\n",
      "Requirement already satisfied: urllib3<1.27,>=1.21.1 in ./.conda/envs/my_tensorflow_env2/lib/python3.10/site-packages (from requests->fsspec[http]>2021.06.0->pytorch-lightning<2.0.0,>=1.2.4->pytorch_forecasting) (1.26.11)\n",
      "Requirement already satisfied: certifi>=2017.4.17 in ./.conda/envs/my_tensorflow_env2/lib/python3.10/site-packages (from requests->fsspec[http]>2021.06.0->pytorch-lightning<2.0.0,>=1.2.4->pytorch_forecasting) (2022.9.24)\n",
      "Requirement already satisfied: idna<4,>=2.5 in ./.conda/envs/my_tensorflow_env2/lib/python3.10/site-packages (from requests->fsspec[http]>2021.06.0->pytorch-lightning<2.0.0,>=1.2.4->pytorch_forecasting) (3.4)\n",
      "Building wheels for collected packages: pyperclip\n",
      "  Building wheel for pyperclip (setup.py) ... \u001b[?25ldone\n",
      "\u001b[?25h  Created wheel for pyperclip: filename=pyperclip-1.8.2-py3-none-any.whl size=11124 sha256=f350df0f8ab627725f466ce2bfe056d2c171c871714df7863828975bf5c96291\n",
      "  Stored in directory: /panfs/jay/groups/6/csci8523/nguy3817/.cache/pip/wheels/3c/77/81/aaa2802e9b0553585f2789c6f2756b50a09a01d2848423bb15\n",
      "Successfully built pyperclip\n",
      "Installing collected packages: pyperclip, tqdm, PyYAML, protobuf, PrettyTable, pbr, patsy, nvidia-cuda-runtime-cu11, nvidia-cuda-nvrtc-cu11, nvidia-cublas-cu11, Mako, lightning-utilities, greenlet, fsspec, colorlog, cmd2, cmaes, autopage, tensorboardX, stevedore, sqlalchemy, nvidia-cudnn-cu11, torch, statsmodels, cliff, alembic, torchmetrics, optuna, pytorch-lightning, pytorch_forecasting\n",
      "  Attempting uninstall: protobuf\n",
      "    Found existing installation: protobuf 4.21.9\n",
      "    Uninstalling protobuf-4.21.9:\n",
      "      Successfully uninstalled protobuf-4.21.9\n",
      "\u001b[31mERROR: pip's dependency resolver does not currently take into account all the packages that are installed. This behaviour is the source of the following dependency conflicts.\n",
      "tensorboard 2.10.0 requires protobuf<3.20,>=3.9.2, but you have protobuf 3.20.1 which is incompatible.\u001b[0m\u001b[31m\n",
      "\u001b[0mSuccessfully installed Mako-1.2.4 PrettyTable-3.5.0 PyYAML-6.0 alembic-1.8.1 autopage-0.5.1 cliff-4.1.0 cmaes-0.9.0 cmd2-2.4.2 colorlog-6.7.0 fsspec-2022.11.0 greenlet-2.0.1 lightning-utilities-0.4.2 nvidia-cublas-cu11-11.10.3.66 nvidia-cuda-nvrtc-cu11-11.7.99 nvidia-cuda-runtime-cu11-11.7.99 nvidia-cudnn-cu11-8.5.0.96 optuna-2.10.1 patsy-0.5.3 pbr-5.11.0 protobuf-3.20.1 pyperclip-1.8.2 pytorch-lightning-1.8.4.post0 pytorch_forecasting-0.10.3 sqlalchemy-1.4.45 statsmodels-0.13.5 stevedore-4.1.1 tensorboardX-2.5.1 torch-1.13.0 torchmetrics-0.11.0 tqdm-4.64.1\n",
      "Note: you may need to restart the kernel to use updated packages.\n"
     ]
    }
   ],
   "source": [
    "#https://medium.com/@h3ik0.th/temporal-fusion-transformer-unleashed-deep-forecasting-of-multivariate-time-series-in-python-674fa393821b\n",
    "#https://github.com/LittlePey/SFD/issues/5\n",
    "%pip install pytorch_forecasting"
   ]
  },
  {
   "cell_type": "code",
   "execution_count": 2,
   "metadata": {
    "colab": {
     "base_uri": "https://localhost:8080/"
    },
    "executionInfo": {
     "elapsed": 8179,
     "status": "ok",
     "timestamp": 1670972352003,
     "user": {
      "displayName": "David Hwang",
      "userId": "08387036443170848644"
     },
     "user_tz": 360
    },
    "id": "M5guOO0W1Quv",
    "outputId": "33fa273a-4a8b-4ded-c17b-1ea1f91aabc1"
   },
   "outputs": [
    {
     "name": "stdout",
     "output_type": "stream",
     "text": [
      "Collecting darts\n",
      "  Downloading darts-0.22.0-py3-none-any.whl (451 kB)\n",
      "\u001b[2K     \u001b[90m━━━━━━━━━━━━━━━━━━━━━━━━━━━━━━━━━━━━━━━\u001b[0m \u001b[32m451.9/451.9 kB\u001b[0m \u001b[31m8.2 MB/s\u001b[0m eta \u001b[36m0:00:00\u001b[0m00:01\u001b[0m\n",
      "\u001b[?25hRequirement already satisfied: tqdm>=4.60.0 in ./.conda/envs/my_tensorflow_env2/lib/python3.10/site-packages (from darts) (4.64.1)\n",
      "Collecting shap>=0.40.0\n",
      "  Downloading shap-0.41.0-cp310-cp310-manylinux_2_12_x86_64.manylinux2010_x86_64.whl (572 kB)\n",
      "\u001b[2K     \u001b[90m━━━━━━━━━━━━━━━━━━━━━━━━━━━━━━━━━━━━━━━\u001b[0m \u001b[32m572.6/572.6 kB\u001b[0m \u001b[31m7.7 MB/s\u001b[0m eta \u001b[36m0:00:00\u001b[0m00:01\u001b[0m\n",
      "\u001b[?25hRequirement already satisfied: statsmodels>=0.13.0 in ./.conda/envs/my_tensorflow_env2/lib/python3.10/site-packages (from darts) (0.13.5)\n",
      "Requirement already satisfied: joblib>=0.16.0 in ./.conda/envs/my_tensorflow_env2/lib/python3.10/site-packages (from darts) (1.2.0)\n",
      "Requirement already satisfied: scikit-learn>=1.0.1 in ./.conda/envs/my_tensorflow_env2/lib/python3.10/site-packages (from darts) (1.1.3)\n",
      "Collecting nfoursid>=1.0.0\n",
      "  Downloading nfoursid-1.0.1-py3-none-any.whl (16 kB)\n",
      "Requirement already satisfied: torch>=1.8.0 in ./.conda/envs/my_tensorflow_env2/lib/python3.10/site-packages (from darts) (1.13.0)\n",
      "Collecting statsforecast>=1.0.0\n",
      "  Downloading statsforecast-1.4.0-py3-none-any.whl (91 kB)\n",
      "\u001b[2K     \u001b[90m━━━━━━━━━━━━━━━━━━━━━━━━━━━━━━━━━━━━━━━━\u001b[0m \u001b[32m92.0/92.0 kB\u001b[0m \u001b[31m3.5 MB/s\u001b[0m eta \u001b[36m0:00:00\u001b[0m\n",
      "\u001b[?25hRequirement already satisfied: numpy>=1.19.0 in ./.conda/envs/my_tensorflow_env2/lib/python3.10/site-packages (from darts) (1.23.5)\n",
      "Collecting lightgbm>=2.2.3\n",
      "  Downloading lightgbm-3.3.3-py3-none-manylinux1_x86_64.whl (2.0 MB)\n",
      "\u001b[2K     \u001b[90m━━━━━━━━━━━━━━━━━━━━━━━━━━━━━━━━━━━━━━━━\u001b[0m \u001b[32m2.0/2.0 MB\u001b[0m \u001b[31m16.1 MB/s\u001b[0m eta \u001b[36m0:00:00\u001b[0m:00:01\u001b[0m\n",
      "\u001b[?25hRequirement already satisfied: pytorch-lightning>=1.5.0 in ./.conda/envs/my_tensorflow_env2/lib/python3.10/site-packages (from darts) (1.8.4.post0)\n",
      "Requirement already satisfied: pandas>=1.0.5 in ./.conda/envs/my_tensorflow_env2/lib/python3.10/site-packages (from darts) (1.5.1)\n",
      "Requirement already satisfied: requests>=2.22.0 in ./.conda/envs/my_tensorflow_env2/lib/python3.10/site-packages (from darts) (2.28.1)\n",
      "Requirement already satisfied: ipython>=5.0.0 in ./.conda/envs/my_tensorflow_env2/lib/python3.10/site-packages (from darts) (8.6.0)\n",
      "Requirement already satisfied: scipy>=1.3.2 in ./.conda/envs/my_tensorflow_env2/lib/python3.10/site-packages (from darts) (1.9.3)\n",
      "Collecting catboost>=1.0.6\n",
      "  Downloading catboost-1.1.1-cp310-none-manylinux1_x86_64.whl (76.6 MB)\n",
      "\u001b[2K     \u001b[90m━━━━━━━━━━━━━━━━━━━━━━━━━━━━━━━━━━━━━━━━\u001b[0m \u001b[32m76.6/76.6 MB\u001b[0m \u001b[31m10.7 MB/s\u001b[0m eta \u001b[36m0:00:00\u001b[0m00:01\u001b[0m00:01\u001b[0m\n",
      "\u001b[?25hCollecting pmdarima>=1.8.0\n",
      "  Downloading pmdarima-2.0.2-cp310-cp310-manylinux_2_17_x86_64.manylinux2014_x86_64.manylinux_2_28_x86_64.whl (1.8 MB)\n",
      "\u001b[2K     \u001b[90m━━━━━━━━━━━━━━━━━━━━━━━━━━━━━━━━━━━━━━━━\u001b[0m \u001b[32m1.8/1.8 MB\u001b[0m \u001b[31m13.4 MB/s\u001b[0m eta \u001b[36m0:00:00\u001b[0m00:01\u001b[0m:00:01\u001b[0m\n",
      "\u001b[?25hRequirement already satisfied: matplotlib>=3.3.0 in ./.conda/envs/my_tensorflow_env2/lib/python3.10/site-packages (from darts) (3.6.2)\n",
      "Collecting tbats>=1.1.0\n",
      "  Downloading tbats-1.1.2-py3-none-any.whl (43 kB)\n",
      "\u001b[2K     \u001b[90m━━━━━━━━━━━━━━━━━━━━━━━━━━━━━━━━━━━━━━━━\u001b[0m \u001b[32m43.8/43.8 kB\u001b[0m \u001b[31m2.1 MB/s\u001b[0m eta \u001b[36m0:00:00\u001b[0m\n",
      "\u001b[?25hCollecting xarray>=0.17.0\n",
      "  Downloading xarray-2022.12.0-py3-none-any.whl (969 kB)\n",
      "\u001b[2K     \u001b[90m━━━━━━━━━━━━━━━━━━━━━━━━━━━━━━━━━━━━━━\u001b[0m \u001b[32m970.0/970.0 kB\u001b[0m \u001b[31m10.3 MB/s\u001b[0m eta \u001b[36m0:00:00\u001b[0m00:01\u001b[0m\n",
      "\u001b[?25hCollecting prophet>=1.1.1\n",
      "  Downloading prophet-1.1.1-cp310-cp310-manylinux_2_17_x86_64.manylinux2014_x86_64.whl (8.9 MB)\n",
      "\u001b[2K     \u001b[90m━━━━━━━━━━━━━━━━━━━━━━━━━━━━━━━━━━━━━━━━\u001b[0m \u001b[32m8.9/8.9 MB\u001b[0m \u001b[31m16.4 MB/s\u001b[0m eta \u001b[36m0:00:00\u001b[0m00:01\u001b[0m00:01\u001b[0mm\n",
      "\u001b[?25hCollecting holidays>=0.11.1\n",
      "  Downloading holidays-0.17.2-py3-none-any.whl (187 kB)\n",
      "\u001b[2K     \u001b[90m━━━━━━━━━━━━━━━━━━━━━━━━━━━━━━━━━━━━━━━\u001b[0m \u001b[32m187.5/187.5 kB\u001b[0m \u001b[31m6.9 MB/s\u001b[0m eta \u001b[36m0:00:00\u001b[0m\n",
      "\u001b[?25hCollecting plotly\n",
      "  Downloading plotly-5.11.0-py2.py3-none-any.whl (15.3 MB)\n",
      "\u001b[2K     \u001b[90m━━━━━━━━━━━━━━━━━━━━━━━━━━━━━━━━━━━━━━━━\u001b[0m \u001b[32m15.3/15.3 MB\u001b[0m \u001b[31m56.9 MB/s\u001b[0m eta \u001b[36m0:00:00\u001b[0m00:01\u001b[0m00:01\u001b[0m\n",
      "\u001b[?25hRequirement already satisfied: six in ./.conda/envs/my_tensorflow_env2/lib/python3.10/site-packages (from catboost>=1.0.6->darts) (1.16.0)\n",
      "Collecting graphviz\n",
      "  Downloading graphviz-0.20.1-py3-none-any.whl (47 kB)\n",
      "\u001b[2K     \u001b[90m━━━━━━━━━━━━━━━━━━━━━━━━━━━━━━━━━━━━━━━\u001b[0m \u001b[32m47.0/47.0 kB\u001b[0m \u001b[31m890.1 kB/s\u001b[0m eta \u001b[36m0:00:00\u001b[0ma \u001b[36m0:00:01\u001b[0m\n",
      "\u001b[?25hCollecting korean-lunar-calendar\n",
      "  Downloading korean_lunar_calendar-0.3.1-py3-none-any.whl (9.0 kB)\n",
      "Requirement already satisfied: python-dateutil in ./.conda/envs/my_tensorflow_env2/lib/python3.10/site-packages (from holidays>=0.11.1->darts) (2.8.2)\n",
      "Collecting convertdate>=2.3.0\n",
      "  Downloading convertdate-2.4.0-py3-none-any.whl (47 kB)\n",
      "\u001b[2K     \u001b[90m━━━━━━━━━━━━━━━━━━━━━━━━━━━━━━━━━━━━━━━\u001b[0m \u001b[32m47.9/47.9 kB\u001b[0m \u001b[31m725.6 kB/s\u001b[0m eta \u001b[36m0:00:00\u001b[0ma \u001b[36m0:00:01\u001b[0m\n",
      "\u001b[?25hCollecting hijri-converter\n",
      "  Downloading hijri_converter-2.2.4-py3-none-any.whl (14 kB)\n",
      "Requirement already satisfied: stack-data in ./.conda/envs/my_tensorflow_env2/lib/python3.10/site-packages (from ipython>=5.0.0->darts) (0.6.1)\n",
      "Requirement already satisfied: matplotlib-inline in ./.conda/envs/my_tensorflow_env2/lib/python3.10/site-packages (from ipython>=5.0.0->darts) (0.1.6)\n",
      "Requirement already satisfied: traitlets>=5 in ./.conda/envs/my_tensorflow_env2/lib/python3.10/site-packages (from ipython>=5.0.0->darts) (5.5.0)\n",
      "Requirement already satisfied: prompt-toolkit<3.1.0,>3.0.1 in ./.conda/envs/my_tensorflow_env2/lib/python3.10/site-packages (from ipython>=5.0.0->darts) (3.0.32)\n",
      "Requirement already satisfied: pygments>=2.4.0 in ./.conda/envs/my_tensorflow_env2/lib/python3.10/site-packages (from ipython>=5.0.0->darts) (2.13.0)\n",
      "Requirement already satisfied: pickleshare in ./.conda/envs/my_tensorflow_env2/lib/python3.10/site-packages (from ipython>=5.0.0->darts) (0.7.5)\n",
      "Requirement already satisfied: backcall in ./.conda/envs/my_tensorflow_env2/lib/python3.10/site-packages (from ipython>=5.0.0->darts) (0.2.0)\n",
      "Requirement already satisfied: pexpect>4.3 in ./.conda/envs/my_tensorflow_env2/lib/python3.10/site-packages (from ipython>=5.0.0->darts) (4.8.0)\n",
      "Requirement already satisfied: decorator in ./.conda/envs/my_tensorflow_env2/lib/python3.10/site-packages (from ipython>=5.0.0->darts) (5.1.1)\n",
      "Requirement already satisfied: jedi>=0.16 in ./.conda/envs/my_tensorflow_env2/lib/python3.10/site-packages (from ipython>=5.0.0->darts) (0.18.1)\n",
      "Requirement already satisfied: wheel in ./.conda/envs/my_tensorflow_env2/lib/python3.10/site-packages (from lightgbm>=2.2.3->darts) (0.38.4)\n",
      "Requirement already satisfied: kiwisolver>=1.0.1 in ./.conda/envs/my_tensorflow_env2/lib/python3.10/site-packages (from matplotlib>=3.3.0->darts) (1.4.4)\n",
      "Requirement already satisfied: contourpy>=1.0.1 in ./.conda/envs/my_tensorflow_env2/lib/python3.10/site-packages (from matplotlib>=3.3.0->darts) (1.0.6)\n",
      "Requirement already satisfied: pillow>=6.2.0 in ./.conda/envs/my_tensorflow_env2/lib/python3.10/site-packages (from matplotlib>=3.3.0->darts) (9.2.0)\n",
      "Requirement already satisfied: cycler>=0.10 in ./.conda/envs/my_tensorflow_env2/lib/python3.10/site-packages (from matplotlib>=3.3.0->darts) (0.11.0)\n",
      "Requirement already satisfied: pyparsing>=2.2.1 in ./.conda/envs/my_tensorflow_env2/lib/python3.10/site-packages (from matplotlib>=3.3.0->darts) (3.0.9)\n",
      "Requirement already satisfied: packaging>=20.0 in ./.conda/envs/my_tensorflow_env2/lib/python3.10/site-packages (from matplotlib>=3.3.0->darts) (21.3)\n",
      "Requirement already satisfied: fonttools>=4.22.0 in ./.conda/envs/my_tensorflow_env2/lib/python3.10/site-packages (from matplotlib>=3.3.0->darts) (4.38.0)\n",
      "Requirement already satisfied: pytz>=2020.1 in ./.conda/envs/my_tensorflow_env2/lib/python3.10/site-packages (from pandas>=1.0.5->darts) (2022.6)\n",
      "Collecting Cython!=0.29.18,!=0.29.31,>=0.29\n",
      "  Downloading Cython-0.29.32-cp310-cp310-manylinux_2_17_x86_64.manylinux2014_x86_64.manylinux_2_24_x86_64.whl (1.9 MB)\n",
      "\u001b[2K     \u001b[90m━━━━━━━━━━━━━━━━━━━━━━━━━━━━━━━━━━━━━━━━\u001b[0m \u001b[32m1.9/1.9 MB\u001b[0m \u001b[31m21.9 MB/s\u001b[0m eta \u001b[36m0:00:00\u001b[0m:00:01\u001b[0m\n",
      "\u001b[?25hRequirement already satisfied: urllib3 in ./.conda/envs/my_tensorflow_env2/lib/python3.10/site-packages (from pmdarima>=1.8.0->darts) (1.26.11)\n",
      "Requirement already satisfied: setuptools!=50.0.0,>=38.6.0 in ./.conda/envs/my_tensorflow_env2/lib/python3.10/site-packages (from pmdarima>=1.8.0->darts) (65.5.1)\n",
      "Collecting LunarCalendar>=0.0.9\n",
      "  Downloading LunarCalendar-0.0.9-py2.py3-none-any.whl (18 kB)\n",
      "Collecting cmdstanpy>=1.0.4\n",
      "  Downloading cmdstanpy-1.0.8-py3-none-any.whl (81 kB)\n",
      "\u001b[2K     \u001b[90m━━━━━━━━━━━━━━━━━━━━━━━━━━━━━━━━━━━━━━━━\u001b[0m \u001b[32m81.2/81.2 kB\u001b[0m \u001b[31m2.2 MB/s\u001b[0m eta \u001b[36m0:00:00\u001b[0m\n",
      "\u001b[?25hCollecting setuptools-git>=1.2\n",
      "  Downloading setuptools_git-1.2-py2.py3-none-any.whl (10 kB)\n",
      "Requirement already satisfied: torchmetrics>=0.7.0 in ./.conda/envs/my_tensorflow_env2/lib/python3.10/site-packages (from pytorch-lightning>=1.5.0->darts) (0.11.0)\n",
      "Requirement already satisfied: typing-extensions>=4.0.0 in ./.conda/envs/my_tensorflow_env2/lib/python3.10/site-packages (from pytorch-lightning>=1.5.0->darts) (4.4.0)\n",
      "Requirement already satisfied: lightning-utilities!=0.4.0,>=0.3.0 in ./.conda/envs/my_tensorflow_env2/lib/python3.10/site-packages (from pytorch-lightning>=1.5.0->darts) (0.4.2)\n",
      "Requirement already satisfied: PyYAML>=5.4 in ./.conda/envs/my_tensorflow_env2/lib/python3.10/site-packages (from pytorch-lightning>=1.5.0->darts) (6.0)\n",
      "Requirement already satisfied: fsspec[http]>2021.06.0 in ./.conda/envs/my_tensorflow_env2/lib/python3.10/site-packages (from pytorch-lightning>=1.5.0->darts) (2022.11.0)\n",
      "Requirement already satisfied: tensorboardX>=2.2 in ./.conda/envs/my_tensorflow_env2/lib/python3.10/site-packages (from pytorch-lightning>=1.5.0->darts) (2.5.1)\n",
      "Requirement already satisfied: idna<4,>=2.5 in ./.conda/envs/my_tensorflow_env2/lib/python3.10/site-packages (from requests>=2.22.0->darts) (3.4)\n",
      "Requirement already satisfied: certifi>=2017.4.17 in ./.conda/envs/my_tensorflow_env2/lib/python3.10/site-packages (from requests>=2.22.0->darts) (2022.9.24)\n",
      "Requirement already satisfied: charset-normalizer<3,>=2 in ./.conda/envs/my_tensorflow_env2/lib/python3.10/site-packages (from requests>=2.22.0->darts) (2.1.1)\n",
      "Requirement already satisfied: threadpoolctl>=2.0.0 in ./.conda/envs/my_tensorflow_env2/lib/python3.10/site-packages (from scikit-learn>=1.0.1->darts) (3.1.0)\n",
      "Collecting numba\n",
      "  Downloading numba-0.56.4-cp310-cp310-manylinux2014_x86_64.manylinux_2_17_x86_64.whl (3.5 MB)\n",
      "\u001b[2K     \u001b[90m━━━━━━━━━━━━━━━━━━━━━━━━━━━━━━━━━━━━━━━━\u001b[0m \u001b[32m3.5/3.5 MB\u001b[0m \u001b[31m16.9 MB/s\u001b[0m eta \u001b[36m0:00:00\u001b[0m00:01\u001b[0m00:01\u001b[0mm\n",
      "\u001b[?25hCollecting cloudpickle\n",
      "  Downloading cloudpickle-2.2.0-py3-none-any.whl (25 kB)\n",
      "Collecting slicer==0.0.7\n",
      "  Downloading slicer-0.0.7-py3-none-any.whl (14 kB)\n",
      "Requirement already satisfied: patsy>=0.5.2 in ./.conda/envs/my_tensorflow_env2/lib/python3.10/site-packages (from statsmodels>=0.13.0->darts) (0.5.3)\n",
      "Requirement already satisfied: nvidia-cudnn-cu11==8.5.0.96 in ./.conda/envs/my_tensorflow_env2/lib/python3.10/site-packages (from torch>=1.8.0->darts) (8.5.0.96)\n",
      "Requirement already satisfied: nvidia-cuda-runtime-cu11==11.7.99 in ./.conda/envs/my_tensorflow_env2/lib/python3.10/site-packages (from torch>=1.8.0->darts) (11.7.99)\n",
      "Requirement already satisfied: nvidia-cuda-nvrtc-cu11==11.7.99 in ./.conda/envs/my_tensorflow_env2/lib/python3.10/site-packages (from torch>=1.8.0->darts) (11.7.99)\n",
      "Requirement already satisfied: nvidia-cublas-cu11==11.10.3.66 in ./.conda/envs/my_tensorflow_env2/lib/python3.10/site-packages (from torch>=1.8.0->darts) (11.10.3.66)\n",
      "Collecting pymeeus<=1,>=0.3.13\n",
      "  Downloading PyMeeus-0.5.12.tar.gz (5.8 MB)\n",
      "\u001b[2K     \u001b[90m━━━━━━━━━━━━━━━━━━━━━━━━━━━━━━━━━━━━━━━━\u001b[0m \u001b[32m5.8/5.8 MB\u001b[0m \u001b[31m46.8 MB/s\u001b[0m eta \u001b[36m0:00:00\u001b[0m:00:01\u001b[0m00:01\u001b[0m\n",
      "\u001b[?25h  Preparing metadata (setup.py) ... \u001b[?25ldone\n",
      "\u001b[?25hRequirement already satisfied: aiohttp!=4.0.0a0,!=4.0.0a1 in ./.conda/envs/my_tensorflow_env2/lib/python3.10/site-packages (from fsspec[http]>2021.06.0->pytorch-lightning>=1.5.0->darts) (3.8.3)\n",
      "Requirement already satisfied: parso<0.9.0,>=0.8.0 in ./.conda/envs/my_tensorflow_env2/lib/python3.10/site-packages (from jedi>=0.16->ipython>=5.0.0->darts) (0.8.3)\n",
      "Collecting ephem>=3.7.5.3\n",
      "  Downloading ephem-4.1.3-cp310-cp310-manylinux_2_17_x86_64.manylinux2014_x86_64.whl (1.8 MB)\n",
      "\u001b[2K     \u001b[90m━━━━━━━━━━━━━━━━━━━━━━━━━━━━━━━━━━━━━━━━\u001b[0m \u001b[32m1.8/1.8 MB\u001b[0m \u001b[31m18.6 MB/s\u001b[0m eta \u001b[36m0:00:00\u001b[0m:00:01\u001b[0m\n",
      "\u001b[?25hCollecting llvmlite<0.40,>=0.39.0dev0\n",
      "  Downloading llvmlite-0.39.1-cp310-cp310-manylinux_2_17_x86_64.manylinux2014_x86_64.whl (34.6 MB)\n",
      "\u001b[2K     \u001b[90m━━━━━━━━━━━━━━━━━━━━━━━━━━━━━━━━━━━━━━━━\u001b[0m \u001b[32m34.6/34.6 MB\u001b[0m \u001b[31m44.2 MB/s\u001b[0m eta \u001b[36m0:00:00\u001b[0m00:01\u001b[0m00:01\u001b[0m\n",
      "\u001b[?25hRequirement already satisfied: ptyprocess>=0.5 in ./.conda/envs/my_tensorflow_env2/lib/python3.10/site-packages (from pexpect>4.3->ipython>=5.0.0->darts) (0.7.0)\n",
      "Requirement already satisfied: wcwidth in ./.conda/envs/my_tensorflow_env2/lib/python3.10/site-packages (from prompt-toolkit<3.1.0,>3.0.1->ipython>=5.0.0->darts) (0.2.5)\n",
      "Requirement already satisfied: protobuf<=3.20.1,>=3.8.0 in ./.conda/envs/my_tensorflow_env2/lib/python3.10/site-packages (from tensorboardX>=2.2->pytorch-lightning>=1.5.0->darts) (3.20.1)\n",
      "Collecting tenacity>=6.2.0\n",
      "  Downloading tenacity-8.1.0-py3-none-any.whl (23 kB)\n",
      "Requirement already satisfied: asttokens>=2.1.0 in ./.conda/envs/my_tensorflow_env2/lib/python3.10/site-packages (from stack-data->ipython>=5.0.0->darts) (2.1.0)\n",
      "Requirement already satisfied: executing>=1.2.0 in ./.conda/envs/my_tensorflow_env2/lib/python3.10/site-packages (from stack-data->ipython>=5.0.0->darts) (1.2.0)\n",
      "Requirement already satisfied: pure-eval in ./.conda/envs/my_tensorflow_env2/lib/python3.10/site-packages (from stack-data->ipython>=5.0.0->darts) (0.2.2)\n",
      "Requirement already satisfied: frozenlist>=1.1.1 in ./.conda/envs/my_tensorflow_env2/lib/python3.10/site-packages (from aiohttp!=4.0.0a0,!=4.0.0a1->fsspec[http]>2021.06.0->pytorch-lightning>=1.5.0->darts) (1.3.3)\n",
      "Requirement already satisfied: aiosignal>=1.1.2 in ./.conda/envs/my_tensorflow_env2/lib/python3.10/site-packages (from aiohttp!=4.0.0a0,!=4.0.0a1->fsspec[http]>2021.06.0->pytorch-lightning>=1.5.0->darts) (1.3.1)\n",
      "Requirement already satisfied: multidict<7.0,>=4.5 in ./.conda/envs/my_tensorflow_env2/lib/python3.10/site-packages (from aiohttp!=4.0.0a0,!=4.0.0a1->fsspec[http]>2021.06.0->pytorch-lightning>=1.5.0->darts) (6.0.2)\n",
      "Requirement already satisfied: yarl<2.0,>=1.0 in ./.conda/envs/my_tensorflow_env2/lib/python3.10/site-packages (from aiohttp!=4.0.0a0,!=4.0.0a1->fsspec[http]>2021.06.0->pytorch-lightning>=1.5.0->darts) (1.8.1)\n",
      "Requirement already satisfied: attrs>=17.3.0 in ./.conda/envs/my_tensorflow_env2/lib/python3.10/site-packages (from aiohttp!=4.0.0a0,!=4.0.0a1->fsspec[http]>2021.06.0->pytorch-lightning>=1.5.0->darts) (22.1.0)\n",
      "Requirement already satisfied: async-timeout<5.0,>=4.0.0a3 in ./.conda/envs/my_tensorflow_env2/lib/python3.10/site-packages (from aiohttp!=4.0.0a0,!=4.0.0a1->fsspec[http]>2021.06.0->pytorch-lightning>=1.5.0->darts) (4.0.2)\n",
      "Building wheels for collected packages: pymeeus\n",
      "  Building wheel for pymeeus (setup.py) ... \u001b[?25ldone\n",
      "\u001b[?25h  Created wheel for pymeeus: filename=PyMeeus-0.5.12-py3-none-any.whl size=731999 sha256=042497896061646e13e9c0d959b9057d9d39ec78f8d388f5a546c73c3c387d8d\n",
      "  Stored in directory: /panfs/jay/groups/6/csci8523/nguy3817/.cache/pip/wheels/74/47/c4/678b0a3d5213e2f8500f3ea0f8dc3c81478e5b806c557dff58\n",
      "Successfully built pymeeus\n",
      "Installing collected packages: setuptools-git, pymeeus, korean-lunar-calendar, ephem, tenacity, slicer, llvmlite, hijri-converter, graphviz, Cython, convertdate, cloudpickle, plotly, numba, LunarCalendar, holidays, xarray, shap, nfoursid, lightgbm, cmdstanpy, catboost, statsforecast, prophet, pmdarima, tbats, darts\n",
      "Successfully installed Cython-0.29.32 LunarCalendar-0.0.9 catboost-1.1.1 cloudpickle-2.2.0 cmdstanpy-1.0.8 convertdate-2.4.0 darts-0.22.0 ephem-4.1.3 graphviz-0.20.1 hijri-converter-2.2.4 holidays-0.17.2 korean-lunar-calendar-0.3.1 lightgbm-3.3.3 llvmlite-0.39.1 nfoursid-1.0.1 numba-0.56.4 plotly-5.11.0 pmdarima-2.0.2 prophet-1.1.1 pymeeus-0.5.12 setuptools-git-1.2 shap-0.41.0 slicer-0.0.7 statsforecast-1.4.0 tbats-1.1.2 tenacity-8.1.0 xarray-2022.12.0\n",
      "Note: you may need to restart the kernel to use updated packages.\n"
     ]
    }
   ],
   "source": [
    "%pip install darts"
   ]
  },
  {
   "cell_type": "code",
   "execution_count": 4,
   "metadata": {},
   "outputs": [
    {
     "name": "stdout",
     "output_type": "stream",
     "text": [
      "Collecting seaborn\n",
      "  Downloading seaborn-0.12.1-py3-none-any.whl (288 kB)\n",
      "\u001b[2K     \u001b[90m━━━━━━━━━━━━━━━━━━━━━━━━━━━━━━━━━━━━━━━\u001b[0m \u001b[32m288.2/288.2 kB\u001b[0m \u001b[31m4.5 MB/s\u001b[0m eta \u001b[36m0:00:00\u001b[0m00:01\u001b[0m\n",
      "\u001b[?25hRequirement already satisfied: numpy>=1.17 in ./.conda/envs/my_tensorflow_env2/lib/python3.10/site-packages (from seaborn) (1.23.5)\n",
      "Requirement already satisfied: pandas>=0.25 in ./.conda/envs/my_tensorflow_env2/lib/python3.10/site-packages (from seaborn) (1.5.1)\n",
      "Requirement already satisfied: matplotlib!=3.6.1,>=3.1 in ./.conda/envs/my_tensorflow_env2/lib/python3.10/site-packages (from seaborn) (3.6.2)\n",
      "Requirement already satisfied: fonttools>=4.22.0 in ./.conda/envs/my_tensorflow_env2/lib/python3.10/site-packages (from matplotlib!=3.6.1,>=3.1->seaborn) (4.38.0)\n",
      "Requirement already satisfied: contourpy>=1.0.1 in ./.conda/envs/my_tensorflow_env2/lib/python3.10/site-packages (from matplotlib!=3.6.1,>=3.1->seaborn) (1.0.6)\n",
      "Requirement already satisfied: packaging>=20.0 in ./.conda/envs/my_tensorflow_env2/lib/python3.10/site-packages (from matplotlib!=3.6.1,>=3.1->seaborn) (21.3)\n",
      "Requirement already satisfied: pyparsing>=2.2.1 in ./.conda/envs/my_tensorflow_env2/lib/python3.10/site-packages (from matplotlib!=3.6.1,>=3.1->seaborn) (3.0.9)\n",
      "Requirement already satisfied: cycler>=0.10 in ./.conda/envs/my_tensorflow_env2/lib/python3.10/site-packages (from matplotlib!=3.6.1,>=3.1->seaborn) (0.11.0)\n",
      "Requirement already satisfied: kiwisolver>=1.0.1 in ./.conda/envs/my_tensorflow_env2/lib/python3.10/site-packages (from matplotlib!=3.6.1,>=3.1->seaborn) (1.4.4)\n",
      "Requirement already satisfied: python-dateutil>=2.7 in ./.conda/envs/my_tensorflow_env2/lib/python3.10/site-packages (from matplotlib!=3.6.1,>=3.1->seaborn) (2.8.2)\n",
      "Requirement already satisfied: pillow>=6.2.0 in ./.conda/envs/my_tensorflow_env2/lib/python3.10/site-packages (from matplotlib!=3.6.1,>=3.1->seaborn) (9.2.0)\n",
      "Requirement already satisfied: pytz>=2020.1 in ./.conda/envs/my_tensorflow_env2/lib/python3.10/site-packages (from pandas>=0.25->seaborn) (2022.6)\n",
      "Requirement already satisfied: six>=1.5 in ./.conda/envs/my_tensorflow_env2/lib/python3.10/site-packages (from python-dateutil>=2.7->matplotlib!=3.6.1,>=3.1->seaborn) (1.16.0)\n",
      "Installing collected packages: seaborn\n",
      "Successfully installed seaborn-0.12.1\n",
      "Note: you may need to restart the kernel to use updated packages.\n"
     ]
    }
   ],
   "source": [
    "%pip install seaborn"
   ]
  },
  {
   "cell_type": "code",
   "execution_count": 6,
   "metadata": {},
   "outputs": [
    {
     "name": "stdout",
     "output_type": "stream",
     "text": [
      "Collecting missingno\n",
      "  Downloading missingno-0.5.1-py3-none-any.whl (8.7 kB)\n",
      "Requirement already satisfied: seaborn in ./.conda/envs/my_tensorflow_env2/lib/python3.10/site-packages (from missingno) (0.12.1)\n",
      "Requirement already satisfied: scipy in ./.conda/envs/my_tensorflow_env2/lib/python3.10/site-packages (from missingno) (1.9.3)\n",
      "Requirement already satisfied: numpy in ./.conda/envs/my_tensorflow_env2/lib/python3.10/site-packages (from missingno) (1.23.5)\n",
      "Requirement already satisfied: matplotlib in ./.conda/envs/my_tensorflow_env2/lib/python3.10/site-packages (from missingno) (3.6.2)\n",
      "Requirement already satisfied: pillow>=6.2.0 in ./.conda/envs/my_tensorflow_env2/lib/python3.10/site-packages (from matplotlib->missingno) (9.2.0)\n",
      "Requirement already satisfied: kiwisolver>=1.0.1 in ./.conda/envs/my_tensorflow_env2/lib/python3.10/site-packages (from matplotlib->missingno) (1.4.4)\n",
      "Requirement already satisfied: fonttools>=4.22.0 in ./.conda/envs/my_tensorflow_env2/lib/python3.10/site-packages (from matplotlib->missingno) (4.38.0)\n",
      "Requirement already satisfied: packaging>=20.0 in ./.conda/envs/my_tensorflow_env2/lib/python3.10/site-packages (from matplotlib->missingno) (21.3)\n",
      "Requirement already satisfied: pyparsing>=2.2.1 in ./.conda/envs/my_tensorflow_env2/lib/python3.10/site-packages (from matplotlib->missingno) (3.0.9)\n",
      "Requirement already satisfied: cycler>=0.10 in ./.conda/envs/my_tensorflow_env2/lib/python3.10/site-packages (from matplotlib->missingno) (0.11.0)\n",
      "Requirement already satisfied: contourpy>=1.0.1 in ./.conda/envs/my_tensorflow_env2/lib/python3.10/site-packages (from matplotlib->missingno) (1.0.6)\n",
      "Requirement already satisfied: python-dateutil>=2.7 in ./.conda/envs/my_tensorflow_env2/lib/python3.10/site-packages (from matplotlib->missingno) (2.8.2)\n",
      "Requirement already satisfied: pandas>=0.25 in ./.conda/envs/my_tensorflow_env2/lib/python3.10/site-packages (from seaborn->missingno) (1.5.1)\n",
      "Requirement already satisfied: pytz>=2020.1 in ./.conda/envs/my_tensorflow_env2/lib/python3.10/site-packages (from pandas>=0.25->seaborn->missingno) (2022.6)\n",
      "Requirement already satisfied: six>=1.5 in ./.conda/envs/my_tensorflow_env2/lib/python3.10/site-packages (from python-dateutil>=2.7->matplotlib->missingno) (1.16.0)\n",
      "Installing collected packages: missingno\n",
      "Successfully installed missingno-0.5.1\n",
      "Note: you may need to restart the kernel to use updated packages.\n"
     ]
    }
   ],
   "source": [
    "%pip install missingno\n"
   ]
  },
  {
   "cell_type": "code",
   "execution_count": 7,
   "metadata": {
    "executionInfo": {
     "elapsed": 10561,
     "status": "ok",
     "timestamp": 1670972362547,
     "user": {
      "displayName": "David Hwang",
      "userId": "08387036443170848644"
     },
     "user_tz": 360
    },
    "id": "2lve8p5RnXEB"
   },
   "outputs": [],
   "source": [
    "%matplotlib inline\n",
    "import numpy as np\n",
    "import pandas as pd\n",
    "import matplotlib.pyplot as plt\n",
    "import seaborn as sns\n",
    "import os\n",
    "import sys\n",
    "import missingno as mno\n",
    "\n",
    "import warnings\n",
    "warnings.filterwarnings(\"ignore\")\n",
    "import logging\n",
    "logging.disable(logging.CRITICAL)\n",
    "\n",
    "\n",
    "from darts import TimeSeries, concatenate\n",
    "from darts.dataprocessing.transformers import Scaler\n",
    "from darts.models import TransformerModel\n",
    "from darts.metrics import mape, rmse\n",
    "from darts.utils.timeseries_generation import datetime_attribute_timeseries\n",
    "from darts.utils.likelihood_models import QuantileRegression\n",
    "\n",
    "\n",
    "pd.set_option(\"display.precision\",2)\n",
    "np.set_printoptions(precision=2, suppress=True)\n",
    "pd.options.display.float_format = '{:,.2f}'.format"
   ]
  },
  {
   "cell_type": "code",
   "execution_count": 50,
   "metadata": {
    "executionInfo": {
     "elapsed": 27,
     "status": "ok",
     "timestamp": 1670972362548,
     "user": {
      "displayName": "David Hwang",
      "userId": "08387036443170848644"
     },
     "user_tz": 360
    },
    "id": "mG1K9yYe2s0a"
   },
   "outputs": [],
   "source": [
    "import seaborn as sns\n",
    "import os\n",
    "import sys\n",
    "import missingno as mno\n",
    "\n",
    "pd.set_option(\"display.precision\",2)\n",
    "np.set_printoptions(precision=2, suppress=True)\n",
    "pd.options.display.float_format = '{:,.2f}'.format"
   ]
  },
  {
   "cell_type": "code",
   "execution_count": 51,
   "metadata": {
    "colab": {
     "base_uri": "https://localhost:8080/",
     "height": 74
    },
    "executionInfo": {
     "elapsed": 22429,
     "status": "ok",
     "timestamp": 1670972384950,
     "user": {
      "displayName": "David Hwang",
      "userId": "08387036443170848644"
     },
     "user_tz": 360
    },
    "id": "6E52VgVOt4xF",
    "outputId": "cd7742da-340e-4f7d-8ff1-d534b3ce8c6f"
   },
   "outputs": [],
   "source": [
    "# import data \n",
    "import numpy as np\n",
    "import pandas as df\n",
    "np_folder = 'PRSA_preprocess/PRSA_Wanshouxigong_numpy'\n",
    "np_split = np_folder.split('/')\n",
    "np_file = np_split[1]\n",
    "splitter = np_file.split('_')\n",
    "display_name = splitter[0] + '_' + splitter[1]\n",
    "hi = np.load('PRSA_preprocess/' + np_file + '.npy', allow_pickle=True)\n",
    "\n",
    "dataframeee = df.DataFrame(hi)\n",
    "dataframeee.columns = ['No', 'year', 'month','day', 'hour','PM2.5', 'PM10', 'SO2', 'NO2', 'CO', 'O3', 'TEMP', 'PRES', 'DEWP', 'RAIN', 'wd', 'WSPM', 'station']\n",
    "dataframeee.to_csv(display_name + '.csv', index=False) # comma separated"
   ]
  },
  {
   "cell_type": "code",
   "execution_count": 52,
   "metadata": {
    "colab": {
     "base_uri": "https://localhost:8080/"
    },
    "executionInfo": {
     "elapsed": 560,
     "status": "ok",
     "timestamp": 1670972385501,
     "user": {
      "displayName": "David Hwang",
      "userId": "08387036443170848644"
     },
     "user_tz": 360
    },
    "id": "mKv0Fpyet8ja",
    "outputId": "681339ce-c5bd-4866-f9ec-d4f99d5cdfbd"
   },
   "outputs": [
    {
     "name": "stdout",
     "output_type": "stream",
     "text": [
      "                     PM2.5  TEMP     PRES   DEWP  RAIN     wd  WSPM\n",
      "date                                                               \n",
      "2013-03-01 00:00:00   9.00  0.30 1,021.90 -19.00  0.00 292.50  2.00\n",
      "2013-03-01 01:00:00  11.00 -0.10 1,022.40 -19.30  0.00 292.50  4.40\n",
      "2013-03-01 02:00:00   8.00 -0.60 1,022.60 -19.70  0.00 292.50  4.70\n",
      "2013-03-01 03:00:00   8.00 -0.70 1,023.50 -20.90  0.00 315.00  2.60\n",
      "2013-03-01 04:00:00   8.00 -0.90 1,024.10 -21.70  0.00 292.50  2.50\n",
      "...                    ...   ...      ...    ...   ...    ...   ...\n",
      "2017-02-28 19:00:00  11.00 12.50 1,013.50 -16.20  0.00 315.00  2.40\n",
      "2017-02-28 20:00:00  13.00 11.60 1,013.60 -15.10  0.00 292.50  0.90\n",
      "2017-02-28 21:00:00  14.00 10.80 1,014.20 -13.30  0.00 315.00  1.10\n",
      "2017-02-28 22:00:00  12.00 10.50 1,014.40 -12.90  0.00 337.50  1.20\n",
      "2017-02-28 23:00:00  13.00  8.60 1,014.10 -15.90  0.00  22.50  1.30\n",
      "\n",
      "[35064 rows x 7 columns]\n"
     ]
    }
   ],
   "source": [
    "import pandas as pd\n",
    "from datetime import datetime\n",
    "import io\n",
    "\n",
    "# load data\n",
    "def parse(x):\n",
    "\treturn datetime.strptime(x, '%Y %m %d %H')\n",
    " \n",
    "# dataset = pd.read_csv(io.BytesIO(uploaded[hello]),  parse_dates = [['year', 'month', 'day', 'hour']], index_col=0, date_parser=parse)\n",
    "dataset = pd.read_csv(display_name + '.csv',  parse_dates = [['year', 'month', 'day', 'hour']], index_col=0, date_parser=parse)\n",
    "dataset.drop('No', axis=1, inplace=True)\n",
    "dataset.drop('PM10', axis=1, inplace=True)\n",
    "dataset.drop('SO2', axis=1, inplace=True)\n",
    "dataset.drop('CO', axis=1, inplace=True)\n",
    "dataset.drop('NO2', axis=1, inplace=True)\n",
    "dataset.drop('O3', axis=1, inplace=True)\n",
    "# for now drop station\n",
    "dataset.drop('station', axis=1, inplace=True)\n",
    "dataset.index.name = 'date'\n",
    "\n",
    "print(dataset)"
   ]
  },
  {
   "cell_type": "code",
   "execution_count": 53,
   "metadata": {
    "colab": {
     "base_uri": "https://localhost:8080/"
    },
    "executionInfo": {
     "elapsed": 3,
     "status": "ok",
     "timestamp": 1670972385502,
     "user": {
      "displayName": "David Hwang",
      "userId": "08387036443170848644"
     },
     "user_tz": 360
    },
    "id": "m0PYDGDi-M9Q",
    "outputId": "be8aff83-ea12-4f79-be6c-39a6f68daca9"
   },
   "outputs": [
    {
     "name": "stdout",
     "output_type": "stream",
     "text": [
      "                     PM2.5  TEMP     PRES   DEWP  RAIN     wd  WSPM\n",
      "date                                                               \n",
      "2013-03-01 00:00:00   9.00  0.30 1,021.90 -19.00  0.00 292.50  2.00\n",
      "2013-03-01 01:00:00  11.00 -0.10 1,022.40 -19.30  0.00 292.50  4.40\n",
      "2013-03-01 02:00:00   8.00 -0.60 1,022.60 -19.70  0.00 292.50  4.70\n",
      "2013-03-01 03:00:00   8.00 -0.70 1,023.50 -20.90  0.00 315.00  2.60\n",
      "2013-03-01 04:00:00   8.00 -0.90 1,024.10 -21.70  0.00 292.50  2.50\n",
      "...                    ...   ...      ...    ...   ...    ...   ...\n",
      "2017-02-28 19:00:00  11.00 12.50 1,013.50 -16.20  0.00 315.00  2.40\n",
      "2017-02-28 20:00:00  13.00 11.60 1,013.60 -15.10  0.00 292.50  0.90\n",
      "2017-02-28 21:00:00  14.00 10.80 1,014.20 -13.30  0.00 315.00  1.10\n",
      "2017-02-28 22:00:00  12.00 10.50 1,014.40 -12.90  0.00 337.50  1.20\n",
      "2017-02-28 23:00:00  13.00  8.60 1,014.10 -15.90  0.00  22.50  1.30\n",
      "\n",
      "[35064 rows x 7 columns]\n"
     ]
    }
   ],
   "source": [
    "# mark all NA values with 0\n",
    "dataset['PM2.5'].fillna(0, inplace=True)\n",
    "# drop the first 24 hours\n",
    "#dataset = dataset[24:]\n",
    "# summarize first 5 rows\n",
    "# print(dataset.head(5))\n",
    "\n",
    "# save to file\n",
    "dataset.to_csv(display_name + '_pollution.csv')\n",
    "print(dataset)"
   ]
  },
  {
   "cell_type": "code",
   "execution_count": 54,
   "metadata": {
    "colab": {
     "base_uri": "https://localhost:8080/"
    },
    "executionInfo": {
     "elapsed": 263,
     "status": "ok",
     "timestamp": 1670972385763,
     "user": {
      "displayName": "David Hwang",
      "userId": "08387036443170848644"
     },
     "user_tz": 360
    },
    "id": "VkvUm60et8uG",
    "outputId": "0a9adafc-8d35-4552-c49f-b5995f8c3d2a"
   },
   "outputs": [],
   "source": [
    "# # mark all NA values with 0\n",
    "# # dataset['PM2.5'].fillna(0, inplace=True)\n",
    "# # dataset['TEMP'].fillna(0, inplace=True)\n",
    "# # dataset['PRES'].fillna(0, inplace=True)\n",
    "# # dataset['DEWP'].fillna(0, inplace=True)\n",
    "# # dataset['RAIN'].fillna(0, inplace=True)\n",
    "# # dataset['WSPM'].fillna(0, inplace=True)\n",
    "\n",
    "\n",
    "# # drop the first 24 hours\n",
    "# #dataset = dataset[24:]\n",
    "# # summarize first 5 rows\n",
    "# print(dataset.head(-1))\n",
    "\n",
    "# # save to file\n",
    "# dataset.to_csv('pollution.csv')"
   ]
  },
  {
   "cell_type": "code",
   "execution_count": 55,
   "metadata": {
    "executionInfo": {
     "elapsed": 131,
     "status": "ok",
     "timestamp": 1670972385892,
     "user": {
      "displayName": "David Hwang",
      "userId": "08387036443170848644"
     },
     "user_tz": 360
    },
    "id": "CXewRArbt8_v"
   },
   "outputs": [],
   "source": [
    "from matplotlib import pyplot\n",
    "# load dataset\n",
    "dataset = pd.read_csv(display_name + '_pollution.csv', header=0, index_col=0)"
   ]
  },
  {
   "cell_type": "code",
   "execution_count": 56,
   "metadata": {
    "colab": {
     "base_uri": "https://localhost:8080/",
     "height": 429
    },
    "executionInfo": {
     "elapsed": 1085,
     "status": "ok",
     "timestamp": 1670972386976,
     "user": {
      "displayName": "David Hwang",
      "userId": "08387036443170848644"
     },
     "user_tz": 360
    },
    "id": "CRzqBd3Tt9Ks",
    "outputId": "b4bfb496-fdc3-4873-eb46-8748363e6e19"
   },
   "outputs": [
    {
     "data": {
      "image/png": "[encoded data removed]",
      "text/plain": [
       "<Figure size 640x480 with 6 Axes>"
      ]
     },
     "metadata": {},
     "output_type": "display_data"
    }
   ],
   "source": [
    "values = dataset.values\n",
    "# specify columns to plot\n",
    "groups = [0, 1, 2, 3,  4, 6]\n",
    "i = 1\n",
    "# plot each column\n",
    "pyplot.figure()\n",
    "for group in groups:\n",
    "  pyplot.subplot(len(groups), 1, i)\n",
    "  #print(\"i: \" + str(i) + \", \" + str(values[:,group]))\n",
    "  pyplot.plot(values[:, group])\n",
    "  pyplot.title(dataset.columns[group], y=0.5, loc='right')\n",
    "  i += 1\n",
    "pyplot.show()"
   ]
  },
  {
   "cell_type": "code",
   "execution_count": 57,
   "metadata": {
    "colab": {
     "base_uri": "https://localhost:8080/"
    },
    "executionInfo": {
     "elapsed": 8,
     "status": "ok",
     "timestamp": 1670972386976,
     "user": {
      "displayName": "David Hwang",
      "userId": "08387036443170848644"
     },
     "user_tz": 360
    },
    "id": "RnyuoIEKEBLz",
    "outputId": "8b6494f5-988d-45f6-e51f-6e8a1a35bccc"
   },
   "outputs": [
    {
     "data": {
      "text/plain": [
       "Index(['PM2.5', 'TEMP', 'PRES', 'DEWP', 'RAIN', 'wd', 'WSPM'], dtype='object')"
      ]
     },
     "execution_count": 57,
     "metadata": {},
     "output_type": "execute_result"
    }
   ],
   "source": [
    "dataset.columns"
   ]
  },
  {
   "cell_type": "code",
   "execution_count": 58,
   "metadata": {
    "colab": {
     "base_uri": "https://localhost:8080/"
    },
    "executionInfo": {
     "elapsed": 6,
     "status": "ok",
     "timestamp": 1670972386977,
     "user": {
      "displayName": "David Hwang",
      "userId": "08387036443170848644"
     },
     "user_tz": 360
    },
    "id": "gxW6MXmLeQzV",
    "outputId": "df6ad600-219f-4cb7-d4f5-5c59c5c53046"
   },
   "outputs": [
    {
     "data": {
      "text/plain": [
       "array([[   9. ,    0.3, 1021.9, ...,    0. ,  292.5,    2. ],\n",
       "       [  11. ,   -0.1, 1022.4, ...,    0. ,  292.5,    4.4],\n",
       "       [   8. ,   -0.6, 1022.6, ...,    0. ,  292.5,    4.7],\n",
       "       ...,\n",
       "       [  14. ,   10.8, 1014.2, ...,    0. ,  315. ,    1.1],\n",
       "       [  12. ,   10.5, 1014.4, ...,    0. ,  337.5,    1.2],\n",
       "       [  13. ,    8.6, 1014.1, ...,    0. ,   22.5,    1.3]])"
      ]
     },
     "execution_count": 58,
     "metadata": {},
     "output_type": "execute_result"
    }
   ],
   "source": [
    "values"
   ]
  },
  {
   "cell_type": "code",
   "execution_count": 59,
   "metadata": {
    "colab": {
     "base_uri": "https://localhost:8080/"
    },
    "executionInfo": {
     "elapsed": 188,
     "status": "ok",
     "timestamp": 1670972387159,
     "user": {
      "displayName": "David Hwang",
      "userId": "08387036443170848644"
     },
     "user_tz": 360
    },
    "id": "kAnrWLz-emTU",
    "outputId": "e07f341d-746a-4040-de15-19c24d1576da"
   },
   "outputs": [
    {
     "data": {
      "text/plain": [
       "array([ 9., 11.,  8., ..., 14., 12., 13.])"
      ]
     },
     "execution_count": 59,
     "metadata": {},
     "output_type": "execute_result"
    }
   ],
   "source": [
    "values[:,0]"
   ]
  },
  {
   "cell_type": "code",
   "execution_count": 61,
   "metadata": {
    "colab": {
     "base_uri": "https://localhost:8080/",
     "height": 237
    },
    "executionInfo": {
     "elapsed": 14,
     "status": "ok",
     "timestamp": 1670972387160,
     "user": {
      "displayName": "David Hwang",
      "userId": "08387036443170848644"
     },
     "user_tz": 360
    },
    "id": "oXNU6sqJHV09",
    "outputId": "2edc0977-6aaa-4674-8228-7c8bdad1723a"
   },
   "outputs": [
    {
     "data": {
      "text/html": [
       "<div>\n",
       "<style scoped>\n",
       "    .dataframe tbody tr th:only-of-type {\n",
       "        vertical-align: middle;\n",
       "    }\n",
       "\n",
       "    .dataframe tbody tr th {\n",
       "        vertical-align: top;\n",
       "    }\n",
       "\n",
       "    .dataframe thead th {\n",
       "        text-align: right;\n",
       "    }\n",
       "</style>\n",
       "<table border=\"1\" class=\"dataframe\">\n",
       "  <thead>\n",
       "    <tr style=\"text-align: right;\">\n",
       "      <th></th>\n",
       "      <th>PM2.5</th>\n",
       "      <th>TEMP</th>\n",
       "      <th>PRES</th>\n",
       "      <th>DEWP</th>\n",
       "      <th>RAIN</th>\n",
       "      <th>wd</th>\n",
       "      <th>WSPM</th>\n",
       "    </tr>\n",
       "    <tr>\n",
       "      <th>date</th>\n",
       "      <th></th>\n",
       "      <th></th>\n",
       "      <th></th>\n",
       "      <th></th>\n",
       "      <th></th>\n",
       "      <th></th>\n",
       "      <th></th>\n",
       "    </tr>\n",
       "  </thead>\n",
       "  <tbody>\n",
       "    <tr>\n",
       "      <th>2013-03-01 00:00:00</th>\n",
       "      <td>9.00</td>\n",
       "      <td>0.30</td>\n",
       "      <td>1,021.90</td>\n",
       "      <td>-19.00</td>\n",
       "      <td>0.00</td>\n",
       "      <td>292.50</td>\n",
       "      <td>2.00</td>\n",
       "    </tr>\n",
       "    <tr>\n",
       "      <th>2013-03-01 01:00:00</th>\n",
       "      <td>11.00</td>\n",
       "      <td>-0.10</td>\n",
       "      <td>1,022.40</td>\n",
       "      <td>-19.30</td>\n",
       "      <td>0.00</td>\n",
       "      <td>292.50</td>\n",
       "      <td>4.40</td>\n",
       "    </tr>\n",
       "    <tr>\n",
       "      <th>2013-03-01 02:00:00</th>\n",
       "      <td>8.00</td>\n",
       "      <td>-0.60</td>\n",
       "      <td>1,022.60</td>\n",
       "      <td>-19.70</td>\n",
       "      <td>0.00</td>\n",
       "      <td>292.50</td>\n",
       "      <td>4.70</td>\n",
       "    </tr>\n",
       "    <tr>\n",
       "      <th>2013-03-01 03:00:00</th>\n",
       "      <td>8.00</td>\n",
       "      <td>-0.70</td>\n",
       "      <td>1,023.50</td>\n",
       "      <td>-20.90</td>\n",
       "      <td>0.00</td>\n",
       "      <td>315.00</td>\n",
       "      <td>2.60</td>\n",
       "    </tr>\n",
       "    <tr>\n",
       "      <th>2013-03-01 04:00:00</th>\n",
       "      <td>8.00</td>\n",
       "      <td>-0.90</td>\n",
       "      <td>1,024.10</td>\n",
       "      <td>-21.70</td>\n",
       "      <td>0.00</td>\n",
       "      <td>292.50</td>\n",
       "      <td>2.50</td>\n",
       "    </tr>\n",
       "  </tbody>\n",
       "</table>\n",
       "</div>"
      ],
      "text/plain": [
       "                     PM2.5  TEMP     PRES   DEWP  RAIN     wd  WSPM\n",
       "date                                                               \n",
       "2013-03-01 00:00:00   9.00  0.30 1,021.90 -19.00  0.00 292.50  2.00\n",
       "2013-03-01 01:00:00  11.00 -0.10 1,022.40 -19.30  0.00 292.50  4.40\n",
       "2013-03-01 02:00:00   8.00 -0.60 1,022.60 -19.70  0.00 292.50  4.70\n",
       "2013-03-01 03:00:00   8.00 -0.70 1,023.50 -20.90  0.00 315.00  2.60\n",
       "2013-03-01 04:00:00   8.00 -0.90 1,024.10 -21.70  0.00 292.50  2.50"
      ]
     },
     "execution_count": 61,
     "metadata": {},
     "output_type": "execute_result"
    }
   ],
   "source": [
    "# Change WD to numbers\n",
    "# Preprocessing\n",
    "# integer encode direction\n",
    "from pandas import read_csv\n",
    "from pandas import DataFrame\n",
    "from pandas import concat\n",
    "import numpy as np\n",
    "from sklearn.preprocessing import LabelEncoder\n",
    "from sklearn.preprocessing import MinMaxScaler\n",
    "\n",
    "# encoder = LabelEncoder()\n",
    "# values[:,5] = encoder.fit_transform(values[:,5])\n",
    "# values = values.astype('float32')\n",
    "# type(values[:,5])\n",
    "\n",
    "\n",
    "dataset['PM2.5'] = values[:,0]\n",
    "dataset['TEMP'] = values[:,1]\n",
    "dataset['PRES'] = values[:,2]\n",
    "dataset['DEWP'] = values[:,3]\n",
    "dataset['RAIN'] = values[:,4]\n",
    "dataset['wd'] = values[:,5]\n",
    "dataset['WSPM'] = values[:,6]\n",
    "\n",
    "dataset.head(5)"
   ]
  },
  {
   "cell_type": "code",
   "execution_count": null,
   "metadata": {
    "executionInfo": {
     "elapsed": 13,
     "status": "ok",
     "timestamp": 1670972387160,
     "user": {
      "displayName": "David Hwang",
      "userId": "08387036443170848644"
     },
     "user_tz": 360
    },
    "id": "_P6lCkkE4HdI"
   },
   "outputs": [],
   "source": []
  },
  {
   "cell_type": "code",
   "execution_count": 62,
   "metadata": {
    "colab": {
     "base_uri": "https://localhost:8080/"
    },
    "executionInfo": {
     "elapsed": 13,
     "status": "ok",
     "timestamp": 1670972387161,
     "user": {
      "displayName": "David Hwang",
      "userId": "08387036443170848644"
     },
     "user_tz": 360
    },
    "id": "7elElunXEnAg",
    "outputId": "947521d4-3b4c-47cb-e259-2beaa71087f5"
   },
   "outputs": [
    {
     "data": {
      "text/plain": [
       "Index(['date', 'PM2.5', 'TEMP', 'PRES', 'DEWP', 'RAIN', 'wd', 'WSPM'], dtype='object')"
      ]
     },
     "execution_count": 62,
     "metadata": {},
     "output_type": "execute_result"
    }
   ],
   "source": [
    "# TIME SERIES OBJECT\n",
    "# add date column\n",
    "df1 = dataset.copy()\n",
    "\n",
    "df1 = df1.reset_index()\n",
    "df1['date'] = pd.to_datetime(df1.date, format='%Y-%m-%d %H:%M:%S')\n",
    "df1.columns"
   ]
  },
  {
   "cell_type": "code",
   "execution_count": 63,
   "metadata": {
    "colab": {
     "base_uri": "https://localhost:8080/"
    },
    "executionInfo": {
     "elapsed": 11,
     "status": "ok",
     "timestamp": 1670972387161,
     "user": {
      "displayName": "David Hwang",
      "userId": "08387036443170848644"
     },
     "user_tz": 360
    },
    "id": "LX5gn3tNGQOB",
    "outputId": "4f8f3378-9424-4aeb-a06f-ebad07cf126f"
   },
   "outputs": [
    {
     "name": "stdout",
     "output_type": "stream",
     "text": [
      "components: Index(['PM2.5'], dtype='object', name='component')\n",
      "duration: 35063\n",
      "frequency: 1\n",
      "frequency: None\n",
      "has date time index? (or else, it must have an integer index): False\n",
      "deterministic: True\n",
      "univariate: True\n"
     ]
    }
   ],
   "source": [
    "################################################\n",
    "# create time series object for target variable\n",
    "ts_P = TimeSeries.from_series(df1[\"PM2.5\"]) \n",
    "\n",
    "# check attributes of the time series\n",
    "print(\"components:\", ts_P.components)\n",
    "print(\"duration:\",ts_P.duration)\n",
    "print(\"frequency:\",ts_P.freq)\n",
    "print(\"frequency:\",ts_P.freq_str)\n",
    "print(\"has date time index? (or else, it must have an integer index):\",ts_P.has_datetime_index)\n",
    "print(\"deterministic:\",ts_P.is_deterministic)\n",
    "print(\"univariate:\",ts_P.is_univariate)"
   ]
  },
  {
   "cell_type": "code",
   "execution_count": 64,
   "metadata": {
    "colab": {
     "base_uri": "https://localhost:8080/"
    },
    "executionInfo": {
     "elapsed": 10,
     "status": "ok",
     "timestamp": 1670972387161,
     "user": {
      "displayName": "David Hwang",
      "userId": "08387036443170848644"
     },
     "user_tz": 360
    },
    "id": "1-og31QPF9B6",
    "outputId": "14d23012-5b01-48c6-e4ea-1d396724caea"
   },
   "outputs": [
    {
     "name": "stdout",
     "output_type": "stream",
     "text": [
      "components (columns) of feature time series: Index(['TEMP', 'PRES', 'DEWP', 'RAIN', 'wd', 'WSPM'], dtype='object', name='component')\n",
      "duration: 35063\n",
      "frequency: 1\n",
      "frequency: None\n",
      "has date time index? (or else, it must have an integer index): False\n",
      "deterministic: True\n",
      "univariate: False\n"
     ]
    }
   ],
   "source": [
    "# create time series object for the feature columns\n",
    "df_covF = df1.loc[:, np.logical_and(df1.columns != \"PM2.5\",df1.columns != \"date\")]\n",
    "ts_covF = TimeSeries.from_dataframe(df_covF)\n",
    "\n",
    "# check attributes of the time series\n",
    "print(\"components (columns) of feature time series:\", ts_covF.components)\n",
    "print(\"duration:\",ts_covF.duration)\n",
    "print(\"frequency:\",ts_covF.freq)\n",
    "print(\"frequency:\",ts_covF.freq_str)\n",
    "print(\"has date time index? (or else, it must have an integer index):\",ts_covF.has_datetime_index)\n",
    "print(\"deterministic:\",ts_covF.is_deterministic)\n",
    "print(\"univariate:\",ts_covF.is_univariate)"
   ]
  },
  {
   "cell_type": "code",
   "execution_count": 65,
   "metadata": {
    "colab": {
     "base_uri": "https://localhost:8080/"
    },
    "executionInfo": {
     "elapsed": 8,
     "status": "ok",
     "timestamp": 1670972387161,
     "user": {
      "displayName": "David Hwang",
      "userId": "08387036443170848644"
     },
     "user_tz": 360
    },
    "id": "UWgLs6v_EBG3",
    "outputId": "08e11938-d9b7-4bc5-8529-c04e9680d2f8"
   },
   "outputs": [
    {
     "name": "stdout",
     "output_type": "stream",
     "text": [
      "<class 'numpy.ndarray'>\n"
     ]
    },
    {
     "data": {
      "text/plain": [
       "(35064, 6, 1)"
      ]
     },
     "execution_count": 65,
     "metadata": {},
     "output_type": "execute_result"
    }
   ],
   "source": [
    "# example: operating with time series objects:\n",
    "# we can also create a 3-dimensional numpy array from a time series object\n",
    "# 3 dimensions: time (rows) / components (columns) / samples\n",
    "ar_covF = ts_covF.all_values()\n",
    "print(type(ar_covF))\n",
    "ar_covF.shape"
   ]
  },
  {
   "cell_type": "code",
   "execution_count": 66,
   "metadata": {
    "colab": {
     "base_uri": "https://localhost:8080/",
     "height": 455
    },
    "executionInfo": {
     "elapsed": 6,
     "status": "ok",
     "timestamp": 1670972387161,
     "user": {
      "displayName": "David Hwang",
      "userId": "08387036443170848644"
     },
     "user_tz": 360
    },
    "id": "MbpNv_yhEA5-",
    "outputId": "a4c39eac-6a02-483e-d416-cbab3a2a4d93"
   },
   "outputs": [
    {
     "data": {
      "text/html": [
       "<div>\n",
       "<style scoped>\n",
       "    .dataframe tbody tr th:only-of-type {\n",
       "        vertical-align: middle;\n",
       "    }\n",
       "\n",
       "    .dataframe tbody tr th {\n",
       "        vertical-align: top;\n",
       "    }\n",
       "\n",
       "    .dataframe thead th {\n",
       "        text-align: right;\n",
       "    }\n",
       "</style>\n",
       "<table border=\"1\" class=\"dataframe\">\n",
       "  <thead>\n",
       "    <tr style=\"text-align: right;\">\n",
       "      <th>component</th>\n",
       "      <th>TEMP</th>\n",
       "      <th>PRES</th>\n",
       "      <th>DEWP</th>\n",
       "      <th>RAIN</th>\n",
       "      <th>wd</th>\n",
       "      <th>WSPM</th>\n",
       "    </tr>\n",
       "    <tr>\n",
       "      <th>time</th>\n",
       "      <th></th>\n",
       "      <th></th>\n",
       "      <th></th>\n",
       "      <th></th>\n",
       "      <th></th>\n",
       "      <th></th>\n",
       "    </tr>\n",
       "  </thead>\n",
       "  <tbody>\n",
       "    <tr>\n",
       "      <th>0</th>\n",
       "      <td>0.30</td>\n",
       "      <td>1,021.90</td>\n",
       "      <td>-19.00</td>\n",
       "      <td>0.00</td>\n",
       "      <td>292.50</td>\n",
       "      <td>2.00</td>\n",
       "    </tr>\n",
       "    <tr>\n",
       "      <th>1</th>\n",
       "      <td>-0.10</td>\n",
       "      <td>1,022.40</td>\n",
       "      <td>-19.30</td>\n",
       "      <td>0.00</td>\n",
       "      <td>292.50</td>\n",
       "      <td>4.40</td>\n",
       "    </tr>\n",
       "    <tr>\n",
       "      <th>2</th>\n",
       "      <td>-0.60</td>\n",
       "      <td>1,022.60</td>\n",
       "      <td>-19.70</td>\n",
       "      <td>0.00</td>\n",
       "      <td>292.50</td>\n",
       "      <td>4.70</td>\n",
       "    </tr>\n",
       "    <tr>\n",
       "      <th>3</th>\n",
       "      <td>-0.70</td>\n",
       "      <td>1,023.50</td>\n",
       "      <td>-20.90</td>\n",
       "      <td>0.00</td>\n",
       "      <td>315.00</td>\n",
       "      <td>2.60</td>\n",
       "    </tr>\n",
       "    <tr>\n",
       "      <th>4</th>\n",
       "      <td>-0.90</td>\n",
       "      <td>1,024.10</td>\n",
       "      <td>-21.70</td>\n",
       "      <td>0.00</td>\n",
       "      <td>292.50</td>\n",
       "      <td>2.50</td>\n",
       "    </tr>\n",
       "    <tr>\n",
       "      <th>...</th>\n",
       "      <td>...</td>\n",
       "      <td>...</td>\n",
       "      <td>...</td>\n",
       "      <td>...</td>\n",
       "      <td>...</td>\n",
       "      <td>...</td>\n",
       "    </tr>\n",
       "    <tr>\n",
       "      <th>35059</th>\n",
       "      <td>12.50</td>\n",
       "      <td>1,013.50</td>\n",
       "      <td>-16.20</td>\n",
       "      <td>0.00</td>\n",
       "      <td>315.00</td>\n",
       "      <td>2.40</td>\n",
       "    </tr>\n",
       "    <tr>\n",
       "      <th>35060</th>\n",
       "      <td>11.60</td>\n",
       "      <td>1,013.60</td>\n",
       "      <td>-15.10</td>\n",
       "      <td>0.00</td>\n",
       "      <td>292.50</td>\n",
       "      <td>0.90</td>\n",
       "    </tr>\n",
       "    <tr>\n",
       "      <th>35061</th>\n",
       "      <td>10.80</td>\n",
       "      <td>1,014.20</td>\n",
       "      <td>-13.30</td>\n",
       "      <td>0.00</td>\n",
       "      <td>315.00</td>\n",
       "      <td>1.10</td>\n",
       "    </tr>\n",
       "    <tr>\n",
       "      <th>35062</th>\n",
       "      <td>10.50</td>\n",
       "      <td>1,014.40</td>\n",
       "      <td>-12.90</td>\n",
       "      <td>0.00</td>\n",
       "      <td>337.50</td>\n",
       "      <td>1.20</td>\n",
       "    </tr>\n",
       "    <tr>\n",
       "      <th>35063</th>\n",
       "      <td>8.60</td>\n",
       "      <td>1,014.10</td>\n",
       "      <td>-15.90</td>\n",
       "      <td>0.00</td>\n",
       "      <td>22.50</td>\n",
       "      <td>1.30</td>\n",
       "    </tr>\n",
       "  </tbody>\n",
       "</table>\n",
       "<p>35064 rows × 6 columns</p>\n",
       "</div>"
      ],
      "text/plain": [
       "component  TEMP     PRES   DEWP  RAIN     wd  WSPM\n",
       "time                                              \n",
       "0          0.30 1,021.90 -19.00  0.00 292.50  2.00\n",
       "1         -0.10 1,022.40 -19.30  0.00 292.50  4.40\n",
       "2         -0.60 1,022.60 -19.70  0.00 292.50  4.70\n",
       "3         -0.70 1,023.50 -20.90  0.00 315.00  2.60\n",
       "4         -0.90 1,024.10 -21.70  0.00 292.50  2.50\n",
       "...         ...      ...    ...   ...    ...   ...\n",
       "35059     12.50 1,013.50 -16.20  0.00 315.00  2.40\n",
       "35060     11.60 1,013.60 -15.10  0.00 292.50  0.90\n",
       "35061     10.80 1,014.20 -13.30  0.00 315.00  1.10\n",
       "35062     10.50 1,014.40 -12.90  0.00 337.50  1.20\n",
       "35063      8.60 1,014.10 -15.90  0.00  22.50  1.30\n",
       "\n",
       "[35064 rows x 6 columns]"
      ]
     },
     "execution_count": 66,
     "metadata": {},
     "output_type": "execute_result"
    }
   ],
   "source": [
    "# example: operating with time series objects:\n",
    "# we can also create a pandas series or dataframe from a time series object\n",
    "df_covF = ts_covF.pd_dataframe()\n",
    "type(df_covF)\n",
    "df_covF"
   ]
  },
  {
   "cell_type": "code",
   "execution_count": 67,
   "metadata": {
    "executionInfo": {
     "elapsed": 6,
     "status": "ok",
     "timestamp": 1670972387162,
     "user": {
      "displayName": "David Hwang",
      "userId": "08387036443170848644"
     },
     "user_tz": 360
    },
    "id": "OZXqzhvogygF"
   },
   "outputs": [],
   "source": [
    "LOAD = False         # True = load previously saved model from disk?  False = (re)train the model\n",
    "SAVE = \"\\_TFT_model_02.pth.tar\"   # file name to save the model under\n",
    "\n",
    "SPLIT = 0.75         # train/test %\n",
    "\n",
    "FIGSIZE = (9, 6)\n",
    "\n",
    "\n",
    "qL1, qL2 = 0.01, 0.10        # percentiles of predictions: lower bounds\n",
    "qU1, qU2 = 1-qL1, 1-qL2,     # upper bounds derived from lower bounds\n",
    "label_q1 = f'{int(qU1 * 100)} / {int(qL1 * 100)} percentile band'\n",
    "label_q2 = f'{int(qU2 * 100)} / {int(qL2 * 100)} percentile band'\n",
    "\n",
    "mpath = os.path.abspath(os.getcwd()) + SAVE     # path and file name to save the model\n"
   ]
  },
  {
   "cell_type": "code",
   "execution_count": 68,
   "metadata": {
    "colab": {
     "base_uri": "https://localhost:8080/",
     "height": 270
    },
    "executionInfo": {
     "elapsed": 124,
     "status": "ok",
     "timestamp": 1670972387280,
     "user": {
      "displayName": "David Hwang",
      "userId": "08387036443170848644"
     },
     "user_tz": 360
    },
    "id": "L_PFVT9GJLmt",
    "outputId": "7d5adaea-d420-46a9-b189-7601c9f14e25"
   },
   "outputs": [
    {
     "name": "stdout",
     "output_type": "stream",
     "text": [
      "training start: 0\n",
      "training end: 26297\n",
      "training duration: 26297\n",
      "test start: 26298\n",
      "test end: 35063\n",
      "test duration: 8765\n",
      "first and last row of scaled price time series:\n"
     ]
    },
    {
     "data": {
      "text/html": [
       "<div>\n",
       "<style scoped>\n",
       "    .dataframe tbody tr th:only-of-type {\n",
       "        vertical-align: middle;\n",
       "    }\n",
       "\n",
       "    .dataframe tbody tr th {\n",
       "        vertical-align: top;\n",
       "    }\n",
       "\n",
       "    .dataframe thead th {\n",
       "        text-align: right;\n",
       "    }\n",
       "</style>\n",
       "<table border=\"1\" class=\"dataframe\">\n",
       "  <thead>\n",
       "    <tr style=\"text-align: right;\">\n",
       "      <th>component</th>\n",
       "      <th>PM2.5</th>\n",
       "    </tr>\n",
       "    <tr>\n",
       "      <th>time</th>\n",
       "      <th></th>\n",
       "    </tr>\n",
       "  </thead>\n",
       "  <tbody>\n",
       "    <tr>\n",
       "      <th>0</th>\n",
       "      <td>0.01</td>\n",
       "    </tr>\n",
       "    <tr>\n",
       "      <th>35063</th>\n",
       "      <td>0.01</td>\n",
       "    </tr>\n",
       "  </tbody>\n",
       "</table>\n",
       "</div>"
      ],
      "text/plain": [
       "component  PM2.5\n",
       "time            \n",
       "0           0.01\n",
       "35063       0.01"
      ]
     },
     "execution_count": 68,
     "metadata": {},
     "output_type": "execute_result"
    }
   ],
   "source": [
    "# train/test split and scaling of target variable\n",
    "#https://github.com/h3ik0th/ES_energy_Transformer/blob/main/TFT_energy_03.ipynb\n",
    "# ts_p is the target variable\n",
    "# train/test split and scaling of target variable\n",
    "ts_train, ts_test = ts_P.split_after(SPLIT)\n",
    "print(\"training start:\", ts_train.start_time())\n",
    "print(\"training end:\", ts_train.end_time())\n",
    "print(\"training duration:\",ts_train.duration)\n",
    "print(\"test start:\", ts_test.start_time())\n",
    "print(\"test end:\", ts_test.end_time())\n",
    "print(\"test duration:\", ts_test.duration)\n",
    "\n",
    "\n",
    "scalerP = Scaler()\n",
    "scalerP.fit_transform(ts_train)\n",
    "ts_ttrain = scalerP.transform(ts_train)\n",
    "ts_ttest = scalerP.transform(ts_test)    \n",
    "ts_t = scalerP.transform(ts_P)\n",
    "\n",
    "# make sure data are of type float\n",
    "ts_t = ts_t.astype(np.float32)\n",
    "ts_ttrain = ts_ttrain.astype(np.float32)\n",
    "ts_ttest = ts_ttest.astype(np.float32)\n",
    "\n",
    "print(\"first and last row of scaled price time series:\")\n",
    "pd.options.display.float_format = '{:,.2f}'.format\n",
    "ts_t.pd_dataframe().iloc[[0,-1]]"
   ]
  },
  {
   "cell_type": "code",
   "execution_count": 69,
   "metadata": {
    "executionInfo": {
     "elapsed": 5,
     "status": "ok",
     "timestamp": 1670972387280,
     "user": {
      "displayName": "David Hwang",
      "userId": "08387036443170848644"
     },
     "user_tz": 360
    },
    "id": "SuEuSdYjPRpJ"
   },
   "outputs": [],
   "source": [
    "# print(\"\\nYear:\")\n",
    "# print(df1.date)\n",
    "# print(df1.date.dt.year.head())\n",
    "# print(\"\\nMonth:\")\n",
    "# print(df1.date.dt.month.head())\n",
    "# print(\"\\nDay:\")\n",
    "# print(df1.date.dt.day.head())\n",
    "# print(\"\\nHour:\")\n",
    "# print(df1.date.dt.hour.head())"
   ]
  },
  {
   "cell_type": "code",
   "execution_count": 70,
   "metadata": {
    "colab": {
     "base_uri": "https://localhost:8080/",
     "height": 161
    },
    "executionInfo": {
     "elapsed": 137,
     "status": "ok",
     "timestamp": 1670972387412,
     "user": {
      "displayName": "David Hwang",
      "userId": "08387036443170848644"
     },
     "user_tz": 360
    },
    "id": "zaa8T-EzhDoN",
    "outputId": "75ea999d-deeb-464b-f26b-eba0f1a9705c"
   },
   "outputs": [
    {
     "name": "stdout",
     "output_type": "stream",
     "text": [
      "first and last row of scaled feature covariates:\n"
     ]
    },
    {
     "data": {
      "text/html": [
       "<div>\n",
       "<style scoped>\n",
       "    .dataframe tbody tr th:only-of-type {\n",
       "        vertical-align: middle;\n",
       "    }\n",
       "\n",
       "    .dataframe tbody tr th {\n",
       "        vertical-align: top;\n",
       "    }\n",
       "\n",
       "    .dataframe thead th {\n",
       "        text-align: right;\n",
       "    }\n",
       "</style>\n",
       "<table border=\"1\" class=\"dataframe\">\n",
       "  <thead>\n",
       "    <tr style=\"text-align: right;\">\n",
       "      <th>component</th>\n",
       "      <th>TEMP</th>\n",
       "      <th>PRES</th>\n",
       "      <th>DEWP</th>\n",
       "      <th>RAIN</th>\n",
       "      <th>wd</th>\n",
       "      <th>WSPM</th>\n",
       "    </tr>\n",
       "    <tr>\n",
       "      <th>time</th>\n",
       "      <th></th>\n",
       "      <th></th>\n",
       "      <th></th>\n",
       "      <th></th>\n",
       "      <th></th>\n",
       "      <th></th>\n",
       "    </tr>\n",
       "  </thead>\n",
       "  <tbody>\n",
       "    <tr>\n",
       "      <th>0</th>\n",
       "      <td>0.30</td>\n",
       "      <td>0.65</td>\n",
       "      <td>0.26</td>\n",
       "      <td>0.00</td>\n",
       "      <td>0.87</td>\n",
       "      <td>0.15</td>\n",
       "    </tr>\n",
       "    <tr>\n",
       "      <th>35063</th>\n",
       "      <td>0.44</td>\n",
       "      <td>0.51</td>\n",
       "      <td>0.30</td>\n",
       "      <td>0.00</td>\n",
       "      <td>0.07</td>\n",
       "      <td>0.10</td>\n",
       "    </tr>\n",
       "  </tbody>\n",
       "</table>\n",
       "</div>"
      ],
      "text/plain": [
       "component  TEMP  PRES  DEWP  RAIN   wd  WSPM\n",
       "time                                        \n",
       "0          0.30  0.65  0.26  0.00 0.87  0.15\n",
       "35063      0.44  0.51  0.30  0.00 0.07  0.10"
      ]
     },
     "execution_count": 70,
     "metadata": {},
     "output_type": "execute_result"
    }
   ],
   "source": [
    "# train/test split and scaling of feature covariates\n",
    "covF_train, covF_test = ts_covF.split_after(SPLIT)\n",
    "\n",
    "scalerF = Scaler()\n",
    "scalerF.fit_transform(covF_train)\n",
    "covF_ttrain = scalerF.transform(covF_train) \n",
    "covF_ttest = scalerF.transform(covF_test)   \n",
    "covF_t = scalerF.transform(ts_covF)  \n",
    "\n",
    "# make sure data are of type float\n",
    "covF_ttrain = covF_ttrain.astype(np.float32)\n",
    "covF_ttest = covF_ttest.astype(np.float32)\n",
    "\n",
    "pd.options.display.float_format = '{:.2f}'.format\n",
    "print(\"first and last row of scaled feature covariates:\")\n",
    "covF_t.pd_dataframe().iloc[[0,-1]]"
   ]
  },
  {
   "cell_type": "code",
   "execution_count": 71,
   "metadata": {
    "executionInfo": {
     "elapsed": 136,
     "status": "ok",
     "timestamp": 1670972387413,
     "user": {
      "displayName": "David Hwang",
      "userId": "08387036443170848644"
     },
     "user_tz": 360
    },
    "id": "9xgMBcD2S2X9"
   },
   "outputs": [],
   "source": [
    "# create time series object for target variable\n",
    "df1[\"hour\"] =df1.date.dt.hour\n",
    "df1[\"week\"] =df1.date.dt.week\n",
    "df1[\"month\"] =df1.date.dt.month\n",
    "df1[\"year\"] =df1.date.dt.year\n",
    "\n",
    "cov_date = TimeSeries.from_series(df1[\"hour\"]) \n",
    "cov_week = TimeSeries.from_series(df1[\"week\"]) \n",
    "cov_month = TimeSeries.from_series(df1[\"month\"]) \n",
    "cov_year = TimeSeries.from_series(df1[\"year\"]) \n",
    "\n",
    "# stack\n",
    "cov_date = cov_date.stack(cov_week)\n",
    "cov_date = cov_date.stack(cov_month)\n",
    "cov_date = cov_date.stack(cov_year)\n",
    "cov_date.columns\n",
    "covT = cov_date"
   ]
  },
  {
   "cell_type": "code",
   "execution_count": 72,
   "metadata": {
    "colab": {
     "base_uri": "https://localhost:8080/",
     "height": 161
    },
    "executionInfo": {
     "elapsed": 5,
     "status": "ok",
     "timestamp": 1670972387413,
     "user": {
      "displayName": "David Hwang",
      "userId": "08387036443170848644"
     },
     "user_tz": 360
    },
    "id": "0QfhUbSHUZK_",
    "outputId": "9ec17a42-18a7-4c8a-f55e-6844eb306418"
   },
   "outputs": [
    {
     "name": "stdout",
     "output_type": "stream",
     "text": [
      "first and last row of unscaled time covariates:\n"
     ]
    },
    {
     "data": {
      "text/html": [
       "<div>\n",
       "<style scoped>\n",
       "    .dataframe tbody tr th:only-of-type {\n",
       "        vertical-align: middle;\n",
       "    }\n",
       "\n",
       "    .dataframe tbody tr th {\n",
       "        vertical-align: top;\n",
       "    }\n",
       "\n",
       "    .dataframe thead th {\n",
       "        text-align: right;\n",
       "    }\n",
       "</style>\n",
       "<table border=\"1\" class=\"dataframe\">\n",
       "  <thead>\n",
       "    <tr style=\"text-align: right;\">\n",
       "      <th>component</th>\n",
       "      <th>hour</th>\n",
       "      <th>week</th>\n",
       "      <th>month</th>\n",
       "      <th>year</th>\n",
       "    </tr>\n",
       "    <tr>\n",
       "      <th>time</th>\n",
       "      <th></th>\n",
       "      <th></th>\n",
       "      <th></th>\n",
       "      <th></th>\n",
       "    </tr>\n",
       "  </thead>\n",
       "  <tbody>\n",
       "    <tr>\n",
       "      <th>0</th>\n",
       "      <td>0</td>\n",
       "      <td>9</td>\n",
       "      <td>3</td>\n",
       "      <td>2013</td>\n",
       "    </tr>\n",
       "    <tr>\n",
       "      <th>35063</th>\n",
       "      <td>23</td>\n",
       "      <td>9</td>\n",
       "      <td>2</td>\n",
       "      <td>2017</td>\n",
       "    </tr>\n",
       "  </tbody>\n",
       "</table>\n",
       "</div>"
      ],
      "text/plain": [
       "component  hour  week  month  year\n",
       "time                              \n",
       "0             0     9      3  2013\n",
       "35063        23     9      2  2017"
      ]
     },
     "execution_count": 72,
     "metadata": {},
     "output_type": "execute_result"
    }
   ],
   "source": [
    "covT = covT.astype(np.float32)\n",
    "\n",
    "# train/test split\n",
    "covT_train, covT_test = covT.split_after(ts_train.end_time())\n",
    "\n",
    "\n",
    "# rescale the covariates: fitting on the training set\n",
    "scalerT = Scaler()\n",
    "scalerT.fit(covT_train)\n",
    "covT_ttrain = scalerT.transform(covT_train)\n",
    "covT_ttest = scalerT.transform(covT_test)\n",
    "covT_t = scalerT.transform(covT)\n",
    "\n",
    "covT_t = covT_t.astype(np.float32)\n",
    "\n",
    "\n",
    "pd.options.display.float_format = '{:.0f}'.format\n",
    "print(\"first and last row of unscaled time covariates:\")\n",
    "covT.pd_dataframe().iloc[[0,-1]]"
   ]
  },
  {
   "cell_type": "code",
   "execution_count": 73,
   "metadata": {
    "colab": {
     "base_uri": "https://localhost:8080/"
    },
    "executionInfo": {
     "elapsed": 113,
     "status": "ok",
     "timestamp": 1670974534271,
     "user": {
      "displayName": "David Hwang",
      "userId": "08387036443170848644"
     },
     "user_tz": 360
    },
    "id": "xKxhtkaoV7DK",
    "outputId": "9675b6c7-a7fa-470d-f88d-3c8dba73a1a0"
   },
   "outputs": [
    {
     "data": {
      "text/plain": [
       "Index(['PM2.5'], dtype='object', name='component')"
      ]
     },
     "execution_count": 73,
     "metadata": {},
     "output_type": "execute_result"
    }
   ],
   "source": [
    "ts_t.columns"
   ]
  },
  {
   "cell_type": "code",
   "execution_count": 74,
   "metadata": {
    "colab": {
     "base_uri": "https://localhost:8080/"
    },
    "executionInfo": {
     "elapsed": 4,
     "status": "ok",
     "timestamp": 1670972387585,
     "user": {
      "displayName": "David Hwang",
      "userId": "08387036443170848644"
     },
     "user_tz": 360
    },
    "id": "yaddjT4aV42I",
    "outputId": "38a97e16-0e41-4085-d870-6023ccd82e12"
   },
   "outputs": [
    {
     "name": "stdout",
     "output_type": "stream",
     "text": [
      "first and last row of unscaled covariates:\n"
     ]
    },
    {
     "data": {
      "text/plain": [
       "Index(['TEMP', 'PRES', 'DEWP', 'RAIN', 'wd', 'WSPM', 'hour', 'week', 'month',\n",
       "       'year'],\n",
       "      dtype='object', name='component')"
      ]
     },
     "execution_count": 74,
     "metadata": {},
     "output_type": "execute_result"
    }
   ],
   "source": [
    "# combine feature and time covariates along component dimension: axis=1\n",
    "ts_cov = ts_covF.concatenate( covT.slice_intersect(ts_covF), axis=1 )                      # unscaled F+T\n",
    "cov_t = covF_t.concatenate( covT_t.slice_intersect(covF_t), axis=1 )                       # scaled F+T\n",
    "cov_ttrain = covF_ttrain.concatenate( covT_ttrain.slice_intersect(covF_ttrain), axis=1 )   # scaled F+T training set\n",
    "cov_ttest = covF_ttest.concatenate( covT_ttest.slice_intersect(covF_ttest), axis=1 )       # scaled F+T test set\n",
    "\n",
    "\n",
    "pd.options.display.float_format = '{:.2f}'.format\n",
    "print(\"first and last row of unscaled covariates:\")\n",
    "cov_t.pd_dataframe().iloc[[0,-1]]\n",
    "cov_t.columns"
   ]
  },
  {
   "cell_type": "code",
   "execution_count": 75,
   "metadata": {
    "colab": {
     "base_uri": "https://localhost:8080/",
     "height": 143
    },
    "executionInfo": {
     "elapsed": 4,
     "status": "ok",
     "timestamp": 1670972387586,
     "user": {
      "displayName": "David Hwang",
      "userId": "08387036443170848644"
     },
     "user_tz": 360
    },
    "id": "V5ptISFObjYC",
    "outputId": "264ee582-3d57-4cd6-85c1-1b36a5f26939"
   },
   "outputs": [
    {
     "data": {
      "text/html": [
       "<div>\n",
       "<style scoped>\n",
       "    .dataframe tbody tr th:only-of-type {\n",
       "        vertical-align: middle;\n",
       "    }\n",
       "\n",
       "    .dataframe tbody tr th {\n",
       "        vertical-align: top;\n",
       "    }\n",
       "\n",
       "    .dataframe thead th {\n",
       "        text-align: right;\n",
       "    }\n",
       "</style>\n",
       "<table border=\"1\" class=\"dataframe\">\n",
       "  <thead>\n",
       "    <tr style=\"text-align: right;\">\n",
       "      <th>component</th>\n",
       "      <th>TEMP</th>\n",
       "      <th>PRES</th>\n",
       "      <th>DEWP</th>\n",
       "      <th>RAIN</th>\n",
       "      <th>wd</th>\n",
       "      <th>WSPM</th>\n",
       "      <th>hour</th>\n",
       "      <th>week</th>\n",
       "      <th>month</th>\n",
       "      <th>year</th>\n",
       "    </tr>\n",
       "    <tr>\n",
       "      <th>time</th>\n",
       "      <th></th>\n",
       "      <th></th>\n",
       "      <th></th>\n",
       "      <th></th>\n",
       "      <th></th>\n",
       "      <th></th>\n",
       "      <th></th>\n",
       "      <th></th>\n",
       "      <th></th>\n",
       "      <th></th>\n",
       "    </tr>\n",
       "  </thead>\n",
       "  <tbody>\n",
       "    <tr>\n",
       "      <th>0</th>\n",
       "      <td>0.30</td>\n",
       "      <td>0.65</td>\n",
       "      <td>0.26</td>\n",
       "      <td>0.00</td>\n",
       "      <td>0.87</td>\n",
       "      <td>0.15</td>\n",
       "      <td>0.00</td>\n",
       "      <td>0.15</td>\n",
       "      <td>0.18</td>\n",
       "      <td>0.00</td>\n",
       "    </tr>\n",
       "    <tr>\n",
       "      <th>26297</th>\n",
       "      <td>0.34</td>\n",
       "      <td>0.72</td>\n",
       "      <td>0.29</td>\n",
       "      <td>0.00</td>\n",
       "      <td>0.53</td>\n",
       "      <td>0.15</td>\n",
       "      <td>0.74</td>\n",
       "      <td>0.15</td>\n",
       "      <td>0.09</td>\n",
       "      <td>1.00</td>\n",
       "    </tr>\n",
       "  </tbody>\n",
       "</table>\n",
       "</div>"
      ],
      "text/plain": [
       "component  TEMP  PRES  DEWP  RAIN   wd  WSPM  hour  week  month  year\n",
       "time                                                                 \n",
       "0          0.30  0.65  0.26  0.00 0.87  0.15  0.00  0.15   0.18  0.00\n",
       "26297      0.34  0.72  0.29  0.00 0.53  0.15  0.74  0.15   0.09  1.00"
      ]
     },
     "execution_count": 75,
     "metadata": {},
     "output_type": "execute_result"
    }
   ],
   "source": [
    "cov_ttrain.pd_dataframe().iloc[[0,-1]]"
   ]
  },
  {
   "cell_type": "code",
   "execution_count": 76,
   "metadata": {
    "executionInfo": {
     "elapsed": 3,
     "status": "ok",
     "timestamp": 1670972387586,
     "user": {
      "displayName": "David Hwang",
      "userId": "08387036443170848644"
     },
     "user_tz": 360
    },
    "id": "FNfKoJU_TXNU"
   },
   "outputs": [],
   "source": [
    "# understanding covariates https://unit8.com/resources/time-series-forecasting-using-past-and-future-external-data-with-darts/\n",
    "EPOCHS = 5\n",
    "INLEN = 48          # input size\n",
    "FEAT = 48           # d_model = number of expected features in the inputs, up to 512    \n",
    "HEADS = 8           # default 8\n",
    "ENCODE = 12         # encoder layers\n",
    "DECODE = 12         # decoder layers\n",
    "DIM_FF = 512        # dimensions of the feedforward network, default 2048\n",
    "BATCH = 16          # batch size\n",
    "ACTF = \"relu\"       # activation function, relu (default) or gelu\n",
    "SCHLEARN = None     # a PyTorch learning rate scheduler; None = constant rate\n",
    "LEARN = 1e-4        # learning rate\n",
    "VALWAIT = 1         # epochs to wait before evaluating the loss on the test/validation set\n",
    "DROPOUT = 0.1       # dropout rate\n",
    "N_FC = 24            # output size\n",
    "\n",
    "RAND = 58           # random seed\n",
    "N_SAMPLES = 100     # number of times a prediction is sampled from a probabilistic model\n",
    "N_JOBS = 3          # parallel processors to use;  -1 = all processors\n",
    "\n",
    "# default quantiles for QuantileRegression\n",
    "QUANTILES = [ 0.2, 0.5, 0.8]"
   ]
  },
  {
   "cell_type": "code",
   "execution_count": 77,
   "metadata": {
    "executionInfo": {
     "elapsed": 125,
     "status": "ok",
     "timestamp": 1670972387708,
     "user": {
      "displayName": "David Hwang",
      "userId": "08387036443170848644"
     },
     "user_tz": 360
    },
    "id": "8iepJ8eqMHU7"
   },
   "outputs": [],
   "source": [
    "model = TransformerModel(\n",
    "                    input_chunk_length = INLEN,\n",
    "                    output_chunk_length = N_FC,\n",
    "                    batch_size = BATCH,\n",
    "                    n_epochs = EPOCHS,\n",
    "                    model_name = \"Transformer_PM2.5\",\n",
    "                    nr_epochs_val_period = VALWAIT,\n",
    "                    d_model = FEAT,\n",
    "                    nhead = HEADS,\n",
    "                    num_encoder_layers = ENCODE,\n",
    "                    num_decoder_layers = DECODE,\n",
    "                    dim_feedforward = DIM_FF,\n",
    "                    dropout = DROPOUT,\n",
    "                    activation = ACTF,\n",
    "                    random_state=RAND,\n",
    "                    likelihood=QuantileRegression(quantiles=QUANTILES), \n",
    "                    optimizer_kwargs={'lr': LEARN},\n",
    "                    save_checkpoints=True,\n",
    "                    force_reset=True\n",
    "                    )"
   ]
  },
  {
   "cell_type": "code",
   "execution_count": 78,
   "metadata": {
    "executionInfo": {
     "elapsed": 4184,
     "status": "ok",
     "timestamp": 1670972391890,
     "user": {
      "displayName": "David Hwang",
      "userId": "08387036443170848644"
     },
     "user_tz": 360
    },
    "id": "1WPcxS7UcMyo"
   },
   "outputs": [
    {
     "name": "stdout",
     "output_type": "stream",
     "text": [
      "Note: you may need to restart the kernel to use updated packages.\n"
     ]
    }
   ],
   "source": [
    "%pip install -Uqq ipdb\n",
    "import ipdb"
   ]
  },
  {
   "cell_type": "code",
   "execution_count": null,
   "metadata": {
    "colab": {
     "base_uri": "https://localhost:8080/",
     "height": 67,
     "referenced_widgets": [
      "30b5e17b2305436587574003714f1527",
      "6f4ea82450134c408590e99b300c8600",
      "5297552476fa446d8ceee86230e480ad",
      "e1e90839b8be423eb01d1fcabbef8f4a",
      "2efe508460154ea5b3725cfecd30060e",
      "e89e712183b54bd3a898d68b446f01d9",
      "0c70058544cd4e4099ecc3c80babea29",
      "9dc9820a488b4a57b1444966ed769f20",
      "db30ab49d58e4df5879e8736316cc5b5",
      "3fe2c1ac11664dba8e76119270118d19",
      "bbcf0799fe484ba9b37c15833e186212"
     ]
    },
    "executionInfo": {
     "elapsed": 468941,
     "status": "ok",
     "timestamp": 1670972860822,
     "user": {
      "displayName": "David Hwang",
      "userId": "08387036443170848644"
     },
     "user_tz": 360
    },
    "id": "DRt4lA9GMI9E",
    "outputId": "a56f926e-4c4a-4d15-c89e-2a15617245d1"
   },
   "outputs": [
    {
     "name": "stdout",
     "output_type": "stream",
     "text": [
      "Epoch 3:  50%|████▉     | 813/1640 [13:14<13:28,  1.02it/s, loss=0.0541, train_loss=0.0596] "
     ]
    }
   ],
   "source": [
    "# training: load a saved model or (re)train\n",
    "if LOAD:\n",
    "    print(\"have loaded a previously saved model from disk:\" + mpath)\n",
    "    model = TransformerModel.load_model(mpath)                            # load previously model from disk \n",
    "else:\n",
    "    model.fit(  ts_ttrain, \n",
    "                past_covariates=cov_ttrain, \n",
    "                verbose=True)\n",
    "    print(\"have saved the model after training:\", mpath)\n",
    "    model.save_model(mpath)"
   ]
  },
  {
   "cell_type": "code",
   "execution_count": null,
   "metadata": {
    "executionInfo": {
     "elapsed": 1356157,
     "status": "ok",
     "timestamp": 1670974216963,
     "user": {
      "displayName": "David Hwang",
      "userId": "08387036443170848644"
     },
     "user_tz": 360
    },
    "id": "tgeuItwKL8l7"
   },
   "outputs": [],
   "source": [
    "%%capture\n",
    "ts_tpred = model.historical_forecasts(\n",
    "    ts_t,\n",
    "    past_covariates=cov_t,\n",
    "    start=0.75,\n",
    "    forecast_horizon=24,\n",
    "    stride=1,\n",
    "    retrain=False,\n",
    "    verbose=True,\n",
    ")\n",
    "# takes long time to do"
   ]
  },
  {
   "cell_type": "code",
   "execution_count": null,
   "metadata": {
    "colab": {
     "base_uri": "https://localhost:8080/",
     "height": 482
    },
    "executionInfo": {
     "elapsed": 734,
     "status": "ok",
     "timestamp": 1670974588968,
     "user": {
      "displayName": "David Hwang",
      "userId": "08387036443170848644"
     },
     "user_tz": 360
    },
    "id": "91l_xbX-tX8z",
    "outputId": "9cbd3be5-3ffb-4a9d-b84a-c772913d504b"
   },
   "outputs": [],
   "source": [
    "# unscale\n",
    "ts_q = scalerP.inverse_transform(ts_tpred)\n",
    "\n",
    "ts_P.plot(label=\"actual\")\n",
    "ts_q.plot(label=\"forecast\")\n",
    "plt.legend()\n",
    "print(\"RMSE (using covariates) = {:.2f}\".format(rmse(ts_P, ts_q)))"
   ]
  },
  {
   "cell_type": "code",
   "execution_count": null,
   "metadata": {
    "colab": {
     "base_uri": "https://localhost:8080/",
     "height": 242
    },
    "executionInfo": {
     "elapsed": 115,
     "status": "ok",
     "timestamp": 1670974358477,
     "user": {
      "displayName": "David Hwang",
      "userId": "08387036443170848644"
     },
     "user_tz": 360
    },
    "id": "RtlJWx9KkM-l",
    "outputId": "30a66d6b-550d-44cf-8a09-89968cc9506f"
   },
   "outputs": [],
   "source": [
    "# retrieve forecast series for chosen quantiles, \n",
    "# inverse-transform each series,\n",
    "# insert them as columns in a new dataframe dfY\n",
    "# q50_RMSE = np.inf\n",
    "# q50_MAPE = np.inf\n",
    "# ts_q50 = None\n",
    "# pd.options.display.float_format = '{:,.2f}'.format\n",
    "# dfY = pd.DataFrame()\n",
    "# dfY[\"Actual\"] = TimeSeries.pd_series(ts_test)\n",
    "\n",
    "\n",
    "# # helper function: get forecast values for selected quantile q and insert them in dataframe dfY\n",
    "# def predQ(ts_t, q):\n",
    "#     ts_q = scalerP.inverse_transform(ts_t)\n",
    "#     s = TimeSeries.pd_series(ts_q)\n",
    "#     header = \"Q\" + format(int(q*100), \"02d\")\n",
    "#     dfY[header] = s\n",
    "#     if q==0.5:\n",
    "#         ts_q50 = ts_q\n",
    "#         q50_RMSE = rmse(ts_q50, ts_test)\n",
    "#         q50_MAPE = mape(ts_q50, ts_test) \n",
    "#         print(\"RMSE:\", f'{q50_RMSE:.2f}')\n",
    "#         print(\"MAPE:\", f'{q50_MAPE:.2f}')\n",
    "  \n",
    "    \n",
    "# # call helper function predQ, once for every quantile\n",
    "# _ = [predQ(ts_tpred, q) for q in QUANTILES]\n",
    "\n",
    "# # move Q50 column to the left of the Actual column\n",
    "# col = dfY.pop(\"Q50\")\n",
    "# dfY.insert(1, col.name, col)\n",
    "# dfY.iloc[np.r_[0:2, -2:0]]\n"
   ]
  },
  {
   "cell_type": "code",
   "execution_count": null,
   "metadata": {
    "colab": {
     "base_uri": "https://localhost:8080/",
     "height": 632
    },
    "executionInfo": {
     "elapsed": 1397,
     "status": "ok",
     "timestamp": 1670974373595,
     "user": {
      "displayName": "David Hwang",
      "userId": "08387036443170848644"
     },
     "user_tz": 360
    },
    "id": "NEGEpTDa5kHZ",
    "outputId": "b71fb2bc-d471-4772-b0ca-3275d53b33c5"
   },
   "outputs": [],
   "source": [
    "# plot the forecast\n",
    "# plt.figure(100, figsize=(20, 7))\n",
    "# sns.set(font_scale=1.3)\n",
    "# p = sns.lineplot(x = \"time\", y = \"Q50\", data = dfY, palette=\"coolwarm\")\n",
    "# sns.lineplot(x = \"time\", y = \"Actual\", data = dfY, palette=\"coolwarm\")\n",
    "# plt.legend(labels=[\"forecast median PM2.5 Q50\", \"PM2.5\"])\n",
    "# p.set_ylabel(\"PM2.5\")\n",
    "# p.set_xlabel(\"\")\n",
    "# p.set_title(\"PM2.5 50th quantile\");"
   ]
  },
  {
   "cell_type": "code",
   "execution_count": null,
   "metadata": {},
   "outputs": [],
   "source": []
  }
 ],
 "metadata": {
  "colab": {
   "provenance": []
  },
  "gpuClass": "standard",
  "kernelspec": {
   "display_name": "Python 3 (my_tensorflow_env2)",
   "language": "python",
   "name": "my_tensorflow_env"
  },
  "language_info": {
   "codemirror_mode": {
    "name": "ipython",
    "version": 3
   },
   "file_extension": ".py",
   "mimetype": "text/x-python",
   "name": "python",
   "nbconvert_exporter": "python",
   "pygments_lexer": "ipython3",
   "version": "3.10.6"
  },
  "widgets": {
   "application/vnd.jupyter.widget-state+json": {
    "0c70058544cd4e4099ecc3c80babea29": {
     "model_module": "@jupyter-widgets/controls",
     "model_module_version": "1.5.0",
     "model_name": "DescriptionStyleModel",
     "state": {
      "_model_module": "@jupyter-widgets/controls",
      "_model_module_version": "1.5.0",
      "_model_name": "DescriptionStyleModel",
      "_view_count": null,
      "_view_module": "@jupyter-widgets/base",
      "_view_module_version": "1.2.0",
      "_view_name": "StyleView",
      "description_width": ""
     }
    },
    "2efe508460154ea5b3725cfecd30060e": {
     "model_module": "@jupyter-widgets/base",
     "model_module_version": "1.2.0",
     "model_name": "LayoutModel",
     "state": {
      "_model_module": "@jupyter-widgets/base",
      "_model_module_version": "1.2.0",
      "_model_name": "LayoutModel",
      "_view_count": null,
      "_view_module": "@jupyter-widgets/base",
      "_view_module_version": "1.2.0",
      "_view_name": "LayoutView",
      "align_content": null,
      "align_items": null,
      "align_self": null,
      "border": null,
      "bottom": null,
      "display": "inline-flex",
      "flex": null,
      "flex_flow": "row wrap",
      "grid_area": null,
      "grid_auto_columns": null,
      "grid_auto_flow": null,
      "grid_auto_rows": null,
      "grid_column": null,
      "grid_gap": null,
      "grid_row": null,
      "grid_template_areas": null,
      "grid_template_columns": null,
      "grid_template_rows": null,
      "height": null,
      "justify_content": null,
      "justify_items": null,
      "left": null,
      "margin": null,
      "max_height": null,
      "max_width": null,
      "min_height": null,
      "min_width": null,
      "object_fit": null,
      "object_position": null,
      "order": null,
      "overflow": null,
      "overflow_x": null,
      "overflow_y": null,
      "padding": null,
      "right": null,
      "top": null,
      "visibility": null,
      "width": "100%"
     }
    },
    "30b5e17b2305436587574003714f1527": {
     "model_module": "@jupyter-widgets/controls",
     "model_module_version": "1.5.0",
     "model_name": "HBoxModel",
     "state": {
      "_dom_classes": [],
      "_model_module": "@jupyter-widgets/controls",
      "_model_module_version": "1.5.0",
      "_model_name": "HBoxModel",
      "_view_count": null,
      "_view_module": "@jupyter-widgets/controls",
      "_view_module_version": "1.5.0",
      "_view_name": "HBoxView",
      "box_style": "",
      "children": [
       "IPY_MODEL_6f4ea82450134c408590e99b300c8600",
       "IPY_MODEL_5297552476fa446d8ceee86230e480ad",
       "IPY_MODEL_e1e90839b8be423eb01d1fcabbef8f4a"
      ],
      "layout": "IPY_MODEL_2efe508460154ea5b3725cfecd30060e"
     }
    },
    "3fe2c1ac11664dba8e76119270118d19": {
     "model_module": "@jupyter-widgets/base",
     "model_module_version": "1.2.0",
     "model_name": "LayoutModel",
     "state": {
      "_model_module": "@jupyter-widgets/base",
      "_model_module_version": "1.2.0",
      "_model_name": "LayoutModel",
      "_view_count": null,
      "_view_module": "@jupyter-widgets/base",
      "_view_module_version": "1.2.0",
      "_view_name": "LayoutView",
      "align_content": null,
      "align_items": null,
      "align_self": null,
      "border": null,
      "bottom": null,
      "display": null,
      "flex": null,
      "flex_flow": null,
      "grid_area": null,
      "grid_auto_columns": null,
      "grid_auto_flow": null,
      "grid_auto_rows": null,
      "grid_column": null,
      "grid_gap": null,
      "grid_row": null,
      "grid_template_areas": null,
      "grid_template_columns": null,
      "grid_template_rows": null,
      "height": null,
      "justify_content": null,
      "justify_items": null,
      "left": null,
      "margin": null,
      "max_height": null,
      "max_width": null,
      "min_height": null,
      "min_width": null,
      "object_fit": null,
      "object_position": null,
      "order": null,
      "overflow": null,
      "overflow_x": null,
      "overflow_y": null,
      "padding": null,
      "right": null,
      "top": null,
      "visibility": null,
      "width": null
     }
    },
    "5297552476fa446d8ceee86230e480ad": {
     "model_module": "@jupyter-widgets/controls",
     "model_module_version": "1.5.0",
     "model_name": "FloatProgressModel",
     "state": {
      "_dom_classes": [],
      "_model_module": "@jupyter-widgets/controls",
      "_model_module_version": "1.5.0",
      "_model_name": "FloatProgressModel",
      "_view_count": null,
      "_view_module": "@jupyter-widgets/controls",
      "_view_module_version": "1.5.0",
      "_view_name": "ProgressView",
      "bar_style": "success",
      "description": "",
      "description_tooltip": null,
      "layout": "IPY_MODEL_9dc9820a488b4a57b1444966ed769f20",
      "max": 1592,
      "min": 0,
      "orientation": "horizontal",
      "style": "IPY_MODEL_db30ab49d58e4df5879e8736316cc5b5",
      "value": 1592
     }
    },
    "6f4ea82450134c408590e99b300c8600": {
     "model_module": "@jupyter-widgets/controls",
     "model_module_version": "1.5.0",
     "model_name": "HTMLModel",
     "state": {
      "_dom_classes": [],
      "_model_module": "@jupyter-widgets/controls",
      "_model_module_version": "1.5.0",
      "_model_name": "HTMLModel",
      "_view_count": null,
      "_view_module": "@jupyter-widgets/controls",
      "_view_module_version": "1.5.0",
      "_view_name": "HTMLView",
      "description": "",
      "description_tooltip": null,
      "layout": "IPY_MODEL_e89e712183b54bd3a898d68b446f01d9",
      "placeholder": "​",
      "style": "IPY_MODEL_0c70058544cd4e4099ecc3c80babea29",
      "value": "Epoch 0: 100%"
     }
    },
    "9dc9820a488b4a57b1444966ed769f20": {
     "model_module": "@jupyter-widgets/base",
     "model_module_version": "1.2.0",
     "model_name": "LayoutModel",
     "state": {
      "_model_module": "@jupyter-widgets/base",
      "_model_module_version": "1.2.0",
      "_model_name": "LayoutModel",
      "_view_count": null,
      "_view_module": "@jupyter-widgets/base",
      "_view_module_version": "1.2.0",
      "_view_name": "LayoutView",
      "align_content": null,
      "align_items": null,
      "align_self": null,
      "border": null,
      "bottom": null,
      "display": null,
      "flex": "2",
      "flex_flow": null,
      "grid_area": null,
      "grid_auto_columns": null,
      "grid_auto_flow": null,
      "grid_auto_rows": null,
      "grid_column": null,
      "grid_gap": null,
      "grid_row": null,
      "grid_template_areas": null,
      "grid_template_columns": null,
      "grid_template_rows": null,
      "height": null,
      "justify_content": null,
      "justify_items": null,
      "left": null,
      "margin": null,
      "max_height": null,
      "max_width": null,
      "min_height": null,
      "min_width": null,
      "object_fit": null,
      "object_position": null,
      "order": null,
      "overflow": null,
      "overflow_x": null,
      "overflow_y": null,
      "padding": null,
      "right": null,
      "top": null,
      "visibility": null,
      "width": null
     }
    },
    "bbcf0799fe484ba9b37c15833e186212": {
     "model_module": "@jupyter-widgets/controls",
     "model_module_version": "1.5.0",
     "model_name": "DescriptionStyleModel",
     "state": {
      "_model_module": "@jupyter-widgets/controls",
      "_model_module_version": "1.5.0",
      "_model_name": "DescriptionStyleModel",
      "_view_count": null,
      "_view_module": "@jupyter-widgets/base",
      "_view_module_version": "1.2.0",
      "_view_name": "StyleView",
      "description_width": ""
     }
    },
    "db30ab49d58e4df5879e8736316cc5b5": {
     "model_module": "@jupyter-widgets/controls",
     "model_module_version": "1.5.0",
     "model_name": "ProgressStyleModel",
     "state": {
      "_model_module": "@jupyter-widgets/controls",
      "_model_module_version": "1.5.0",
      "_model_name": "ProgressStyleModel",
      "_view_count": null,
      "_view_module": "@jupyter-widgets/base",
      "_view_module_version": "1.2.0",
      "_view_name": "StyleView",
      "bar_color": null,
      "description_width": ""
     }
    },
    "e1e90839b8be423eb01d1fcabbef8f4a": {
     "model_module": "@jupyter-widgets/controls",
     "model_module_version": "1.5.0",
     "model_name": "HTMLModel",
     "state": {
      "_dom_classes": [],
      "_model_module": "@jupyter-widgets/controls",
      "_model_module_version": "1.5.0",
      "_model_name": "HTMLModel",
      "_view_count": null,
      "_view_module": "@jupyter-widgets/controls",
      "_view_module_version": "1.5.0",
      "_view_name": "HTMLView",
      "description": "",
      "description_tooltip": null,
      "layout": "IPY_MODEL_3fe2c1ac11664dba8e76119270118d19",
      "placeholder": "​",
      "style": "IPY_MODEL_bbcf0799fe484ba9b37c15833e186212",
      "value": " 1592/1592 [07:48&lt;00:00,  3.40it/s, loss=0.0753, train_loss=0.0868]"
     }
    },
    "e89e712183b54bd3a898d68b446f01d9": {
     "model_module": "@jupyter-widgets/base",
     "model_module_version": "1.2.0",
     "model_name": "LayoutModel",
     "state": {
      "_model_module": "@jupyter-widgets/base",
      "_model_module_version": "1.2.0",
      "_model_name": "LayoutModel",
      "_view_count": null,
      "_view_module": "@jupyter-widgets/base",
      "_view_module_version": "1.2.0",
      "_view_name": "LayoutView",
      "align_content": null,
      "align_items": null,
      "align_self": null,
      "border": null,
      "bottom": null,
      "display": null,
      "flex": null,
      "flex_flow": null,
      "grid_area": null,
      "grid_auto_columns": null,
      "grid_auto_flow": null,
      "grid_auto_rows": null,
      "grid_column": null,
      "grid_gap": null,
      "grid_row": null,
      "grid_template_areas": null,
      "grid_template_columns": null,
      "grid_template_rows": null,
      "height": null,
      "justify_content": null,
      "justify_items": null,
      "left": null,
      "margin": null,
      "max_height": null,
      "max_width": null,
      "min_height": null,
      "min_width": null,
      "object_fit": null,
      "object_position": null,
      "order": null,
      "overflow": null,
      "overflow_x": null,
      "overflow_y": null,
      "padding": null,
      "right": null,
      "top": null,
      "visibility": null,
      "width": null
     }
    }
   }
  }
 },
 "nbformat": 4,
 "nbformat_minor": 4
}
