{
 "cells": [
  {
   "cell_type": "code",
   "execution_count": 27,
   "id": "dominant-cameroon",
   "metadata": {},
   "outputs": [
    {
     "name": "stdout",
     "output_type": "stream",
     "text": [
      "\n",
      "[205.8 212.9 212.9 ...  15.6  15.8  16.4]\n"
     ]
    }
   ],
   "source": [
    "import pandas as pd\n",
    "data = pd.read_csv('test_dataset.csv')\n",
    "AQI = data.iloc[:, 7].values\n",
    "# displaying selected columns\n",
    "print()\n",
    "# displaying a single column (Population)\n",
    "print(AQI)"
   ]
  },
  {
   "cell_type": "code",
   "execution_count": 28,
   "id": "psychological-internet",
   "metadata": {},
   "outputs": [
    {
     "name": "stdout",
     "output_type": "stream",
     "text": [
      "[191.52284686 190.32611275 187.25368309 ... 107.75385147 109.41200002\n",
      " 111.19070371]\n"
     ]
    }
   ],
   "source": [
    "import numpy as np\n",
    "\n",
    "def average_adiag(x):\n",
    "    \"\"\"Average antidiagonal elements of a 2d array\n",
    "    Parameters:\n",
    "    -----------\n",
    "    x : np.array\n",
    "        2d numpy array of size\n",
    "\n",
    "    Return:\n",
    "    -------\n",
    "    x1d : np.array\n",
    "        1d numpy array representing averaged antediangonal elements of x\n",
    "\n",
    "    \"\"\"\n",
    "    x1d = [np.mean(x[::-1, :].diagonal(i)) for i in\n",
    "           range(-x.shape[0] + 1, x.shape[1])]\n",
    "    return np.array(x1d)\n",
    "    \n",
    "# x = np.arange(12).reshape(4,3)\n",
    "# print(x)\n",
    "load_np = np.load('BiLSTM_average_pred.npy')\n",
    "new_np = average_adiag(load_np)\n",
    "print(new_np)# Online Python compiler (interpreter) to run Python online.\n",
    "# Write Python 3 code in this online editor and run it."
   ]
  },
  {
   "cell_type": "code",
   "execution_count": 29,
   "id": "administrative-harvest",
   "metadata": {},
   "outputs": [
    {
     "data": {
      "text/plain": [
       "8736"
      ]
     },
     "execution_count": 29,
     "metadata": {},
     "output_type": "execute_result"
    }
   ],
   "source": [
    "len(AQI)"
   ]
  },
  {
   "cell_type": "code",
   "execution_count": 30,
   "id": "ecological-bracket",
   "metadata": {},
   "outputs": [
    {
     "data": {
      "text/plain": [
       "8736"
      ]
     },
     "execution_count": 30,
     "metadata": {},
     "output_type": "execute_result"
    }
   ],
   "source": [
    "len(new_np)"
   ]
  },
  {
   "cell_type": "code",
   "execution_count": 31,
   "id": "potential-redhead",
   "metadata": {},
   "outputs": [
    {
     "name": "stdout",
     "output_type": "stream",
     "text": [
      "301315.31177289935\n",
      "34.49122158572566\n"
     ]
    }
   ],
   "source": [
    "error = 0\n",
    "for i in range(len(AQI)):\n",
    "    error += abs(AQI[i] - new_np[i])\n",
    "print(error)\n",
    "print(error/8736)"
   ]
  },
  {
   "cell_type": "code",
   "execution_count": 32,
   "id": "accepted-russia",
   "metadata": {},
   "outputs": [
    {
     "name": "stdout",
     "output_type": "stream",
     "text": [
      "291571.01846544887\n",
      "31\n",
      "33.49466036363571\n"
     ]
    }
   ],
   "source": [
    "error = 0\n",
    "missing = 0\n",
    "for i in range(len(AQI)):\n",
    "    if AQI[i] < 1:\n",
    "        missing += 1\n",
    "    else:\n",
    "        error += abs(AQI[i] - new_np[i])\n",
    "print(error)\n",
    "print(missing)\n",
    "print(error/(8736-missing))"
   ]
  },
  {
   "cell_type": "code",
   "execution_count": null,
   "id": "private-gender",
   "metadata": {},
   "outputs": [],
   "source": []
  }
 ],
 "metadata": {
  "kernelspec": {
   "display_name": "Python 3 (my_tensorflow_env)",
   "language": "python",
   "name": "my_tensorflow_env"
  },
  "language_info": {
   "codemirror_mode": {
    "name": "ipython",
    "version": 3
   },
   "file_extension": ".py",
   "mimetype": "text/x-python",
   "name": "python",
   "nbconvert_exporter": "python",
   "pygments_lexer": "ipython3",
   "version": "3.10.6"
  }
 },
 "nbformat": 4,
 "nbformat_minor": 5
}
