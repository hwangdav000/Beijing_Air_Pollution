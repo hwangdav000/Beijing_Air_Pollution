{
 "cells": [
  {
   "cell_type": "code",
   "execution_count": 1,
   "metadata": {
    "colab": {
     "base_uri": "https://localhost:8080/",
     "height": 73
    },
    "executionInfo": {
     "elapsed": 12006,
     "status": "ok",
     "timestamp": 1668393796676,
     "user": {
      "displayName": "David Hwang",
      "userId": "08387036443170848644"
     },
     "user_tz": 360
    },
    "id": "vP8rJVfNs5OI",
    "outputId": "42372357-ea76-4df1-e3dd-3002479e2f8b"
   },
   "outputs": [],
   "source": [
    "# import data \n",
    "import numpy as np\n",
    "import pandas as df\n",
    "np_folder = 'PRSA_seasons/PRSA_Wanliu_numpy_spring'\n",
    "np_split = np_folder.split('/')\n",
    "np_file = np_split[1]\n",
    "splitter = np_file.split('_')\n",
    "display_name = splitter[0] + '_' + splitter[1]\n",
    "hi = np.load('PRSA_seasons/' + np_file + '.npy', allow_pickle=True)\n",
    "\n",
    "dataframeee = df.DataFrame(hi)\n",
    "dataframeee.columns = ['No', 'year', 'month','day', 'hour','PM2.5', 'PM10', 'SO2', 'NO2', 'CO', 'O3', 'TEMP', 'PRES', 'DEWP', 'RAIN', 'wd', 'WSPM', 'station']\n",
    "dataframeee.to_csv(display_name + '.csv', index=False) # comma separated\n"
   ]
  },
  {
   "cell_type": "code",
   "execution_count": 2,
   "metadata": {
    "colab": {
     "base_uri": "https://localhost:8080/"
    },
    "executionInfo": {
     "elapsed": 2546,
     "status": "ok",
     "timestamp": 1668393799220,
     "user": {
      "displayName": "David Hwang",
      "userId": "08387036443170848644"
     },
     "user_tz": 360
    },
    "id": "-LDpoOIrrD3K",
    "outputId": "2ee7decb-337b-4ae2-97c1-e7d2076ddefc"
   },
   "outputs": [
    {
     "name": "stdout",
     "output_type": "stream",
     "text": [
      "                     PM2.5  TEMP    PRES  DEWP  RAIN     wd  WSPM\n",
      "date                                                             \n",
      "2013-03-01 00:00:00    8.0  -0.7  1023.0 -18.8   0.0  337.5   4.4\n",
      "2013-03-01 01:00:00    9.0  -1.1  1023.2 -18.2   0.0    0.0   4.7\n",
      "2013-03-01 02:00:00    3.0  -1.1  1023.5 -18.2   0.0  337.5   5.6\n",
      "2013-03-01 03:00:00   11.0  -1.4  1024.5 -19.4   0.0  315.0   3.1\n",
      "2013-03-01 04:00:00    3.0  -2.0  1025.2 -19.5   0.0    0.0   2.0\n",
      "...                    ...   ...     ...   ...   ...    ...   ...\n",
      "2016-05-31 19:00:00   26.0  23.1  1004.8   9.5   0.0  135.0   0.0\n",
      "2016-05-31 20:00:00   15.0  21.5  1005.3  10.3   0.0  135.0   0.1\n",
      "2016-05-31 21:00:00   28.0  20.8  1005.8  11.1   0.0  135.0   0.0\n",
      "2016-05-31 22:00:00   25.0  20.1  1006.0  10.5   0.0  135.0   0.2\n",
      "2016-05-31 23:00:00   28.0  20.9  1006.3   8.8   0.0  180.0   1.3\n",
      "\n",
      "[8832 rows x 7 columns]\n"
     ]
    }
   ],
   "source": [
    "import pandas as pd\n",
    "from datetime import datetime\n",
    "import io\n",
    "\n",
    "# load data\n",
    "def parse(x):\n",
    "\treturn datetime.strptime(x, '%Y %m %d %H')\n",
    " \n",
    "# dataset = pd.read_csv(io.BytesIO(uploaded[hello]),  parse_dates = [['year', 'month', 'day', 'hour']], index_col=0, date_parser=parse)\n",
    "dataset = pd.read_csv(display_name + '.csv',  parse_dates = [['year', 'month', 'day', 'hour']], index_col=0, date_parser=parse)\n",
    "dataset.drop('No', axis=1, inplace=True)\n",
    "dataset.drop('PM10', axis=1, inplace=True)\n",
    "dataset.drop('SO2', axis=1, inplace=True)\n",
    "dataset.drop('CO', axis=1, inplace=True)\n",
    "dataset.drop('NO2', axis=1, inplace=True)\n",
    "dataset.drop('O3', axis=1, inplace=True)\n",
    "# for now drop station\n",
    "dataset.drop('station', axis=1, inplace=True)\n",
    "dataset.index.name = 'date'\n",
    "\n",
    "print(dataset)"
   ]
  },
  {
   "cell_type": "code",
   "execution_count": 3,
   "metadata": {
    "colab": {
     "base_uri": "https://localhost:8080/"
    },
    "executionInfo": {
     "elapsed": 882,
     "status": "ok",
     "timestamp": 1668393800101,
     "user": {
      "displayName": "David Hwang",
      "userId": "08387036443170848644"
     },
     "user_tz": 360
    },
    "id": "uXaYzLu0rtjg",
    "outputId": "eebaf8ba-cd53-4b4f-8d66-1546fc9b68b1"
   },
   "outputs": [
    {
     "name": "stdout",
     "output_type": "stream",
     "text": [
      "                     PM2.5  TEMP    PRES  DEWP  RAIN     wd  WSPM\n",
      "date                                                             \n",
      "2013-03-01 00:00:00    8.0  -0.7  1023.0 -18.8   0.0  337.5   4.4\n",
      "2013-03-01 01:00:00    9.0  -1.1  1023.2 -18.2   0.0    0.0   4.7\n",
      "2013-03-01 02:00:00    3.0  -1.1  1023.5 -18.2   0.0  337.5   5.6\n",
      "2013-03-01 03:00:00   11.0  -1.4  1024.5 -19.4   0.0  315.0   3.1\n",
      "2013-03-01 04:00:00    3.0  -2.0  1025.2 -19.5   0.0    0.0   2.0\n"
     ]
    }
   ],
   "source": [
    "# mark all NA values with 0\n",
    "dataset['PM2.5'].fillna(0, inplace=True)\n",
    "# drop the first 24 hours\n",
    "#dataset = dataset[24:]\n",
    "# summarize first 5 rows\n",
    "print(dataset.head(5))\n",
    "\n",
    "# save to file\n",
    "dataset.to_csv(display_name + '_pollution.csv')"
   ]
  },
  {
   "cell_type": "code",
   "execution_count": 4,
   "metadata": {},
   "outputs": [
    {
     "name": "stderr",
     "output_type": "stream",
     "text": [
      "2022-12-21 11:36:23.825565: I tensorflow/core/platform/cpu_feature_guard.cc:193] This TensorFlow binary is optimized with oneAPI Deep Neural Network Library (oneDNN) to use the following CPU instructions in performance-critical operations:  SSE4.1 SSE4.2 AVX AVX2 FMA\n",
      "To enable them in other operations, rebuild TensorFlow with the appropriate compiler flags.\n"
     ]
    }
   ],
   "source": [
    "from pandas import read_csv\n",
    "from pandas import DataFrame\n",
    "from pandas import concat\n",
    "import numpy as np\n",
    "# install these\n",
    "from sklearn.preprocessing import LabelEncoder\n",
    "from sklearn.preprocessing import MinMaxScaler\n",
    "from matplotlib import pyplot\n",
    "import pandas as pd\n",
    "from datetime import datetime\n",
    "import io\n",
    "import numpy as np\n",
    "import pandas as df\n",
    "import keras\n",
    "from keras import backend as K\n",
    "import tensorflow as tf"
   ]
  },
  {
   "cell_type": "code",
   "execution_count": 5,
   "metadata": {
    "executionInfo": {
     "elapsed": 150,
     "status": "ok",
     "timestamp": 1668393800249,
     "user": {
      "displayName": "David Hwang",
      "userId": "08387036443170848644"
     },
     "user_tz": 360
    },
    "id": "0XJXMNEbxmK1"
   },
   "outputs": [],
   "source": [
    "from matplotlib import pyplot\n",
    "# load dataset\n",
    "dataset = pd.read_csv(display_name + '_pollution.csv', header=0, index_col=0)"
   ]
  },
  {
   "cell_type": "code",
   "execution_count": 6,
   "metadata": {
    "colab": {
     "base_uri": "https://localhost:8080/",
     "height": 266
    },
    "executionInfo": {
     "elapsed": 3244,
     "status": "ok",
     "timestamp": 1668393803492,
     "user": {
      "displayName": "David Hwang",
      "userId": "08387036443170848644"
     },
     "user_tz": 360
    },
    "id": "ODQkpDDZx6ZO",
    "outputId": "ffdafb20-c6e7-41a5-c6a4-bd51678059b0"
   },
   "outputs": [
    {
     "data": {
      "image/png": "[encoded data removed]",
      "text/plain": [
       "<Figure size 640x480 with 6 Axes>"
      ]
     },
     "metadata": {},
     "output_type": "display_data"
    }
   ],
   "source": [
    "values = dataset.values\n",
    "# specify columns to plot\n",
    "groups = [0, 1, 2, 3,  4, 6]\n",
    "i = 1\n",
    "# plot each column\n",
    "pyplot.figure()\n",
    "for group in groups:\n",
    "  pyplot.subplot(len(groups), 1, i)\n",
    "  #print(\"i: \" + str(i) + \", \" + str(values[:,group]))\n",
    "  pyplot.plot(values[:, group])\n",
    "  pyplot.title(dataset.columns[group], y=0.5, loc='right')\n",
    "  i += 1\n",
    "pyplot.show()"
   ]
  },
  {
   "cell_type": "code",
   "execution_count": 7,
   "metadata": {
    "executionInfo": {
     "elapsed": 1754,
     "status": "ok",
     "timestamp": 1668393805243,
     "user": {
      "displayName": "David Hwang",
      "userId": "08387036443170848644"
     },
     "user_tz": 360
    },
    "id": "B16jSFj3z-i8"
   },
   "outputs": [],
   "source": [
    "# Multivariate LSTM Forecast Model\n",
    "# Problem: predicting the pollution at the current hour (t) given the pollution measurement and weather conditions at the prior time step\n",
    "\n",
    "# The wind direction feature is label encoded (integer encoded). This could further be one-hot encoded in the future if you are interested in exploring it\n",
    "# Next, all features are normalized, then the dataset is transformed into a supervised learning problem. The weather variables for the hour to be predicted (t) are then removed.\n",
    "from pandas import read_csv\n",
    "from pandas import DataFrame\n",
    "from pandas import concat\n",
    "import numpy as np\n",
    "from sklearn.preprocessing import LabelEncoder\n",
    "from sklearn.preprocessing import MinMaxScaler\n",
    "\n",
    "# convert series to supervised learning\n",
    "def series_to_supervised(data, n_in=1, n_out=1, dropnan=True):\n",
    "\tn_vars = 1 if type(data) is list else data.shape[1]\n",
    "\tdf = DataFrame(data)\n",
    "\tcols, names = list(), list()\n",
    " \n",
    "\t# input sequence (t-n, ... t-1)\n",
    "\t# n_in is the number of hours as input\n",
    "\tfor i in range(n_in, 0, -1):\n",
    "\n",
    "\t\t# grab row of data and appent to col\n",
    "\t\tcols.append(df.shift(i))\n",
    "\t\tnames += [('var%d(t-%d)' % (j+1, i)) for j in range(n_vars)]\n",
    "\n",
    "\t# forecast sequence (t, t+1, ... t+n)\n",
    "\t# n_out is the number of PM we want to predict\n",
    "\tfor i in range(0, n_out):\n",
    "\t\tcols.append(df.shift(-i))\n",
    "\t\n",
    "\t\t# drop columns we don't want to predict\n",
    "\t\t# drop next hour stats for meteorological keep PM data\n",
    "\t\tif i == 0:\n",
    "\t\t\tnames += [('var%d(t)' % (j+1)) for j in range(n_vars)]\n",
    "\t\telse:\n",
    "\t\t\tnames += [('var%d(t+%d)' % (j+1, i)) for j in range(n_vars)]\n",
    "\n",
    "\t# put it all together\n",
    "\tagg = concat(cols, axis=1)\n",
    "\tagg.columns = names\n",
    "\t# drop rows with NaN values\n",
    "\tif dropnan:\n",
    "\t\tagg.dropna(inplace=True)\n",
    "\treturn agg\n",
    "\n",
    "# drop columns we don't want to predict\n",
    "# drop next hour stats for meteorological keep PM data\n",
    "def resize(df):\n",
    "  drop_list = []\n",
    "  for i in range((input*7), (input+output)*7, 1):\n",
    "      if (i%7 != 0):\n",
    "        drop_list.append(i)\n",
    "  print(drop_list)\n",
    "  df.drop(reframed.columns[drop_list], axis=1, inplace=True)"
   ]
  },
  {
   "cell_type": "code",
   "execution_count": 8,
   "metadata": {
    "colab": {
     "base_uri": "https://localhost:8080/"
    },
    "executionInfo": {
     "elapsed": 159,
     "status": "ok",
     "timestamp": 1668393805400,
     "user": {
      "displayName": "David Hwang",
      "userId": "08387036443170848644"
     },
     "user_tz": 360
    },
    "id": "M-Zwfj9m15lA",
    "outputId": "7baf94f9-e6f8-4005-faef-2e68cae31de0"
   },
   "outputs": [
    {
     "name": "stdout",
     "output_type": "stream",
     "text": [
      "(8832, 7)\n"
     ]
    }
   ],
   "source": [
    "# Preprocessing\n",
    "# integer encode direction\n",
    "encoder = LabelEncoder()\n",
    "values[:,5] = encoder.fit_transform(values[:,5])\n",
    "\n",
    "#print(values[:,5])\n",
    "# ensure all data is float\n",
    "values = values.astype('float32')\n",
    "\n",
    "# normalize features\n",
    "scaler = MinMaxScaler(feature_range=(0, 1))\n",
    "scaled = scaler.fit_transform(values)\n",
    "print(scaled.shape)\n",
    "#print(scaled[:,5])\n"
   ]
  },
  {
   "cell_type": "code",
   "execution_count": 9,
   "metadata": {},
   "outputs": [
    {
     "name": "stdout",
     "output_type": "stream",
     "text": [
      "[337, 338, 339, 340, 341, 342, 344, 345, 346, 347, 348, 349, 351, 352, 353, 354, 355, 356, 358, 359, 360, 361, 362, 363, 365, 366, 367, 368, 369, 370, 372, 373, 374, 375, 376, 377]\n"
     ]
    },
    {
     "data": {
      "text/html": [
       "<div>\n",
       "<style scoped>\n",
       "    .dataframe tbody tr th:only-of-type {\n",
       "        vertical-align: middle;\n",
       "    }\n",
       "\n",
       "    .dataframe tbody tr th {\n",
       "        vertical-align: top;\n",
       "    }\n",
       "\n",
       "    .dataframe thead th {\n",
       "        text-align: right;\n",
       "    }\n",
       "</style>\n",
       "<table border=\"1\" class=\"dataframe\">\n",
       "  <thead>\n",
       "    <tr style=\"text-align: right;\">\n",
       "      <th></th>\n",
       "      <th>var1(t-48)</th>\n",
       "      <th>var2(t-48)</th>\n",
       "      <th>var3(t-48)</th>\n",
       "      <th>var4(t-48)</th>\n",
       "      <th>var5(t-48)</th>\n",
       "      <th>var6(t-48)</th>\n",
       "      <th>var7(t-48)</th>\n",
       "      <th>var1(t-47)</th>\n",
       "      <th>var2(t-47)</th>\n",
       "      <th>var3(t-47)</th>\n",
       "      <th>...</th>\n",
       "      <th>var4(t-1)</th>\n",
       "      <th>var5(t-1)</th>\n",
       "      <th>var6(t-1)</th>\n",
       "      <th>var7(t-1)</th>\n",
       "      <th>var1(t)</th>\n",
       "      <th>var1(t+1)</th>\n",
       "      <th>var1(t+2)</th>\n",
       "      <th>var1(t+3)</th>\n",
       "      <th>var1(t+4)</th>\n",
       "      <th>var1(t+5)</th>\n",
       "    </tr>\n",
       "  </thead>\n",
       "  <tbody>\n",
       "    <tr>\n",
       "      <th>48</th>\n",
       "      <td>0.010060</td>\n",
       "      <td>0.141667</td>\n",
       "      <td>0.797415</td>\n",
       "      <td>0.258427</td>\n",
       "      <td>0.0</td>\n",
       "      <td>1.000000</td>\n",
       "      <td>0.483516</td>\n",
       "      <td>0.012072</td>\n",
       "      <td>0.133333</td>\n",
       "      <td>0.801725</td>\n",
       "      <td>...</td>\n",
       "      <td>0.359551</td>\n",
       "      <td>0.0</td>\n",
       "      <td>0.000000</td>\n",
       "      <td>0.142857</td>\n",
       "      <td>0.171026</td>\n",
       "      <td>0.203219</td>\n",
       "      <td>0.207243</td>\n",
       "      <td>0.187123</td>\n",
       "      <td>0.173038</td>\n",
       "      <td>0.152917</td>\n",
       "    </tr>\n",
       "    <tr>\n",
       "      <th>49</th>\n",
       "      <td>0.012072</td>\n",
       "      <td>0.133333</td>\n",
       "      <td>0.801725</td>\n",
       "      <td>0.269663</td>\n",
       "      <td>0.0</td>\n",
       "      <td>0.000000</td>\n",
       "      <td>0.516483</td>\n",
       "      <td>0.000000</td>\n",
       "      <td>0.133333</td>\n",
       "      <td>0.808189</td>\n",
       "      <td>...</td>\n",
       "      <td>0.367041</td>\n",
       "      <td>0.0</td>\n",
       "      <td>0.052632</td>\n",
       "      <td>0.131868</td>\n",
       "      <td>0.203219</td>\n",
       "      <td>0.207243</td>\n",
       "      <td>0.187123</td>\n",
       "      <td>0.173038</td>\n",
       "      <td>0.152917</td>\n",
       "      <td>0.156942</td>\n",
       "    </tr>\n",
       "    <tr>\n",
       "      <th>50</th>\n",
       "      <td>0.000000</td>\n",
       "      <td>0.133333</td>\n",
       "      <td>0.808189</td>\n",
       "      <td>0.269663</td>\n",
       "      <td>0.0</td>\n",
       "      <td>1.000000</td>\n",
       "      <td>0.615385</td>\n",
       "      <td>0.016097</td>\n",
       "      <td>0.127083</td>\n",
       "      <td>0.829742</td>\n",
       "      <td>...</td>\n",
       "      <td>0.363296</td>\n",
       "      <td>0.0</td>\n",
       "      <td>0.105263</td>\n",
       "      <td>0.131868</td>\n",
       "      <td>0.207243</td>\n",
       "      <td>0.187123</td>\n",
       "      <td>0.173038</td>\n",
       "      <td>0.152917</td>\n",
       "      <td>0.156942</td>\n",
       "      <td>0.175050</td>\n",
       "    </tr>\n",
       "    <tr>\n",
       "      <th>51</th>\n",
       "      <td>0.016097</td>\n",
       "      <td>0.127083</td>\n",
       "      <td>0.829742</td>\n",
       "      <td>0.247191</td>\n",
       "      <td>0.0</td>\n",
       "      <td>0.947368</td>\n",
       "      <td>0.340659</td>\n",
       "      <td>0.000000</td>\n",
       "      <td>0.114583</td>\n",
       "      <td>0.844828</td>\n",
       "      <td>...</td>\n",
       "      <td>0.380150</td>\n",
       "      <td>0.0</td>\n",
       "      <td>0.105263</td>\n",
       "      <td>0.153846</td>\n",
       "      <td>0.187123</td>\n",
       "      <td>0.173038</td>\n",
       "      <td>0.152917</td>\n",
       "      <td>0.156942</td>\n",
       "      <td>0.175050</td>\n",
       "      <td>0.195171</td>\n",
       "    </tr>\n",
       "    <tr>\n",
       "      <th>52</th>\n",
       "      <td>0.000000</td>\n",
       "      <td>0.114583</td>\n",
       "      <td>0.844828</td>\n",
       "      <td>0.245318</td>\n",
       "      <td>0.0</td>\n",
       "      <td>0.000000</td>\n",
       "      <td>0.219780</td>\n",
       "      <td>0.000000</td>\n",
       "      <td>0.110417</td>\n",
       "      <td>0.853449</td>\n",
       "      <td>...</td>\n",
       "      <td>0.363296</td>\n",
       "      <td>0.0</td>\n",
       "      <td>0.105263</td>\n",
       "      <td>0.131868</td>\n",
       "      <td>0.173038</td>\n",
       "      <td>0.152917</td>\n",
       "      <td>0.156942</td>\n",
       "      <td>0.175050</td>\n",
       "      <td>0.195171</td>\n",
       "      <td>0.211268</td>\n",
       "    </tr>\n",
       "  </tbody>\n",
       "</table>\n",
       "<p>5 rows × 342 columns</p>\n",
       "</div>"
      ],
      "text/plain": [
       "    var1(t-48)  var2(t-48)  var3(t-48)  var4(t-48)  var5(t-48)  var6(t-48)  \\\n",
       "48    0.010060    0.141667    0.797415    0.258427         0.0    1.000000   \n",
       "49    0.012072    0.133333    0.801725    0.269663         0.0    0.000000   \n",
       "50    0.000000    0.133333    0.808189    0.269663         0.0    1.000000   \n",
       "51    0.016097    0.127083    0.829742    0.247191         0.0    0.947368   \n",
       "52    0.000000    0.114583    0.844828    0.245318         0.0    0.000000   \n",
       "\n",
       "    var7(t-48)  var1(t-47)  var2(t-47)  var3(t-47)  ...  var4(t-1)  var5(t-1)  \\\n",
       "48    0.483516    0.012072    0.133333    0.801725  ...   0.359551        0.0   \n",
       "49    0.516483    0.000000    0.133333    0.808189  ...   0.367041        0.0   \n",
       "50    0.615385    0.016097    0.127083    0.829742  ...   0.363296        0.0   \n",
       "51    0.340659    0.000000    0.114583    0.844828  ...   0.380150        0.0   \n",
       "52    0.219780    0.000000    0.110417    0.853449  ...   0.363296        0.0   \n",
       "\n",
       "    var6(t-1)  var7(t-1)   var1(t)  var1(t+1)  var1(t+2)  var1(t+3)  \\\n",
       "48   0.000000   0.142857  0.171026   0.203219   0.207243   0.187123   \n",
       "49   0.052632   0.131868  0.203219   0.207243   0.187123   0.173038   \n",
       "50   0.105263   0.131868  0.207243   0.187123   0.173038   0.152917   \n",
       "51   0.105263   0.153846  0.187123   0.173038   0.152917   0.156942   \n",
       "52   0.105263   0.131868  0.173038   0.152917   0.156942   0.175050   \n",
       "\n",
       "    var1(t+4)  var1(t+5)  \n",
       "48   0.173038   0.152917  \n",
       "49   0.152917   0.156942  \n",
       "50   0.156942   0.175050  \n",
       "51   0.175050   0.195171  \n",
       "52   0.195171   0.211268  \n",
       "\n",
       "[5 rows x 342 columns]"
      ]
     },
     "execution_count": 9,
     "metadata": {},
     "output_type": "execute_result"
    }
   ],
   "source": [
    "input = 48\n",
    "output = 6\n",
    "# frame as supervised learning\n",
    "reframed = series_to_supervised(scaled, input, output) # 48, 24\n",
    "resize(reframed)\n",
    "reframed.head()\n",
    "\n",
    "\n",
    "# drop columns we don't want to predict\n",
    "# drop next hour stats for meteorological keep PM data\n",
    "# reframed.drop(reframed.columns[[8, 9,10,11,12,13]], axis=1, inplace=True)\n"
   ]
  },
  {
   "cell_type": "code",
   "execution_count": 10,
   "metadata": {},
   "outputs": [
    {
     "name": "stdout",
     "output_type": "stream",
     "text": [
      "[[0.01006036 0.14166667 0.7974148  ... 0.18712273 0.17303821 0.15291749]\n",
      " [0.01207243 0.13333333 0.8017254  ... 0.17303821 0.15291749 0.15694164]\n",
      " [0.         0.13333333 0.8081894  ... 0.15291749 0.15694164 0.17505029]\n",
      " ...\n",
      " [0.01810865 0.8        0.28232765 ... 0.04627766 0.02414487 0.05030181]\n",
      " [0.02012073 0.79375005 0.27155113 ... 0.02414487 0.05030181 0.04426559]\n",
      " [0.03018108 0.76666665 0.26939774 ... 0.05030181 0.04426559 0.05030181]]\n",
      "(8779, 342)\n"
     ]
    }
   ],
   "source": [
    "print(reframed.values)\n",
    "print(reframed.shape)\n",
    "#type(train)"
   ]
  },
  {
   "cell_type": "code",
   "execution_count": 11,
   "metadata": {
    "colab": {
     "base_uri": "https://localhost:8080/"
    },
    "executionInfo": {
     "elapsed": 4,
     "status": "ok",
     "timestamp": 1668393805401,
     "user": {
      "displayName": "David Hwang",
      "userId": "08387036443170848644"
     },
     "user_tz": 360
    },
    "id": "BFkwrWIj4ww3",
    "outputId": "38f3ea26-253c-48a4-d3b8-a10d81384b3b"
   },
   "outputs": [
    {
     "name": "stdout",
     "output_type": "stream",
     "text": [
      "(6624, 1, 336) (6624, 6) (2155, 1, 336) (2155, 6)\n"
     ]
    }
   ],
   "source": [
    "# Define and Fit Model\n",
    "# split into train and test sets\n",
    "values = reframed.values\n",
    "features = 7\n",
    "n_train_hours = 6624\n",
    "# train 75 % / test 25 %\n",
    "train = values[:n_train_hours, :]\n",
    "\n",
    "# rest is test data\n",
    "test = values[n_train_hours:, :]\n",
    "\n",
    "# split into input and outputs\n",
    "train_X, train_y = train[:, :input*features], train[:, input*features:]\n",
    "test_X, test_y = test[:, :input*features], test[:, input*features:]\n",
    "\n",
    "# reshape input to be 3D [samples, timesteps, features]\n",
    "train_X = train_X.reshape((train_X.shape[0], 1, train_X.shape[1]))\n",
    "test_X = test_X.reshape((test_X.shape[0], 1, test_X.shape[1]))\n",
    "print(train_X.shape, train_y.shape, test_X.shape, test_y.shape)\n",
    "# around 9k hours of training, 26k hours of testing"
   ]
  },
  {
   "cell_type": "code",
   "execution_count": null,
   "metadata": {},
   "outputs": [],
   "source": []
  },
  {
   "cell_type": "code",
   "execution_count": 12,
   "metadata": {
    "colab": {
     "base_uri": "https://localhost:8080/"
    },
    "executionInfo": {
     "elapsed": 3,
     "status": "ok",
     "timestamp": 1668393805401,
     "user": {
      "displayName": "David Hwang",
      "userId": "08387036443170848644"
     },
     "user_tz": 360
    },
    "id": "2XAh2ti-69HM",
    "outputId": "a6855176-3039-4241-9574-7635e09ea040"
   },
   "outputs": [],
   "source": [
    "# list1 = np.array([[1,2,3],[3,4,5],[5,6,7],[7,8,9],[9,10,11]])\n",
    "# print(list1)\n",
    "# print(list1[:,0 ])\n",
    "# print(list1[:3, ])\n",
    "# print(list1[:3, :-1])\n",
    "# print(list1[:, :-1])\n",
    "# print(list1[ :,-1])"
   ]
  },
  {
   "cell_type": "code",
   "execution_count": 13,
   "metadata": {
    "executionInfo": {
     "elapsed": 7246,
     "status": "ok",
     "timestamp": 1668393812772,
     "user": {
      "displayName": "David Hwang",
      "userId": "08387036443170848644"
     },
     "user_tz": 360
    },
    "id": "4p_y0UEh_gts"
   },
   "outputs": [
    {
     "name": "stderr",
     "output_type": "stream",
     "text": [
      "2022-12-21 11:36:30.883861: I tensorflow/core/platform/cpu_feature_guard.cc:193] This TensorFlow binary is optimized with oneAPI Deep Neural Network Library (oneDNN) to use the following CPU instructions in performance-critical operations:  SSE4.1 SSE4.2 AVX AVX2 FMA\n",
      "To enable them in other operations, rebuild TensorFlow with the appropriate compiler flags.\n"
     ]
    }
   ],
   "source": [
    "# Create LSTM Model\n",
    "# 50 neurons in first HL and 1 neuron in output layer for prediction\n",
    "# input shape will be 1 time step with 7 features\n",
    "\n",
    "# design network\n",
    "import tensorflow as tf\n",
    "\n",
    "model = tf.keras.Sequential()\n",
    "# model.add(tf.keras.layers.LSTM(50, input_shape=(train_X.shape[1], train_X.shape[2])))\n",
    "model.add(tf.keras.layers.Bidirectional(tf.keras.layers.LSTM(50, input_shape=(train_X.shape[1], train_X.shape[2]))))\n",
    "model.add(tf.keras.layers.Dense(output))"
   ]
  },
  {
   "cell_type": "code",
   "execution_count": 14,
   "metadata": {
    "colab": {
     "base_uri": "https://localhost:8080/"
    },
    "id": "1h8bCvNqA_EX",
    "outputId": "1ae9cfaa-49ee-4c08-eac1-6256b2ce9e1d"
   },
   "outputs": [
    {
     "name": "stdout",
     "output_type": "stream",
     "text": [
      "Epoch 1/50\n",
      "74/74 [==============================] - 10s 28ms/step - loss: 0.1487 - val_loss: 0.0987\n",
      "Epoch 2/50\n",
      "74/74 [==============================] - 0s 4ms/step - loss: 0.1198 - val_loss: 0.0866\n",
      "Epoch 3/50\n",
      "74/74 [==============================] - 0s 4ms/step - loss: 0.1082 - val_loss: 0.0825\n",
      "Epoch 4/50\n",
      "74/74 [==============================] - 0s 3ms/step - loss: 0.1009 - val_loss: 0.0792\n",
      "Epoch 5/50\n",
      "74/74 [==============================] - 0s 4ms/step - loss: 0.0964 - val_loss: 0.0776\n",
      "Epoch 6/50\n",
      "74/74 [==============================] - 0s 5ms/step - loss: 0.0928 - val_loss: 0.0753\n",
      "Epoch 7/50\n",
      "74/74 [==============================] - 0s 6ms/step - loss: 0.0899 - val_loss: 0.0760\n",
      "Epoch 8/50\n",
      "74/74 [==============================] - 0s 5ms/step - loss: 0.0873 - val_loss: 0.0728\n",
      "Epoch 9/50\n",
      "74/74 [==============================] - 0s 5ms/step - loss: 0.0858 - val_loss: 0.0716\n",
      "Epoch 10/50\n",
      "74/74 [==============================] - 0s 5ms/step - loss: 0.0843 - val_loss: 0.0708\n",
      "Epoch 11/50\n",
      "74/74 [==============================] - 0s 5ms/step - loss: 0.0826 - val_loss: 0.0700\n",
      "Epoch 12/50\n",
      "74/74 [==============================] - 0s 5ms/step - loss: 0.0814 - val_loss: 0.0691\n",
      "Epoch 13/50\n",
      "74/74 [==============================] - 0s 5ms/step - loss: 0.0810 - val_loss: 0.0681\n",
      "Epoch 14/50\n",
      "74/74 [==============================] - 0s 4ms/step - loss: 0.0794 - val_loss: 0.0686\n",
      "Epoch 15/50\n",
      "74/74 [==============================] - 0s 3ms/step - loss: 0.0789 - val_loss: 0.0677\n",
      "Epoch 16/50\n",
      "74/74 [==============================] - 0s 3ms/step - loss: 0.0780 - val_loss: 0.0667\n",
      "Epoch 17/50\n",
      "74/74 [==============================] - 0s 4ms/step - loss: 0.0773 - val_loss: 0.0662\n",
      "Epoch 18/50\n",
      "74/74 [==============================] - 0s 4ms/step - loss: 0.0765 - val_loss: 0.0668\n",
      "Epoch 19/50\n",
      "74/74 [==============================] - 0s 4ms/step - loss: 0.0761 - val_loss: 0.0673\n",
      "Epoch 20/50\n",
      "74/74 [==============================] - 0s 4ms/step - loss: 0.0758 - val_loss: 0.0654\n",
      "Epoch 21/50\n",
      "74/74 [==============================] - 0s 4ms/step - loss: 0.0752 - val_loss: 0.0651\n",
      "Epoch 22/50\n",
      "74/74 [==============================] - 0s 5ms/step - loss: 0.0750 - val_loss: 0.0655\n",
      "Epoch 23/50\n",
      "74/74 [==============================] - 0s 5ms/step - loss: 0.0745 - val_loss: 0.0647\n",
      "Epoch 24/50\n",
      "74/74 [==============================] - 0s 4ms/step - loss: 0.0738 - val_loss: 0.0643\n",
      "Epoch 25/50\n",
      "74/74 [==============================] - 0s 4ms/step - loss: 0.0735 - val_loss: 0.0642\n",
      "Epoch 26/50\n",
      "74/74 [==============================] - 0s 5ms/step - loss: 0.0733 - val_loss: 0.0640\n",
      "Epoch 27/50\n",
      "74/74 [==============================] - 0s 5ms/step - loss: 0.0731 - val_loss: 0.0644\n",
      "Epoch 28/50\n",
      "74/74 [==============================] - 0s 5ms/step - loss: 0.0727 - val_loss: 0.0637\n",
      "Epoch 29/50\n",
      "74/74 [==============================] - 0s 4ms/step - loss: 0.0724 - val_loss: 0.0642\n",
      "Epoch 30/50\n",
      "74/74 [==============================] - 0s 3ms/step - loss: 0.0719 - val_loss: 0.0639\n",
      "Epoch 31/50\n",
      "74/74 [==============================] - 0s 4ms/step - loss: 0.0722 - val_loss: 0.0636\n",
      "Epoch 32/50\n",
      "74/74 [==============================] - 0s 4ms/step - loss: 0.0714 - val_loss: 0.0630\n",
      "Epoch 33/50\n",
      "74/74 [==============================] - 0s 4ms/step - loss: 0.0714 - val_loss: 0.0633\n",
      "Epoch 34/50\n",
      "74/74 [==============================] - 0s 4ms/step - loss: 0.0712 - val_loss: 0.0628\n",
      "Epoch 35/50\n",
      "74/74 [==============================] - 0s 4ms/step - loss: 0.0711 - val_loss: 0.0639\n",
      "Epoch 36/50\n",
      "74/74 [==============================] - 0s 6ms/step - loss: 0.0707 - val_loss: 0.0622\n",
      "Epoch 37/50\n",
      "74/74 [==============================] - 0s 5ms/step - loss: 0.0702 - val_loss: 0.0631\n",
      "Epoch 38/50\n",
      "74/74 [==============================] - 0s 5ms/step - loss: 0.0704 - val_loss: 0.0633\n",
      "Epoch 39/50\n",
      "74/74 [==============================] - 0s 5ms/step - loss: 0.0708 - val_loss: 0.0629\n",
      "Epoch 40/50\n",
      "74/74 [==============================] - 0s 5ms/step - loss: 0.0701 - val_loss: 0.0620\n",
      "Epoch 41/50\n",
      "74/74 [==============================] - 0s 5ms/step - loss: 0.0695 - val_loss: 0.0621\n",
      "Epoch 42/50\n",
      "74/74 [==============================] - 0s 5ms/step - loss: 0.0697 - val_loss: 0.0633\n",
      "Epoch 43/50\n",
      "74/74 [==============================] - 0s 4ms/step - loss: 0.0695 - val_loss: 0.0642\n",
      "Epoch 44/50\n",
      "74/74 [==============================] - 0s 4ms/step - loss: 0.0692 - val_loss: 0.0647\n",
      "Epoch 45/50\n",
      "74/74 [==============================] - 0s 4ms/step - loss: 0.0692 - val_loss: 0.0620\n",
      "Epoch 46/50\n",
      "74/74 [==============================] - 0s 4ms/step - loss: 0.0687 - val_loss: 0.0626\n",
      "Epoch 47/50\n",
      "74/74 [==============================] - 0s 4ms/step - loss: 0.0687 - val_loss: 0.0620\n",
      "Epoch 48/50\n",
      "74/74 [==============================] - 0s 4ms/step - loss: 0.0686 - val_loss: 0.0615\n",
      "Epoch 49/50\n",
      "74/74 [==============================] - 0s 3ms/step - loss: 0.0689 - val_loss: 0.0619\n",
      "Epoch 50/50\n",
      "74/74 [==============================] - 0s 3ms/step - loss: 0.0684 - val_loss: 0.0613\n"
     ]
    },
    {
     "data": {
      "image/png": "[encoded data removed]",
      "text/plain": [
       "<Figure size 640x480 with 1 Axes>"
      ]
     },
     "metadata": {},
     "output_type": "display_data"
    }
   ],
   "source": [
    "import keras\n",
    "from keras import backend as K\n",
    "\n",
    "input_shape = train_X.shape[1:]\n",
    "def root_mean_squared_error(y_true, y_pred):\n",
    "        return K.sqrt(K.mean(K.square(y_pred - y_true))) \n",
    "\n",
    "\n",
    "model.compile(\n",
    "    loss= root_mean_squared_error, \n",
    "    optimizer=keras.optimizers.Adam(learning_rate=1e-4)\n",
    ")\n",
    "\n",
    "# fit network\n",
    "history = model.fit(\n",
    "    train_X, \n",
    "    train_y, \n",
    "    epochs=50, \n",
    "    batch_size=72,\n",
    "    validation_split=0.2\n",
    ")\n",
    "\n",
    "# plot history\n",
    "pyplot.plot(history.history['loss'], label='train')\n",
    "pyplot.plot(history.history['val_loss'], label='validation')\n",
    "pyplot.legend()\n",
    "pyplot.show()"
   ]
  },
  {
   "cell_type": "code",
   "execution_count": 15,
   "metadata": {},
   "outputs": [
    {
     "name": "stdout",
     "output_type": "stream",
     "text": [
      "68/68 [==============================] - 2s 2ms/step\n",
      "Test RMSE: 34.255\n",
      "(2155, 6)\n"
     ]
    }
   ],
   "source": [
    "from math import sqrt\n",
    "from numpy import concatenate\n",
    "from sklearn.metrics import mean_squared_error\n",
    "\n",
    "test_X = test_X.reshape((test_X.shape[0], 1, input*features))\n",
    "\n",
    "# Get prediction there can be multiple \n",
    "yhat = model.predict(test_X)\n",
    "\n",
    "# rmse list\n",
    "rmse_list = []\n",
    "\n",
    "# this is just for inverse transform\n",
    "test_X = test_X.reshape((test_X.shape[0], input*features))\n",
    "\n",
    "to_save = np.zeros(shape=(yhat.shape[0], 1))\n",
    "\n",
    "# calc rmse for every prediction\n",
    "for i in range(yhat.shape[1]):\n",
    "  # invert scaling for forecast\n",
    "  inv_yhat = concatenate((yhat[:, i:i+1], test_X[:, -(features-1):]), axis=1)\n",
    "  inv_yhat = scaler.inverse_transform(inv_yhat)\n",
    "#   print(inv_yhat.shape)\n",
    "  inv_yhat = inv_yhat[:,0]\n",
    "  \n",
    "  inv_yhat_reshape = np.reshape(inv_yhat, (len(inv_yhat), 1))\n",
    "  to_save = np.hstack((to_save, inv_yhat_reshape))\n",
    "\n",
    "  # invert scaling for actual\n",
    "  inv_y = concatenate((test_y[:, i:i+1], test_X[:, -(features-1):]), axis=1)\n",
    "  inv_y = scaler.inverse_transform(inv_y)\n",
    "  inv_y = inv_y[:,0]\n",
    "\n",
    "  rmse = sqrt(mean_squared_error(inv_y, inv_yhat))\n",
    "  rmse_list.append(rmse)\n",
    "\n",
    "# calculate RMSE\n",
    "avg_rmse = sum(rmse_list) / len(rmse_list)\n",
    "print('Test RMSE: %.3f' % avg_rmse)\n",
    "\n",
    "to_save = to_save[:, 1:]\n",
    "print(to_save.shape)\n",
    "np.save('BiLSTM_pred_np_6_spring/' + display_name + \"_np.npy\", to_save)"
   ]
  },
  {
   "cell_type": "code",
   "execution_count": 16,
   "metadata": {},
   "outputs": [
    {
     "name": "stderr",
     "output_type": "stream",
     "text": [
      "WARNING:absl:Found untraced functions such as lstm_cell_1_layer_call_fn, lstm_cell_1_layer_call_and_return_conditional_losses, lstm_cell_2_layer_call_fn, lstm_cell_2_layer_call_and_return_conditional_losses while saving (showing 4 of 4). These functions will not be directly callable after loading.\n"
     ]
    },
    {
     "name": "stdout",
     "output_type": "stream",
     "text": [
      "INFO:tensorflow:Assets written to: BiLSTM_model_np_6_spring/PRSA_Wanliu/assets\n"
     ]
    },
    {
     "name": "stderr",
     "output_type": "stream",
     "text": [
      "INFO:tensorflow:Assets written to: BiLSTM_model_np_6_spring/PRSA_Wanliu/assets\n"
     ]
    }
   ],
   "source": [
    "model.save('BiLSTM_model_np_6_spring/' + display_name)"
   ]
  },
  {
   "cell_type": "code",
   "execution_count": null,
   "metadata": {},
   "outputs": [],
   "source": []
  },
  {
   "cell_type": "code",
   "execution_count": null,
   "metadata": {},
   "outputs": [],
   "source": []
  }
 ],
 "metadata": {
  "colab": {
   "authorship_tag": "ABX9TyPjS9zG9YgieXlqGYnmsUWX",
   "collapsed_sections": [],
   "provenance": []
  },
  "kernelspec": {
   "display_name": "Python 3 (my_tensorflow_env)",
   "language": "python",
   "name": "my_tensorflow_env"
  },
  "language_info": {
   "codemirror_mode": {
    "name": "ipython",
    "version": 3
   },
   "file_extension": ".py",
   "mimetype": "text/x-python",
   "name": "python",
   "nbconvert_exporter": "python",
   "pygments_lexer": "ipython3",
   "version": "3.10.6"
  }
 },
 "nbformat": 4,
 "nbformat_minor": 4
}
