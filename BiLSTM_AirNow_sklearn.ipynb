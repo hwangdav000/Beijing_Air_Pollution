{
 "cells": [
  {
   "cell_type": "code",
   "execution_count": 6,
   "id": "illegal-motion",
   "metadata": {},
   "outputs": [
    {
     "name": "stdout",
     "output_type": "stream",
     "text": [
      "\n",
      "[222. 220. 213. ...  19.  16.  17.]\n"
     ]
    }
   ],
   "source": [
    "import pandas as pd\n",
    "data = pd.read_csv('test_dataset.csv')\n",
    "AQI = data.iloc[:, 10].values\n",
    "# displaying selected columns\n",
    "print()\n",
    "# displaying a single column (Population)\n",
    "print(AQI)"
   ]
  },
  {
   "cell_type": "code",
   "execution_count": 7,
   "id": "traditional-newman",
   "metadata": {},
   "outputs": [
    {
     "name": "stdout",
     "output_type": "stream",
     "text": [
      "[191.52284686 190.32611275 187.25368309 ... 107.75385147 109.41200002\n",
      " 111.19070371]\n",
      "[189.15748469 191.21880595 186.8108955  ...  34.34652225  40.10051409\n",
      "  40.6725893 ]\n"
     ]
    }
   ],
   "source": [
    "import numpy as np\n",
    "\n",
    "def average_adiag(x):\n",
    "    \"\"\"Average antidiagonal elements of a 2d array\n",
    "    Parameters:\n",
    "    -----------\n",
    "    x : np.array\n",
    "        2d numpy array of size\n",
    "\n",
    "    Return:\n",
    "    -------\n",
    "    x1d : np.array\n",
    "        1d numpy array representing averaged antediangonal elements of x\n",
    "\n",
    "    \"\"\"\n",
    "    x1d = [np.mean(x[::-1, :].diagonal(i)) for i in\n",
    "           range(-x.shape[0] + 1, x.shape[1])]\n",
    "    return np.array(x1d)\n",
    "    \n",
    "# x = np.arange(12).reshape(4,3)\n",
    "# print(x)\n",
    "load_np_24 = np.load('BiLSTM_average_pred.npy')\n",
    "new_np_24 = average_adiag(load_np_24)\n",
    "load_np_6 = np.load('BiLSTM_average_pred_48_6.npy')\n",
    "new_np_6 = average_adiag(load_np_6)\n",
    "print(new_np_24)\n",
    "print(new_np_6)\n",
    "# Write Python 3 code in this online editor and run it."
   ]
  },
  {
   "cell_type": "code",
   "execution_count": 8,
   "id": "theoretical-minnesota",
   "metadata": {},
   "outputs": [
    {
     "data": {
      "text/plain": [
       "8736"
      ]
     },
     "execution_count": 8,
     "metadata": {},
     "output_type": "execute_result"
    }
   ],
   "source": [
    "len(AQI)"
   ]
  },
  {
   "cell_type": "code",
   "execution_count": 9,
   "id": "stuffed-fishing",
   "metadata": {},
   "outputs": [
    {
     "name": "stdout",
     "output_type": "stream",
     "text": [
      "8736\n",
      "8736\n"
     ]
    }
   ],
   "source": [
    "print(len(new_np_24))\n",
    "print(len(new_np_6))"
   ]
  },
  {
   "cell_type": "code",
   "execution_count": 10,
   "id": "indie-seating",
   "metadata": {},
   "outputs": [
    {
     "name": "stdout",
     "output_type": "stream",
     "text": [
      "Bi-LSTM - 24 hour\n",
      "MAE:  37.56938760476179\n",
      "RMSE:  64.94346377578285\n",
      "R2:  0.4976542336275275\n",
      "Bi-LSTM - 6 hour\n",
      "MAE:  23.77760582826854\n",
      "RMSE:  50.811200597637786\n",
      "R2:  0.6924960039305048\n"
     ]
    }
   ],
   "source": [
    "from sklearn.metrics import mean_squared_error\n",
    "from sklearn.metrics import mean_absolute_error\n",
    "from sklearn.metrics import r2_score\n",
    "from math import sqrt\n",
    "\n",
    "for i in range(len(AQI)):\n",
    "    if AQI[i] < 0:\n",
    "        np.delete(AQI, i)\n",
    "        np.delete(new_np_24, i)\n",
    "        np.delete(new_np_6, i)\n",
    "\n",
    "\n",
    "print(\"Bi-LSTM - 24 hour\")\n",
    "print(\"MAE: \" , (mean_absolute_error(AQI, new_np_24)))\n",
    "print(\"RMSE: \" , (sqrt(mean_squared_error(AQI, new_np_24))))\n",
    "print(\"R2: \" , (r2_score(AQI, new_np_24)))\n",
    "\n",
    "print(\"Bi-LSTM - 6 hour\")\n",
    "print(\"MAE: \" , (mean_absolute_error(AQI, new_np_6)))\n",
    "print(\"RMSE: \" , (sqrt(mean_squared_error(AQI, new_np_6))))\n",
    "print(\"R2: \" , (r2_score(AQI, new_np_6)))"
   ]
  },
  {
   "cell_type": "code",
   "execution_count": null,
   "id": "dimensional-ending",
   "metadata": {},
   "outputs": [],
   "source": []
  },
  {
   "cell_type": "code",
   "execution_count": null,
   "id": "third-deviation",
   "metadata": {},
   "outputs": [],
   "source": []
  }
 ],
 "metadata": {
  "kernelspec": {
   "display_name": "Python 3 (my_tensorflow_env)",
   "language": "python",
   "name": "my_tensorflow_env"
  },
  "language_info": {
   "codemirror_mode": {
    "name": "ipython",
    "version": 3
   },
   "file_extension": ".py",
   "mimetype": "text/x-python",
   "name": "python",
   "nbconvert_exporter": "python",
   "pygments_lexer": "ipython3",
   "version": "3.10.6"
  }
 },
 "nbformat": 4,
 "nbformat_minor": 5
}
