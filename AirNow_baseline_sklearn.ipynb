{
 "cells": [
  {
   "cell_type": "code",
   "execution_count": 1,
   "id": "hollywood-reynolds",
   "metadata": {},
   "outputs": [
    {
     "name": "stdout",
     "output_type": "stream",
     "text": [
      "\n",
      "[205.8 212.9 212.9 ...  15.6  15.8  16.4]\n"
     ]
    }
   ],
   "source": [
    "import pandas as pd\n",
    "data = pd.read_csv('airnow_spring.csv')\n",
    "AQI = data.iloc[:, 7].values\n",
    "# displaying selected columns\n",
    "print()\n",
    "# displaying a single column (Population)\n",
    "print(AQI)"
   ]
  },
  {
   "cell_type": "code",
   "execution_count": 2,
   "id": "identified-france",
   "metadata": {},
   "outputs": [
    {
     "name": "stdout",
     "output_type": "stream",
     "text": [
      "[73.21879784 75.70805615 78.19716527 ... 60.74406864 61.01478902\n",
      " 61.19315928]\n",
      "[73.21879784 75.70805615 78.19716527 ... 46.50593385 45.97885335\n",
      " 45.42265304]\n"
     ]
    }
   ],
   "source": [
    "import numpy as np\n",
    "\n",
    "def average_adiag(x):\n",
    "    \"\"\"Average antidiagonal elements of a 2d array\n",
    "    Parameters:\n",
    "    -----------\n",
    "    x : np.array\n",
    "        2d numpy array of size\n",
    "\n",
    "    Return:\n",
    "    -------\n",
    "    x1d : np.array\n",
    "        1d numpy array representing averaged antediangonal elements of x\n",
    "\n",
    "    \"\"\"\n",
    "    x1d = [np.mean(x[::-1, :].diagonal(i)) for i in\n",
    "           range(-x.shape[0] + 1, x.shape[1])]\n",
    "    return np.array(x1d)\n",
    "    \n",
    "# x = np.arange(12).reshape(4,3)\n",
    "# print(x)\n",
    "load_np_24 = np.load('average_baseline_24.npy')\n",
    "new_np_24 = average_adiag(load_np_24)\n",
    "load_np_6 = np.load('average_baseline_6.npy')\n",
    "new_np_6 = average_adiag(load_np_6)\n",
    "print(new_np_24)\n",
    "print(new_np_6)\n",
    "# Write Python 3 code in this online editor and run it."
   ]
  },
  {
   "cell_type": "code",
   "execution_count": 3,
   "id": "professional-theta",
   "metadata": {},
   "outputs": [
    {
     "data": {
      "text/plain": [
       "8736"
      ]
     },
     "execution_count": 3,
     "metadata": {},
     "output_type": "execute_result"
    }
   ],
   "source": [
    "len(AQI)"
   ]
  },
  {
   "cell_type": "code",
   "execution_count": 4,
   "id": "broke-assault",
   "metadata": {},
   "outputs": [
    {
     "name": "stdout",
     "output_type": "stream",
     "text": [
      "8736\n",
      "8736\n"
     ]
    }
   ],
   "source": [
    "print(len(new_np_24))\n",
    "print(len(new_np_6))"
   ]
  },
  {
   "cell_type": "code",
   "execution_count": 5,
   "id": "directed-barbados",
   "metadata": {},
   "outputs": [
    {
     "name": "stdout",
     "output_type": "stream",
     "text": [
      "Bi-LSTM - 24 hour\n",
      "MAE:  54.69996448618116\n",
      "RMSE:  84.10312238683719\n",
      "R2:  0.11137972025594822\n",
      "Bi-LSTM - 6 hour\n",
      "MAE:  48.23404539183704\n",
      "RMSE:  76.56707381705354\n",
      "R2:  0.26349435326627946\n"
     ]
    }
   ],
   "source": [
    "from sklearn.metrics import mean_squared_error\n",
    "from sklearn.metrics import mean_absolute_error\n",
    "from sklearn.metrics import r2_score\n",
    "from math import sqrt\n",
    "\n",
    "for i in range(len(AQI)):\n",
    "    if AQI[i] < 0:\n",
    "        np.delete(AQI, i)\n",
    "#         np.delete(new_np_24, i)\n",
    "        np.delete(new_np_6, i)\n",
    "\n",
    "# print(\"Bi-LSTM - 24 hour\")\n",
    "# print(\"MAE: \" , (mean_absolute_error(AQI, new_np_24)))\n",
    "# print(\"RMSE: \" , (sqrt(mean_squared_error(AQI, new_np_24))))\n",
    "# print(\"R2: \" , (r2_score(AQI, new_np_24)))\n",
    "\n",
    "print(\"Bi-LSTM - 6 hour\")\n",
    "print(\"MAE: \" , (mean_absolute_error(AQI, new_np_6)))\n",
    "print(\"RMSE: \" , (sqrt(mean_squared_error(AQI, new_np_6))))\n",
    "print(\"R2: \" , (r2_score(AQI, new_np_6)))"
   ]
  },
  {
   "cell_type": "code",
   "execution_count": null,
   "id": "respected-limit",
   "metadata": {},
   "outputs": [],
   "source": []
  }
 ],
 "metadata": {
  "kernelspec": {
   "display_name": "Python 3 (my_tensorflow_env)",
   "language": "python",
   "name": "my_tensorflow_env"
  },
  "language_info": {
   "codemirror_mode": {
    "name": "ipython",
    "version": 3
   },
   "file_extension": ".py",
   "mimetype": "text/x-python",
   "name": "python",
   "nbconvert_exporter": "python",
   "pygments_lexer": "ipython3",
   "version": "3.10.6"
  }
 },
 "nbformat": 4,
 "nbformat_minor": 5
}
