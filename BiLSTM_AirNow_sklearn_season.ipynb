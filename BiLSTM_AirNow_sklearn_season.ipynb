{
 "cells": [
  {
   "cell_type": "code",
   "execution_count": 12,
   "id": "welsh-popularity",
   "metadata": {},
   "outputs": [
    {
     "name": "stdout",
     "output_type": "stream",
     "text": [
      "\n",
      "[164.8 149.9 187.4 ...  52.2  49.4  39.7]\n"
     ]
    }
   ],
   "source": [
    "import pandas as pd\n",
    "data = pd.read_csv('airnow_spring.csv')\n",
    "AQI = data.iloc[:, 10].values\n",
    "# displaying selected columns\n",
    "print()\n",
    "# displaying a single column (Population)\n",
    "print(AQI)"
   ]
  },
  {
   "cell_type": "code",
   "execution_count": 13,
   "id": "nuclear-condition",
   "metadata": {},
   "outputs": [
    {
     "name": "stdout",
     "output_type": "stream",
     "text": [
      "[73.21879784 75.70805615 78.19716527 ... 60.74406864 61.01478902\n",
      " 61.19315928]\n",
      "[174.25508118 174.07265472 170.26320903 ...  49.4242185   48.67879868\n",
      "  52.1899147 ]\n"
     ]
    }
   ],
   "source": [
    "import numpy as np\n",
    "\n",
    "def average_adiag(x):\n",
    "    \"\"\"Average antidiagonal elements of a 2d array\n",
    "    Parameters:\n",
    "    -----------\n",
    "    x : np.array\n",
    "        2d numpy array of size\n",
    "\n",
    "    Return:\n",
    "    -------\n",
    "    x1d : np.array\n",
    "        1d numpy array representing averaged antediangonal elements of x\n",
    "\n",
    "    \"\"\"\n",
    "    x1d = [np.mean(x[::-1, :].diagonal(i)) for i in\n",
    "           range(-x.shape[0] + 1, x.shape[1])]\n",
    "    return np.array(x1d)\n",
    "    \n",
    "# x = np.arange(12).reshape(4,3)\n",
    "# print(x)\n",
    "# load_np_24 = np.load('average_baseline_24.npy')\n",
    "# new_np_24 = average_adiag(load_np_24)\n",
    "load_np_6 = np.load('BiLSTM_pred_np_6_spring.npy')\n",
    "new_np_6 = average_adiag(load_np_6)\n",
    "print(new_np_6)\n",
    "# Write Python 3 code in this online editor and run it."
   ]
  },
  {
   "cell_type": "code",
   "execution_count": 14,
   "id": "growing-bobby",
   "metadata": {},
   "outputs": [
    {
     "data": {
      "text/plain": [
       "2160"
      ]
     },
     "execution_count": 14,
     "metadata": {},
     "output_type": "execute_result"
    }
   ],
   "source": [
    "len(AQI)"
   ]
  },
  {
   "cell_type": "code",
   "execution_count": 15,
   "id": "applicable-interview",
   "metadata": {},
   "outputs": [
    {
     "name": "stdout",
     "output_type": "stream",
     "text": [
      "2160\n"
     ]
    }
   ],
   "source": [
    "# print(len(new_np_24))\n",
    "print(len(new_np_6))"
   ]
  },
  {
   "cell_type": "code",
   "execution_count": 16,
   "id": "narrative-framework",
   "metadata": {},
   "outputs": [
    {
     "name": "stdout",
     "output_type": "stream",
     "text": [
      "Bi-LSTM - 6 hour\n",
      "MAE:  18.204993615972874\n",
      "RMSE:  28.180188421250307\n",
      "R2:  0.8237498676230097\n"
     ]
    }
   ],
   "source": [
    "from sklearn.metrics import mean_squared_error\n",
    "from sklearn.metrics import mean_absolute_error\n",
    "from sklearn.metrics import r2_score\n",
    "from math import sqrt\n",
    "\n",
    "for i in range(len(AQI)):\n",
    "    if AQI[i] < 0:\n",
    "        np.delete(AQI, i)\n",
    "#         np.delete(new_np_24, i)\n",
    "        np.delete(new_np_6, i)\n",
    "\n",
    "# print(\"Bi-LSTM - 24 hour\")\n",
    "# print(\"MAE: \" , (mean_absolute_error(AQI, new_np_24)))\n",
    "# print(\"RMSE: \" , (sqrt(mean_squared_error(AQI, new_np_24))))\n",
    "# print(\"R2: \" , (r2_score(AQI, new_np_24)))\n",
    "\n",
    "print(\"Bi-LSTM - 6 hour\")\n",
    "print(\"MAE: \" , (mean_absolute_error(AQI, new_np_6)))\n",
    "print(\"RMSE: \" , (sqrt(mean_squared_error(AQI, new_np_6))))\n",
    "print(\"R2: \" , (r2_score(AQI, new_np_6)))"
   ]
  },
  {
   "cell_type": "code",
   "execution_count": null,
   "id": "radical-civilization",
   "metadata": {},
   "outputs": [],
   "source": []
  }
 ],
 "metadata": {
  "kernelspec": {
   "display_name": "Python 3 (my_tensorflow_env)",
   "language": "python",
   "name": "my_tensorflow_env"
  },
  "language_info": {
   "codemirror_mode": {
    "name": "ipython",
    "version": 3
   },
   "file_extension": ".py",
   "mimetype": "text/x-python",
   "name": "python",
   "nbconvert_exporter": "python",
   "pygments_lexer": "ipython3",
   "version": "3.10.6"
  }
 },
 "nbformat": 4,
 "nbformat_minor": 5
}
