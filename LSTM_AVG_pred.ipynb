{
 "cells": [
  {
   "cell_type": "code",
   "execution_count": 1,
   "id": "excessive-conversation",
   "metadata": {},
   "outputs": [
    {
     "name": "stdout",
     "output_type": "stream",
     "text": [
      "1\n",
      "2\n",
      "3\n",
      "4\n",
      "5\n",
      "6\n",
      "7\n",
      "8\n",
      "9\n",
      "10\n",
      "11\n"
     ]
    }
   ],
   "source": [
    "import numpy as np\n",
    "import os\n",
    "\n",
    "directory = \"LSTM_preds_np_48_6\"\n",
    "# directory = \"LSTM_exclusion\"\n",
    "cnt = 0\n",
    "for filename in os.listdir(os.path.join(os.getcwd(), directory)):\n",
    "#     print('hk')\n",
    "    if cnt == 0:\n",
    "#         print('in')\n",
    "        loaded_np = np.load(directory + '/' + filename)\n",
    "        loaded_np = np.reshape(loaded_np, (1, loaded_np.shape[0], loaded_np.shape[1]))\n",
    "        cnt += 1\n",
    "    else:\n",
    "        big_np = np.load(directory + '/'  + filename)\n",
    "        big_np = np.reshape(big_np, (1, big_np.shape[0], big_np.shape[1]))\n",
    "\n",
    "\n",
    "        # 12 x 8713 x 24 \n",
    "        #concat\n",
    "        loaded_np = np.concatenate((loaded_np, big_np), axis=0)\n",
    "#         loaded_np = np.hstack((loaded_np, big_np))\n",
    "\n",
    "        print(cnt)\n",
    "        cnt += 1\n",
    "\n",
    "    "
   ]
  },
  {
   "cell_type": "code",
   "execution_count": 2,
   "id": "duplicate-technical",
   "metadata": {},
   "outputs": [
    {
     "name": "stdout",
     "output_type": "stream",
     "text": [
      "(12, 8731, 6)\n"
     ]
    }
   ],
   "source": [
    "print(loaded_np.shape)"
   ]
  },
  {
   "cell_type": "code",
   "execution_count": 3,
   "id": "harmful-pressure",
   "metadata": {},
   "outputs": [
    {
     "name": "stdout",
     "output_type": "stream",
     "text": [
      "(8731, 6)\n",
      "[[187.33371862 190.45307604 188.02893003 182.4824206  176.34227689\n",
      "  167.52588209]\n",
      " [187.93330193 186.51461283 182.78882154 173.22180684 166.53896968\n",
      "  156.81614113]\n",
      " [184.15377998 180.05594889 175.82522392 167.79815165 158.20923551\n",
      "  151.11314519]\n",
      " ...\n",
      " [  9.30529156  11.38291906  18.53537615  21.27896174  25.73818572\n",
      "   31.23867846]\n",
      " [ 13.61093438  17.97046419  25.86080583  29.13408152  36.48457519\n",
      "   37.19774707]\n",
      " [ 16.08578869  21.65849588  28.6030941   32.3581419   35.2644043\n",
      "   37.72038778]]\n"
     ]
    }
   ],
   "source": [
    "average_pred = np.mean(loaded_np, axis=0)\n",
    "print(average_pred.shape)\n",
    "print(average_pred)"
   ]
  },
  {
   "cell_type": "code",
   "execution_count": 4,
   "id": "secondary-israel",
   "metadata": {},
   "outputs": [],
   "source": [
    "np.save('LSTM_48_6_average_preds.npy', average_pred)"
   ]
  },
  {
   "cell_type": "code",
   "execution_count": null,
   "id": "standing-component",
   "metadata": {},
   "outputs": [],
   "source": []
  }
 ],
 "metadata": {
  "kernelspec": {
   "display_name": "Python 3 (my_tensorflow_env2)",
   "language": "python",
   "name": "my_tensorflow_env"
  },
  "language_info": {
   "codemirror_mode": {
    "name": "ipython",
    "version": 3
   },
   "file_extension": ".py",
   "mimetype": "text/x-python",
   "name": "python",
   "nbconvert_exporter": "python",
   "pygments_lexer": "ipython3",
   "version": "3.10.6"
  }
 },
 "nbformat": 4,
 "nbformat_minor": 5
}
