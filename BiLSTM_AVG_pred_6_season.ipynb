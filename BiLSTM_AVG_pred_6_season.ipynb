{
 "cells": [
  {
   "cell_type": "code",
   "execution_count": 5,
   "id": "electoral-delaware",
   "metadata": {},
   "outputs": [
    {
     "name": "stdout",
     "output_type": "stream",
     "text": [
      "1\n",
      "2\n",
      "3\n",
      "4\n",
      "5\n",
      "6\n",
      "7\n",
      "8\n",
      "9\n",
      "10\n",
      "11\n"
     ]
    }
   ],
   "source": [
    "import numpy as np\n",
    "import os\n",
    "\n",
    "directory = \"BiLSTM_pred_np_6_summer\"\n",
    "cnt = 0\n",
    "for filename in os.listdir(os.path.join(os.getcwd(), directory)):\n",
    "#     print('hk')\n",
    "    if cnt == 0:\n",
    "#         print('in')\n",
    "        loaded_np = np.load('BiLSTM_pred_np_6_summer/' + filename)\n",
    "        loaded_np = np.reshape(loaded_np, (1, loaded_np.shape[0], loaded_np.shape[1]))\n",
    "        cnt += 1\n",
    "    else:\n",
    "        big_np = np.load('BiLSTM_pred_np_6_summer/' + filename)\n",
    "        big_np = np.reshape(big_np, (1, big_np.shape[0], big_np.shape[1]))\n",
    "\n",
    "\n",
    "        # 12 x 8713 x 24 \n",
    "        #concat\n",
    "        loaded_np = np.concatenate((loaded_np, big_np), axis=0)\n",
    "#         loaded_np = np.hstack((loaded_np, big_np))\n",
    "\n",
    "        print(cnt)\n",
    "        cnt += 1\n",
    "\n",
    "    "
   ]
  },
  {
   "cell_type": "code",
   "execution_count": 6,
   "id": "satisfied-princeton",
   "metadata": {},
   "outputs": [
    {
     "name": "stdout",
     "output_type": "stream",
     "text": [
      "(12, 2155, 6)\n"
     ]
    }
   ],
   "source": [
    "print(loaded_np.shape)"
   ]
  },
  {
   "cell_type": "code",
   "execution_count": 7,
   "id": "three-criminal",
   "metadata": {},
   "outputs": [
    {
     "name": "stdout",
     "output_type": "stream",
     "text": [
      "(2155, 6)\n",
      "[[55.40956608 57.86750285 59.15631644 63.58673986 66.31369019 68.65134939]\n",
      " [54.52551444 59.04505253 60.5936842  65.08534749 67.99182097 68.23976835]\n",
      " [57.5034097  59.50184663 60.73731391 66.05926959 68.25302633 71.1738294 ]\n",
      " ...\n",
      " [ 4.04481173 -5.35818879 -2.75764428 -2.00630081  4.67400034  3.42385227]\n",
      " [-3.41837115 -3.73350426 -2.03111284 -0.18796066  2.12088195  4.46150872]\n",
      " [-7.10674283 -7.93566487 -2.9043234  -0.3091886   2.86366403  4.53960253]]\n"
     ]
    }
   ],
   "source": [
    "average_pred = np.mean(loaded_np, axis=0)\n",
    "print(average_pred.shape)\n",
    "print(average_pred)"
   ]
  },
  {
   "cell_type": "code",
   "execution_count": 8,
   "id": "municipal-harmony",
   "metadata": {},
   "outputs": [
    {
     "name": "stderr",
     "output_type": "stream",
     "text": [
      "Exception ignored in atexit callback: <bound method InteractiveShell.atexit_operations of <ipykernel.zmqshell.ZMQInteractiveShell object at 0x2ae46fa39e70>>\n",
      "Traceback (most recent call last):\n",
      "  File \"/home/csci8523/jiaxx215/.conda/envs/my_tensorflow_env/lib/python3.10/site-packages/IPython/core/interactiveshell.py\", line 3800, in atexit_operations\n",
      "    self._atexit_once()\n",
      "  File \"/home/csci8523/jiaxx215/.conda/envs/my_tensorflow_env/lib/python3.10/site-packages/IPython/core/interactiveshell.py\", line 3783, in _atexit_once\n",
      "    self.history_manager.end_session()\n",
      "  File \"/home/csci8523/jiaxx215/.conda/envs/my_tensorflow_env/lib/python3.10/site-packages/IPython/core/history.py\", line 576, in end_session\n",
      "    self.writeout_cache()\n",
      "  File \"/home/csci8523/jiaxx215/.conda/envs/my_tensorflow_env/lib/python3.10/site-packages/decorator.py\", line 232, in fun\n",
      "    return caller(func, *(extras + args), **kw)\n",
      "  File \"/home/csci8523/jiaxx215/.conda/envs/my_tensorflow_env/lib/python3.10/site-packages/IPython/core/history.py\", line 60, in only_when_enabled\n",
      "    return f(self, *a, **kw)\n",
      "  File \"/home/csci8523/jiaxx215/.conda/envs/my_tensorflow_env/lib/python3.10/site-packages/IPython/core/history.py\", line 831, in writeout_cache\n",
      "    self._writeout_input_cache(conn)\n",
      "  File \"/home/csci8523/jiaxx215/.conda/envs/my_tensorflow_env/lib/python3.10/site-packages/IPython/core/history.py\", line 814, in _writeout_input_cache\n",
      "    conn.execute(\"INSERT INTO history VALUES (?, ?, ?, ?)\",\n",
      "sqlite3.OperationalError: database is locked\n"
     ]
    }
   ],
   "source": [
    "np.save('BiLSTM_pred_np_6_summer.npy', average_pred)"
   ]
  },
  {
   "cell_type": "code",
   "execution_count": null,
   "id": "entire-kenya",
   "metadata": {},
   "outputs": [],
   "source": []
  }
 ],
 "metadata": {
  "kernelspec": {
   "display_name": "Python 3 (my_tensorflow_env)",
   "language": "python",
   "name": "my_tensorflow_env"
  },
  "language_info": {
   "codemirror_mode": {
    "name": "ipython",
    "version": 3
   },
   "file_extension": ".py",
   "mimetype": "text/x-python",
   "name": "python",
   "nbconvert_exporter": "python",
   "pygments_lexer": "ipython3",
   "version": "3.10.6"
  }
 },
 "nbformat": 4,
 "nbformat_minor": 5
}
