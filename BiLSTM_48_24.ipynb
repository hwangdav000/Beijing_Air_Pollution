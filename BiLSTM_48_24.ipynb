{
 "cells": [
  {
   "cell_type": "code",
   "execution_count": 261,
   "metadata": {
    "colab": {
     "base_uri": "https://localhost:8080/",
     "height": 73
    },
    "executionInfo": {
     "elapsed": 12006,
     "status": "ok",
     "timestamp": 1668393796676,
     "user": {
      "displayName": "David Hwang",
      "userId": "08387036443170848644"
     },
     "user_tz": 360
    },
    "id": "vP8rJVfNs5OI",
    "outputId": "42372357-ea76-4df1-e3dd-3002479e2f8b"
   },
   "outputs": [],
   "source": [
    "# import data \n",
    "import numpy as np\n",
    "import pandas as df\n",
    "np_folder = 'PRSA_preprocess/PRSA_Wanliu_numpy'\n",
    "np_split = np_folder.split('/')\n",
    "np_file = np_split[1]\n",
    "splitter = np_file.split('_')\n",
    "display_name = splitter[0] + '_' + splitter[1]\n",
    "hi = np.load('PRSA_preprocess/' + np_file + '.npy', allow_pickle=True)\n",
    "\n",
    "dataframeee = df.DataFrame(hi)\n",
    "dataframeee.columns = ['No', 'year', 'month','day', 'hour','PM2.5', 'PM10', 'SO2', 'NO2', 'CO', 'O3', 'TEMP', 'PRES', 'DEWP', 'RAIN', 'wd', 'WSPM', 'station']\n",
    "dataframeee.to_csv(display_name + '.csv', index=False) # comma separated\n"
   ]
  },
  {
   "cell_type": "code",
   "execution_count": 262,
   "metadata": {
    "colab": {
     "base_uri": "https://localhost:8080/"
    },
    "executionInfo": {
     "elapsed": 2546,
     "status": "ok",
     "timestamp": 1668393799220,
     "user": {
      "displayName": "David Hwang",
      "userId": "08387036443170848644"
     },
     "user_tz": 360
    },
    "id": "-LDpoOIrrD3K",
    "outputId": "2ee7decb-337b-4ae2-97c1-e7d2076ddefc"
   },
   "outputs": [
    {
     "name": "stdout",
     "output_type": "stream",
     "text": [
      "                     PM2.5  TEMP    PRES  DEWP  RAIN     wd  WSPM\n",
      "date                                                             \n",
      "2013-03-01 00:00:00    8.0  -0.7  1023.0 -18.8   0.0  337.5   4.4\n",
      "2013-03-01 01:00:00    9.0  -1.1  1023.2 -18.2   0.0    0.0   4.7\n",
      "2013-03-01 02:00:00    3.0  -1.1  1023.5 -18.2   0.0  337.5   5.6\n",
      "2013-03-01 03:00:00   11.0  -1.4  1024.5 -19.4   0.0  315.0   3.1\n",
      "2013-03-01 04:00:00    3.0  -2.0  1025.2 -19.5   0.0    0.0   2.0\n",
      "...                    ...   ...     ...   ...   ...    ...   ...\n",
      "2017-02-28 19:00:00   11.0  12.6  1011.9 -14.3   0.0    0.0   2.0\n",
      "2017-02-28 20:00:00   15.0   9.4  1012.3 -11.9   0.0  247.5   1.0\n",
      "2017-02-28 21:00:00   13.0   8.7  1012.8 -13.7   0.0    0.0   1.1\n",
      "2017-02-28 22:00:00   12.0   7.8  1012.9 -12.6   0.0   22.5   1.0\n",
      "2017-02-28 23:00:00    7.0   7.0  1012.6 -11.2   0.0   45.0   1.1\n",
      "\n",
      "[35064 rows x 7 columns]\n"
     ]
    }
   ],
   "source": [
    "import pandas as pd\n",
    "from datetime import datetime\n",
    "import io\n",
    "\n",
    "# load data\n",
    "def parse(x):\n",
    "\treturn datetime.strptime(x, '%Y %m %d %H')\n",
    " \n",
    "# dataset = pd.read_csv(io.BytesIO(uploaded[hello]),  parse_dates = [['year', 'month', 'day', 'hour']], index_col=0, date_parser=parse)\n",
    "dataset = pd.read_csv(display_name + '.csv',  parse_dates = [['year', 'month', 'day', 'hour']], index_col=0, date_parser=parse)\n",
    "dataset.drop('No', axis=1, inplace=True)\n",
    "dataset.drop('PM10', axis=1, inplace=True)\n",
    "dataset.drop('SO2', axis=1, inplace=True)\n",
    "dataset.drop('CO', axis=1, inplace=True)\n",
    "dataset.drop('NO2', axis=1, inplace=True)\n",
    "dataset.drop('O3', axis=1, inplace=True)\n",
    "# for now drop station\n",
    "dataset.drop('station', axis=1, inplace=True)\n",
    "dataset.index.name = 'date'\n",
    "\n",
    "print(dataset)"
   ]
  },
  {
   "cell_type": "code",
   "execution_count": 263,
   "metadata": {
    "colab": {
     "base_uri": "https://localhost:8080/"
    },
    "executionInfo": {
     "elapsed": 882,
     "status": "ok",
     "timestamp": 1668393800101,
     "user": {
      "displayName": "David Hwang",
      "userId": "08387036443170848644"
     },
     "user_tz": 360
    },
    "id": "uXaYzLu0rtjg",
    "outputId": "eebaf8ba-cd53-4b4f-8d66-1546fc9b68b1"
   },
   "outputs": [
    {
     "name": "stdout",
     "output_type": "stream",
     "text": [
      "                     PM2.5  TEMP    PRES  DEWP  RAIN     wd  WSPM\n",
      "date                                                             \n",
      "2013-03-01 00:00:00    8.0  -0.7  1023.0 -18.8   0.0  337.5   4.4\n",
      "2013-03-01 01:00:00    9.0  -1.1  1023.2 -18.2   0.0    0.0   4.7\n",
      "2013-03-01 02:00:00    3.0  -1.1  1023.5 -18.2   0.0  337.5   5.6\n",
      "2013-03-01 03:00:00   11.0  -1.4  1024.5 -19.4   0.0  315.0   3.1\n",
      "2013-03-01 04:00:00    3.0  -2.0  1025.2 -19.5   0.0    0.0   2.0\n"
     ]
    }
   ],
   "source": [
    "# mark all NA values with 0\n",
    "dataset['PM2.5'].fillna(0, inplace=True)\n",
    "# drop the first 24 hours\n",
    "#dataset = dataset[24:]\n",
    "# summarize first 5 rows\n",
    "print(dataset.head(5))\n",
    "\n",
    "# save to file\n",
    "dataset.to_csv(display_name + '_pollution.csv')"
   ]
  },
  {
   "cell_type": "code",
   "execution_count": 264,
   "metadata": {},
   "outputs": [],
   "source": [
    "from pandas import read_csv\n",
    "from pandas import DataFrame\n",
    "from pandas import concat\n",
    "import numpy as np\n",
    "# install these\n",
    "from sklearn.preprocessing import LabelEncoder\n",
    "from sklearn.preprocessing import MinMaxScaler\n",
    "from matplotlib import pyplot\n",
    "import pandas as pd\n",
    "from datetime import datetime\n",
    "import io\n",
    "import numpy as np\n",
    "import pandas as df\n",
    "import keras\n",
    "from keras import backend as K\n",
    "import tensorflow as tf"
   ]
  },
  {
   "cell_type": "code",
   "execution_count": 265,
   "metadata": {
    "executionInfo": {
     "elapsed": 150,
     "status": "ok",
     "timestamp": 1668393800249,
     "user": {
      "displayName": "David Hwang",
      "userId": "08387036443170848644"
     },
     "user_tz": 360
    },
    "id": "0XJXMNEbxmK1"
   },
   "outputs": [],
   "source": [
    "from matplotlib import pyplot\n",
    "# load dataset\n",
    "dataset = pd.read_csv(display_name + '_pollution.csv', header=0, index_col=0)"
   ]
  },
  {
   "cell_type": "code",
   "execution_count": 266,
   "metadata": {
    "colab": {
     "base_uri": "https://localhost:8080/",
     "height": 266
    },
    "executionInfo": {
     "elapsed": 3244,
     "status": "ok",
     "timestamp": 1668393803492,
     "user": {
      "displayName": "David Hwang",
      "userId": "08387036443170848644"
     },
     "user_tz": 360
    },
    "id": "ODQkpDDZx6ZO",
    "outputId": "ffdafb20-c6e7-41a5-c6a4-bd51678059b0"
   },
   "outputs": [
    {
     "data": {
      "image/png": "[encoded data removed]",
      "text/plain": [
       "<Figure size 640x480 with 6 Axes>"
      ]
     },
     "metadata": {},
     "output_type": "display_data"
    }
   ],
   "source": [
    "values = dataset.values\n",
    "# specify columns to plot\n",
    "groups = [0, 1, 2, 3,  4, 6]\n",
    "i = 1\n",
    "# plot each column\n",
    "pyplot.figure()\n",
    "for group in groups:\n",
    "  pyplot.subplot(len(groups), 1, i)\n",
    "  #print(\"i: \" + str(i) + \", \" + str(values[:,group]))\n",
    "  pyplot.plot(values[:, group])\n",
    "  pyplot.title(dataset.columns[group], y=0.5, loc='right')\n",
    "  i += 1\n",
    "pyplot.show()"
   ]
  },
  {
   "cell_type": "code",
   "execution_count": 267,
   "metadata": {
    "executionInfo": {
     "elapsed": 1754,
     "status": "ok",
     "timestamp": 1668393805243,
     "user": {
      "displayName": "David Hwang",
      "userId": "08387036443170848644"
     },
     "user_tz": 360
    },
    "id": "B16jSFj3z-i8"
   },
   "outputs": [],
   "source": [
    "# Multivariate LSTM Forecast Model\n",
    "# Problem: predicting the pollution at the current hour (t) given the pollution measurement and weather conditions at the prior time step\n",
    "\n",
    "# The wind direction feature is label encoded (integer encoded). This could further be one-hot encoded in the future if you are interested in exploring it\n",
    "# Next, all features are normalized, then the dataset is transformed into a supervised learning problem. The weather variables for the hour to be predicted (t) are then removed.\n",
    "from pandas import read_csv\n",
    "from pandas import DataFrame\n",
    "from pandas import concat\n",
    "import numpy as np\n",
    "from sklearn.preprocessing import LabelEncoder\n",
    "from sklearn.preprocessing import MinMaxScaler\n",
    "\n",
    "# convert series to supervised learning\n",
    "def series_to_supervised(data, n_in=1, n_out=1, dropnan=True):\n",
    "\tn_vars = 1 if type(data) is list else data.shape[1]\n",
    "\tdf = DataFrame(data)\n",
    "\tcols, names = list(), list()\n",
    " \n",
    "\t# input sequence (t-n, ... t-1)\n",
    "\t# n_in is the number of hours as input\n",
    "\tfor i in range(n_in, 0, -1):\n",
    "\n",
    "\t\t# grab row of data and appent to col\n",
    "\t\tcols.append(df.shift(i))\n",
    "\t\tnames += [('var%d(t-%d)' % (j+1, i)) for j in range(n_vars)]\n",
    "\n",
    "\t# forecast sequence (t, t+1, ... t+n)\n",
    "\t# n_out is the number of PM we want to predict\n",
    "\tfor i in range(0, n_out):\n",
    "\t\tcols.append(df.shift(-i))\n",
    "\t\n",
    "\t\t# drop columns we don't want to predict\n",
    "\t\t# drop next hour stats for meteorological keep PM data\n",
    "\t\tif i == 0:\n",
    "\t\t\tnames += [('var%d(t)' % (j+1)) for j in range(n_vars)]\n",
    "\t\telse:\n",
    "\t\t\tnames += [('var%d(t+%d)' % (j+1, i)) for j in range(n_vars)]\n",
    "\n",
    "\t# put it all together\n",
    "\tagg = concat(cols, axis=1)\n",
    "\tagg.columns = names\n",
    "\t# drop rows with NaN values\n",
    "\tif dropnan:\n",
    "\t\tagg.dropna(inplace=True)\n",
    "\treturn agg\n",
    "\n",
    "# drop columns we don't want to predict\n",
    "# drop next hour stats for meteorological keep PM data\n",
    "def resize(df):\n",
    "  drop_list = []\n",
    "  for i in range((input*7), (input+output)*7, 1):\n",
    "      if (i%7 != 0):\n",
    "        drop_list.append(i)\n",
    "  print(drop_list)\n",
    "  df.drop(reframed.columns[drop_list], axis=1, inplace=True)"
   ]
  },
  {
   "cell_type": "code",
   "execution_count": 268,
   "metadata": {
    "colab": {
     "base_uri": "https://localhost:8080/"
    },
    "executionInfo": {
     "elapsed": 159,
     "status": "ok",
     "timestamp": 1668393805400,
     "user": {
      "displayName": "David Hwang",
      "userId": "08387036443170848644"
     },
     "user_tz": 360
    },
    "id": "M-Zwfj9m15lA",
    "outputId": "7baf94f9-e6f8-4005-faef-2e68cae31de0"
   },
   "outputs": [
    {
     "name": "stdout",
     "output_type": "stream",
     "text": [
      "(35064, 7)\n"
     ]
    }
   ],
   "source": [
    "# Preprocessing\n",
    "# integer encode direction\n",
    "encoder = LabelEncoder()\n",
    "values[:,5] = encoder.fit_transform(values[:,5])\n",
    "\n",
    "#print(values[:,5])\n",
    "# ensure all data is float\n",
    "values = values.astype('float32')\n",
    "\n",
    "# normalize features\n",
    "scaler = MinMaxScaler(feature_range=(0, 1))\n",
    "scaled = scaler.fit_transform(values)\n",
    "print(scaled.shape)\n",
    "#print(scaled[:,5])\n"
   ]
  },
  {
   "cell_type": "code",
   "execution_count": 269,
   "metadata": {},
   "outputs": [
    {
     "name": "stdout",
     "output_type": "stream",
     "text": [
      "[337, 338, 339, 340, 341, 342, 344, 345, 346, 347, 348, 349, 351, 352, 353, 354, 355, 356, 358, 359, 360, 361, 362, 363, 365, 366, 367, 368, 369, 370, 372, 373, 374, 375, 376, 377, 379, 380, 381, 382, 383, 384, 386, 387, 388, 389, 390, 391, 393, 394, 395, 396, 397, 398, 400, 401, 402, 403, 404, 405, 407, 408, 409, 410, 411, 412, 414, 415, 416, 417, 418, 419, 421, 422, 423, 424, 425, 426, 428, 429, 430, 431, 432, 433, 435, 436, 437, 438, 439, 440, 442, 443, 444, 445, 446, 447, 449, 450, 451, 452, 453, 454, 456, 457, 458, 459, 460, 461, 463, 464, 465, 466, 467, 468, 470, 471, 472, 473, 474, 475, 477, 478, 479, 480, 481, 482, 484, 485, 486, 487, 488, 489, 491, 492, 493, 494, 495, 496, 498, 499, 500, 501, 502, 503]\n"
     ]
    },
    {
     "data": {
      "text/html": [
       "<div>\n",
       "<style scoped>\n",
       "    .dataframe tbody tr th:only-of-type {\n",
       "        vertical-align: middle;\n",
       "    }\n",
       "\n",
       "    .dataframe tbody tr th {\n",
       "        vertical-align: top;\n",
       "    }\n",
       "\n",
       "    .dataframe thead th {\n",
       "        text-align: right;\n",
       "    }\n",
       "</style>\n",
       "<table border=\"1\" class=\"dataframe\">\n",
       "  <thead>\n",
       "    <tr style=\"text-align: right;\">\n",
       "      <th></th>\n",
       "      <th>var1(t-48)</th>\n",
       "      <th>var2(t-48)</th>\n",
       "      <th>var3(t-48)</th>\n",
       "      <th>var4(t-48)</th>\n",
       "      <th>var5(t-48)</th>\n",
       "      <th>var6(t-48)</th>\n",
       "      <th>var7(t-48)</th>\n",
       "      <th>var1(t-47)</th>\n",
       "      <th>var2(t-47)</th>\n",
       "      <th>var3(t-47)</th>\n",
       "      <th>...</th>\n",
       "      <th>var1(t+14)</th>\n",
       "      <th>var1(t+15)</th>\n",
       "      <th>var1(t+16)</th>\n",
       "      <th>var1(t+17)</th>\n",
       "      <th>var1(t+18)</th>\n",
       "      <th>var1(t+19)</th>\n",
       "      <th>var1(t+20)</th>\n",
       "      <th>var1(t+21)</th>\n",
       "      <th>var1(t+22)</th>\n",
       "      <th>var1(t+23)</th>\n",
       "    </tr>\n",
       "  </thead>\n",
       "  <tbody>\n",
       "    <tr>\n",
       "      <th>48</th>\n",
       "      <td>0.006283</td>\n",
       "      <td>0.268206</td>\n",
       "      <td>0.681984</td>\n",
       "      <td>0.253943</td>\n",
       "      <td>0.0</td>\n",
       "      <td>1.000000</td>\n",
       "      <td>0.392857</td>\n",
       "      <td>0.007330</td>\n",
       "      <td>0.261101</td>\n",
       "      <td>0.685661</td>\n",
       "      <td>...</td>\n",
       "      <td>0.085864</td>\n",
       "      <td>0.042932</td>\n",
       "      <td>0.025131</td>\n",
       "      <td>0.050262</td>\n",
       "      <td>0.040838</td>\n",
       "      <td>0.069110</td>\n",
       "      <td>0.149738</td>\n",
       "      <td>0.080628</td>\n",
       "      <td>0.023037</td>\n",
       "      <td>0.015707</td>\n",
       "    </tr>\n",
       "    <tr>\n",
       "      <th>49</th>\n",
       "      <td>0.007330</td>\n",
       "      <td>0.261101</td>\n",
       "      <td>0.685661</td>\n",
       "      <td>0.263407</td>\n",
       "      <td>0.0</td>\n",
       "      <td>0.000000</td>\n",
       "      <td>0.419643</td>\n",
       "      <td>0.001047</td>\n",
       "      <td>0.261101</td>\n",
       "      <td>0.691175</td>\n",
       "      <td>...</td>\n",
       "      <td>0.042932</td>\n",
       "      <td>0.025131</td>\n",
       "      <td>0.050262</td>\n",
       "      <td>0.040838</td>\n",
       "      <td>0.069110</td>\n",
       "      <td>0.149738</td>\n",
       "      <td>0.080628</td>\n",
       "      <td>0.023037</td>\n",
       "      <td>0.015707</td>\n",
       "      <td>0.017801</td>\n",
       "    </tr>\n",
       "    <tr>\n",
       "      <th>50</th>\n",
       "      <td>0.001047</td>\n",
       "      <td>0.261101</td>\n",
       "      <td>0.691175</td>\n",
       "      <td>0.263407</td>\n",
       "      <td>0.0</td>\n",
       "      <td>1.000000</td>\n",
       "      <td>0.500000</td>\n",
       "      <td>0.009424</td>\n",
       "      <td>0.255773</td>\n",
       "      <td>0.709558</td>\n",
       "      <td>...</td>\n",
       "      <td>0.025131</td>\n",
       "      <td>0.050262</td>\n",
       "      <td>0.040838</td>\n",
       "      <td>0.069110</td>\n",
       "      <td>0.149738</td>\n",
       "      <td>0.080628</td>\n",
       "      <td>0.023037</td>\n",
       "      <td>0.015707</td>\n",
       "      <td>0.017801</td>\n",
       "      <td>0.043979</td>\n",
       "    </tr>\n",
       "    <tr>\n",
       "      <th>51</th>\n",
       "      <td>0.009424</td>\n",
       "      <td>0.255773</td>\n",
       "      <td>0.709558</td>\n",
       "      <td>0.244479</td>\n",
       "      <td>0.0</td>\n",
       "      <td>0.992754</td>\n",
       "      <td>0.276786</td>\n",
       "      <td>0.001047</td>\n",
       "      <td>0.245115</td>\n",
       "      <td>0.722425</td>\n",
       "      <td>...</td>\n",
       "      <td>0.050262</td>\n",
       "      <td>0.040838</td>\n",
       "      <td>0.069110</td>\n",
       "      <td>0.149738</td>\n",
       "      <td>0.080628</td>\n",
       "      <td>0.023037</td>\n",
       "      <td>0.015707</td>\n",
       "      <td>0.017801</td>\n",
       "      <td>0.043979</td>\n",
       "      <td>0.041885</td>\n",
       "    </tr>\n",
       "    <tr>\n",
       "      <th>52</th>\n",
       "      <td>0.001047</td>\n",
       "      <td>0.245115</td>\n",
       "      <td>0.722425</td>\n",
       "      <td>0.242902</td>\n",
       "      <td>0.0</td>\n",
       "      <td>0.000000</td>\n",
       "      <td>0.178571</td>\n",
       "      <td>0.001047</td>\n",
       "      <td>0.241563</td>\n",
       "      <td>0.729778</td>\n",
       "      <td>...</td>\n",
       "      <td>0.040838</td>\n",
       "      <td>0.069110</td>\n",
       "      <td>0.149738</td>\n",
       "      <td>0.080628</td>\n",
       "      <td>0.023037</td>\n",
       "      <td>0.015707</td>\n",
       "      <td>0.017801</td>\n",
       "      <td>0.043979</td>\n",
       "      <td>0.041885</td>\n",
       "      <td>0.016754</td>\n",
       "    </tr>\n",
       "  </tbody>\n",
       "</table>\n",
       "<p>5 rows × 360 columns</p>\n",
       "</div>"
      ],
      "text/plain": [
       "    var1(t-48)  var2(t-48)  var3(t-48)  var4(t-48)  var5(t-48)  var6(t-48)  \\\n",
       "48    0.006283    0.268206    0.681984    0.253943         0.0    1.000000   \n",
       "49    0.007330    0.261101    0.685661    0.263407         0.0    0.000000   \n",
       "50    0.001047    0.261101    0.691175    0.263407         0.0    1.000000   \n",
       "51    0.009424    0.255773    0.709558    0.244479         0.0    0.992754   \n",
       "52    0.001047    0.245115    0.722425    0.242902         0.0    0.000000   \n",
       "\n",
       "    var7(t-48)  var1(t-47)  var2(t-47)  var3(t-47)  ...  var1(t+14)  \\\n",
       "48    0.392857    0.007330    0.261101    0.685661  ...    0.085864   \n",
       "49    0.419643    0.001047    0.261101    0.691175  ...    0.042932   \n",
       "50    0.500000    0.009424    0.255773    0.709558  ...    0.025131   \n",
       "51    0.276786    0.001047    0.245115    0.722425  ...    0.050262   \n",
       "52    0.178571    0.001047    0.241563    0.729778  ...    0.040838   \n",
       "\n",
       "    var1(t+15)  var1(t+16)  var1(t+17)  var1(t+18)  var1(t+19)  var1(t+20)  \\\n",
       "48    0.042932    0.025131    0.050262    0.040838    0.069110    0.149738   \n",
       "49    0.025131    0.050262    0.040838    0.069110    0.149738    0.080628   \n",
       "50    0.050262    0.040838    0.069110    0.149738    0.080628    0.023037   \n",
       "51    0.040838    0.069110    0.149738    0.080628    0.023037    0.015707   \n",
       "52    0.069110    0.149738    0.080628    0.023037    0.015707    0.017801   \n",
       "\n",
       "    var1(t+21)  var1(t+22)  var1(t+23)  \n",
       "48    0.080628    0.023037    0.015707  \n",
       "49    0.023037    0.015707    0.017801  \n",
       "50    0.015707    0.017801    0.043979  \n",
       "51    0.017801    0.043979    0.041885  \n",
       "52    0.043979    0.041885    0.016754  \n",
       "\n",
       "[5 rows x 360 columns]"
      ]
     },
     "execution_count": 269,
     "metadata": {},
     "output_type": "execute_result"
    }
   ],
   "source": [
    "input = 48\n",
    "output = 24\n",
    "# frame as supervised learning\n",
    "reframed = series_to_supervised(scaled, input, output) # 48, 24\n",
    "resize(reframed)\n",
    "reframed.head()\n",
    "\n",
    "\n",
    "# drop columns we don't want to predict\n",
    "# drop next hour stats for meteorological keep PM data\n",
    "# reframed.drop(reframed.columns[[8, 9,10,11,12,13]], axis=1, inplace=True)\n"
   ]
  },
  {
   "cell_type": "code",
   "execution_count": 270,
   "metadata": {},
   "outputs": [
    {
     "name": "stdout",
     "output_type": "stream",
     "text": [
      "[[0.00628272 0.26820606 0.68198395 ... 0.08062828 0.02303665 0.01570681]\n",
      " [0.00732984 0.26110125 0.6856613  ... 0.02303665 0.01570681 0.01780105]\n",
      " [0.00104712 0.26110125 0.69117546 ... 0.01570681 0.01780105 0.04397906]\n",
      " ...\n",
      " [0.01780105 0.3534636  0.5955868  ... 0.00942408 0.01361257 0.01151832]\n",
      " [0.01151832 0.357016   0.6029415  ... 0.01361257 0.01151832 0.0104712 ]\n",
      " [0.01465969 0.3516874  0.60845566 ... 0.01151832 0.0104712  0.0052356 ]]\n",
      "(34993, 360)\n"
     ]
    }
   ],
   "source": [
    "print(reframed.values)\n",
    "print(reframed.shape)\n",
    "#type(train)"
   ]
  },
  {
   "cell_type": "code",
   "execution_count": 271,
   "metadata": {
    "colab": {
     "base_uri": "https://localhost:8080/"
    },
    "executionInfo": {
     "elapsed": 4,
     "status": "ok",
     "timestamp": 1668393805401,
     "user": {
      "displayName": "David Hwang",
      "userId": "08387036443170848644"
     },
     "user_tz": 360
    },
    "id": "BFkwrWIj4ww3",
    "outputId": "38f3ea26-253c-48a4-d3b8-a10d81384b3b"
   },
   "outputs": [
    {
     "name": "stdout",
     "output_type": "stream",
     "text": [
      "(26280, 1, 336) (26280, 24) (8713, 1, 336) (8713, 24)\n"
     ]
    }
   ],
   "source": [
    "# Define and Fit Model\n",
    "# split into train and test sets\n",
    "values = reframed.values\n",
    "features = 7\n",
    "n_train_hours = 365 * 24 * 3\n",
    "# train 75 % / test 25 %\n",
    "train = values[:n_train_hours, :]\n",
    "\n",
    "# rest is test data\n",
    "test = values[n_train_hours:, :]\n",
    "\n",
    "# split into input and outputs\n",
    "train_X, train_y = train[:, :input*features], train[:, input*features:]\n",
    "test_X, test_y = test[:, :input*features], test[:, input*features:]\n",
    "\n",
    "# reshape input to be 3D [samples, timesteps, features]\n",
    "train_X = train_X.reshape((train_X.shape[0], 1, train_X.shape[1]))\n",
    "test_X = test_X.reshape((test_X.shape[0], 1, test_X.shape[1]))\n",
    "print(train_X.shape, train_y.shape, test_X.shape, test_y.shape)\n",
    "# around 9k hours of training, 26k hours of testing"
   ]
  },
  {
   "cell_type": "code",
   "execution_count": null,
   "metadata": {},
   "outputs": [],
   "source": []
  },
  {
   "cell_type": "code",
   "execution_count": 272,
   "metadata": {
    "colab": {
     "base_uri": "https://localhost:8080/"
    },
    "executionInfo": {
     "elapsed": 3,
     "status": "ok",
     "timestamp": 1668393805401,
     "user": {
      "displayName": "David Hwang",
      "userId": "08387036443170848644"
     },
     "user_tz": 360
    },
    "id": "2XAh2ti-69HM",
    "outputId": "a6855176-3039-4241-9574-7635e09ea040"
   },
   "outputs": [],
   "source": [
    "# list1 = np.array([[1,2,3],[3,4,5],[5,6,7],[7,8,9],[9,10,11]])\n",
    "# print(list1)\n",
    "# print(list1[:,0 ])\n",
    "# print(list1[:3, ])\n",
    "# print(list1[:3, :-1])\n",
    "# print(list1[:, :-1])\n",
    "# print(list1[ :,-1])"
   ]
  },
  {
   "cell_type": "code",
   "execution_count": 273,
   "metadata": {
    "executionInfo": {
     "elapsed": 7246,
     "status": "ok",
     "timestamp": 1668393812772,
     "user": {
      "displayName": "David Hwang",
      "userId": "08387036443170848644"
     },
     "user_tz": 360
    },
    "id": "4p_y0UEh_gts"
   },
   "outputs": [],
   "source": [
    "# Create LSTM Model\n",
    "# 50 neurons in first HL and 1 neuron in output layer for prediction\n",
    "# input shape will be 1 time step with 7 features\n",
    "\n",
    "# design network\n",
    "import tensorflow as tf\n",
    "\n",
    "model = tf.keras.Sequential()\n",
    "# model.add(tf.keras.layers.LSTM(50, input_shape=(train_X.shape[1], train_X.shape[2])))\n",
    "model.add(tf.keras.layers.Bidirectional(tf.keras.layers.LSTM(50, input_shape=(train_X.shape[1], train_X.shape[2]))))\n",
    "model.add(tf.keras.layers.Dense(output))"
   ]
  },
  {
   "cell_type": "code",
   "execution_count": 274,
   "metadata": {
    "colab": {
     "base_uri": "https://localhost:8080/"
    },
    "id": "1h8bCvNqA_EX",
    "outputId": "1ae9cfaa-49ee-4c08-eac1-6256b2ce9e1d"
   },
   "outputs": [
    {
     "name": "stdout",
     "output_type": "stream",
     "text": [
      "Epoch 1/50\n",
      "292/292 [==============================] - 3s 5ms/step - loss: 0.0847 - val_loss: 0.0740\n",
      "Epoch 2/50\n",
      "292/292 [==============================] - 1s 3ms/step - loss: 0.0713 - val_loss: 0.0696\n",
      "Epoch 3/50\n",
      "292/292 [==============================] - 1s 3ms/step - loss: 0.0679 - val_loss: 0.0675\n",
      "Epoch 4/50\n",
      "292/292 [==============================] - 1s 3ms/step - loss: 0.0661 - val_loss: 0.0644\n",
      "Epoch 5/50\n",
      "292/292 [==============================] - 1s 3ms/step - loss: 0.0649 - val_loss: 0.0649\n",
      "Epoch 6/50\n",
      "292/292 [==============================] - 1s 3ms/step - loss: 0.0642 - val_loss: 0.0617\n",
      "Epoch 7/50\n",
      "292/292 [==============================] - 1s 3ms/step - loss: 0.0635 - val_loss: 0.0607\n",
      "Epoch 8/50\n",
      "292/292 [==============================] - 1s 3ms/step - loss: 0.0630 - val_loss: 0.0614\n",
      "Epoch 9/50\n",
      "292/292 [==============================] - 1s 3ms/step - loss: 0.0625 - val_loss: 0.0596\n",
      "Epoch 10/50\n",
      "292/292 [==============================] - 1s 3ms/step - loss: 0.0622 - val_loss: 0.0611\n",
      "Epoch 11/50\n",
      "292/292 [==============================] - 1s 3ms/step - loss: 0.0619 - val_loss: 0.0608\n",
      "Epoch 12/50\n",
      "292/292 [==============================] - 1s 3ms/step - loss: 0.0616 - val_loss: 0.0612\n",
      "Epoch 13/50\n",
      "292/292 [==============================] - 1s 3ms/step - loss: 0.0613 - val_loss: 0.0581\n",
      "Epoch 14/50\n",
      "292/292 [==============================] - 1s 3ms/step - loss: 0.0611 - val_loss: 0.0575\n",
      "Epoch 15/50\n",
      "292/292 [==============================] - 1s 3ms/step - loss: 0.0609 - val_loss: 0.0584\n",
      "Epoch 16/50\n",
      "292/292 [==============================] - 1s 3ms/step - loss: 0.0607 - val_loss: 0.0579\n",
      "Epoch 17/50\n",
      "292/292 [==============================] - 1s 3ms/step - loss: 0.0605 - val_loss: 0.0589\n",
      "Epoch 18/50\n",
      "292/292 [==============================] - 1s 3ms/step - loss: 0.0604 - val_loss: 0.0585\n",
      "Epoch 19/50\n",
      "292/292 [==============================] - 1s 3ms/step - loss: 0.0602 - val_loss: 0.0586\n",
      "Epoch 20/50\n",
      "292/292 [==============================] - 1s 3ms/step - loss: 0.0600 - val_loss: 0.0573\n",
      "Epoch 21/50\n",
      "292/292 [==============================] - 1s 3ms/step - loss: 0.0600 - val_loss: 0.0576\n",
      "Epoch 22/50\n",
      "292/292 [==============================] - 1s 3ms/step - loss: 0.0599 - val_loss: 0.0586\n",
      "Epoch 23/50\n",
      "292/292 [==============================] - 1s 3ms/step - loss: 0.0597 - val_loss: 0.0577\n",
      "Epoch 24/50\n",
      "292/292 [==============================] - 1s 3ms/step - loss: 0.0595 - val_loss: 0.0570\n",
      "Epoch 25/50\n",
      "292/292 [==============================] - 1s 3ms/step - loss: 0.0594 - val_loss: 0.0570\n",
      "Epoch 26/50\n",
      "292/292 [==============================] - 1s 3ms/step - loss: 0.0593 - val_loss: 0.0580\n",
      "Epoch 27/50\n",
      "292/292 [==============================] - 1s 3ms/step - loss: 0.0592 - val_loss: 0.0562\n",
      "Epoch 28/50\n",
      "292/292 [==============================] - 1s 3ms/step - loss: 0.0591 - val_loss: 0.0556\n",
      "Epoch 29/50\n",
      "292/292 [==============================] - 1s 3ms/step - loss: 0.0591 - val_loss: 0.0560\n",
      "Epoch 30/50\n",
      "292/292 [==============================] - 1s 3ms/step - loss: 0.0590 - val_loss: 0.0556\n",
      "Epoch 31/50\n",
      "292/292 [==============================] - 1s 3ms/step - loss: 0.0589 - val_loss: 0.0556\n",
      "Epoch 32/50\n",
      "292/292 [==============================] - 1s 3ms/step - loss: 0.0588 - val_loss: 0.0565\n",
      "Epoch 33/50\n",
      "292/292 [==============================] - 1s 3ms/step - loss: 0.0588 - val_loss: 0.0566\n",
      "Epoch 34/50\n",
      "292/292 [==============================] - 1s 3ms/step - loss: 0.0587 - val_loss: 0.0551\n",
      "Epoch 35/50\n",
      "292/292 [==============================] - 1s 3ms/step - loss: 0.0586 - val_loss: 0.0555\n",
      "Epoch 36/50\n",
      "292/292 [==============================] - 1s 3ms/step - loss: 0.0585 - val_loss: 0.0555\n",
      "Epoch 37/50\n",
      "292/292 [==============================] - 1s 3ms/step - loss: 0.0585 - val_loss: 0.0548\n",
      "Epoch 38/50\n",
      "292/292 [==============================] - 1s 3ms/step - loss: 0.0583 - val_loss: 0.0557\n",
      "Epoch 39/50\n",
      "292/292 [==============================] - 1s 3ms/step - loss: 0.0583 - val_loss: 0.0566\n",
      "Epoch 40/50\n",
      "292/292 [==============================] - 1s 3ms/step - loss: 0.0583 - val_loss: 0.0549\n",
      "Epoch 41/50\n",
      "292/292 [==============================] - 1s 3ms/step - loss: 0.0582 - val_loss: 0.0569\n",
      "Epoch 42/50\n",
      "292/292 [==============================] - 1s 3ms/step - loss: 0.0581 - val_loss: 0.0572\n",
      "Epoch 43/50\n",
      "292/292 [==============================] - 1s 3ms/step - loss: 0.0580 - val_loss: 0.0544\n",
      "Epoch 44/50\n",
      "292/292 [==============================] - 1s 3ms/step - loss: 0.0580 - val_loss: 0.0565\n",
      "Epoch 45/50\n",
      "292/292 [==============================] - 1s 3ms/step - loss: 0.0579 - val_loss: 0.0553\n",
      "Epoch 46/50\n",
      "292/292 [==============================] - 1s 3ms/step - loss: 0.0578 - val_loss: 0.0542\n",
      "Epoch 47/50\n",
      "292/292 [==============================] - 1s 3ms/step - loss: 0.0580 - val_loss: 0.0551\n",
      "Epoch 48/50\n",
      "292/292 [==============================] - 1s 3ms/step - loss: 0.0577 - val_loss: 0.0554\n",
      "Epoch 49/50\n",
      "292/292 [==============================] - 1s 3ms/step - loss: 0.0577 - val_loss: 0.0557\n",
      "Epoch 50/50\n",
      "292/292 [==============================] - 1s 3ms/step - loss: 0.0577 - val_loss: 0.0562\n"
     ]
    },
    {
     "data": {
      "image/png": "[encoded data removed]",
      "text/plain": [
       "<Figure size 640x480 with 1 Axes>"
      ]
     },
     "metadata": {},
     "output_type": "display_data"
    }
   ],
   "source": [
    "import keras\n",
    "from keras import backend as K\n",
    "\n",
    "input_shape = train_X.shape[1:]\n",
    "def root_mean_squared_error(y_true, y_pred):\n",
    "        return K.sqrt(K.mean(K.square(y_pred - y_true))) \n",
    "\n",
    "\n",
    "model.compile(\n",
    "    loss= root_mean_squared_error, \n",
    "    optimizer=keras.optimizers.Adam(learning_rate=1e-4)\n",
    ")\n",
    "\n",
    "# fit network\n",
    "history = model.fit(\n",
    "    train_X, \n",
    "    train_y, \n",
    "    epochs=50, \n",
    "    batch_size=72,\n",
    "    validation_split=0.2\n",
    ")\n",
    "\n",
    "# plot history\n",
    "pyplot.plot(history.history['loss'], label='train')\n",
    "pyplot.plot(history.history['val_loss'], label='validation')\n",
    "pyplot.legend()\n",
    "pyplot.show()"
   ]
  },
  {
   "cell_type": "code",
   "execution_count": 275,
   "metadata": {},
   "outputs": [
    {
     "name": "stdout",
     "output_type": "stream",
     "text": [
      "273/273 [==============================] - 1s 1ms/step\n",
      "Test RMSE: 59.969\n",
      "(8713, 24)\n"
     ]
    }
   ],
   "source": [
    "from math import sqrt\n",
    "from numpy import concatenate\n",
    "from sklearn.metrics import mean_squared_error\n",
    "\n",
    "test_X = test_X.reshape((test_X.shape[0], 1, input*features))\n",
    "\n",
    "# Get prediction there can be multiple \n",
    "yhat = model.predict(test_X)\n",
    "\n",
    "# rmse list\n",
    "rmse_list = []\n",
    "\n",
    "# this is just for inverse transform\n",
    "test_X = test_X.reshape((test_X.shape[0], input*features))\n",
    "\n",
    "to_save = np.zeros(shape=(yhat.shape[0], 1))\n",
    "\n",
    "# calc rmse for every prediction\n",
    "for i in range(yhat.shape[1]):\n",
    "  # invert scaling for forecast\n",
    "  inv_yhat = concatenate((yhat[:, i:i+1], test_X[:, -(features-1):]), axis=1)\n",
    "  inv_yhat = scaler.inverse_transform(inv_yhat)\n",
    "#   print(inv_yhat.shape)\n",
    "  inv_yhat = inv_yhat[:,0]\n",
    "  \n",
    "  inv_yhat_reshape = np.reshape(inv_yhat, (len(inv_yhat), 1))\n",
    "  to_save = np.hstack((to_save, inv_yhat_reshape))\n",
    "\n",
    "  # invert scaling for actual\n",
    "  inv_y = concatenate((test_y[:, i:i+1], test_X[:, -(features-1):]), axis=1)\n",
    "  inv_y = scaler.inverse_transform(inv_y)\n",
    "  inv_y = inv_y[:,0]\n",
    "\n",
    "  rmse = sqrt(mean_squared_error(inv_y, inv_yhat))\n",
    "  rmse_list.append(rmse)\n",
    "\n",
    "# calculate RMSE\n",
    "avg_rmse = sum(rmse_list) / len(rmse_list)\n",
    "print('Test RMSE: %.3f' % avg_rmse)\n",
    "\n",
    "to_save = to_save[:, 1:]\n",
    "print(to_save.shape)\n",
    "np.save('BiLSTM_pred_np/' + display_name + \"_np.npy\", to_save)"
   ]
  },
  {
   "cell_type": "code",
   "execution_count": 276,
   "metadata": {},
   "outputs": [
    {
     "name": "stdout",
     "output_type": "stream",
     "text": [
      "[191.41035461 191.91123962 184.33873494 ... 118.98102061 121.18543625\n",
      " 123.21405029]\n"
     ]
    }
   ],
   "source": [
    "import numpy as np\n",
    "\n",
    "def average_adiag(x):\n",
    "    \"\"\"Average antidiagonal elements of a 2d array\n",
    "    Parameters:\n",
    "    -----------\n",
    "    x : np.array\n",
    "        2d numpy array of size\n",
    "\n",
    "    Return:\n",
    "    -------\n",
    "    x1d : np.array\n",
    "        1d numpy array representing averaged antediangonal elements of x\n",
    "\n",
    "    \"\"\"\n",
    "    x1d = [np.mean(x[::-1, :].diagonal(i)) for i in\n",
    "           range(-x.shape[0] + 1, x.shape[1])]\n",
    "    return np.array(x1d)\n",
    "    \n",
    "# x = np.arange(12).reshape(4,3)\n",
    "# print(x)\n",
    "new_np = average_adiag(to_save)\n",
    "print(new_np)# Online Python compiler (interpreter) to run Python online.\n",
    "# Write Python 3 code in this online editor and run it."
   ]
  },
  {
   "cell_type": "code",
   "execution_count": 277,
   "metadata": {},
   "outputs": [
    {
     "name": "stderr",
     "output_type": "stream",
     "text": [
      "WARNING:absl:Found untraced functions such as lstm_cell_31_layer_call_fn, lstm_cell_31_layer_call_and_return_conditional_losses, lstm_cell_32_layer_call_fn, lstm_cell_32_layer_call_and_return_conditional_losses while saving (showing 4 of 4). These functions will not be directly callable after loading.\n"
     ]
    },
    {
     "name": "stdout",
     "output_type": "stream",
     "text": [
      "INFO:tensorflow:Assets written to: BiLSTM_models_48_24/PRSA_Wanliu/assets\n"
     ]
    },
    {
     "name": "stderr",
     "output_type": "stream",
     "text": [
      "INFO:tensorflow:Assets written to: BiLSTM_models_48_24/PRSA_Wanliu/assets\n"
     ]
    }
   ],
   "source": [
    "model.save('BiLSTM_models_48_24/' + display_name)"
   ]
  },
  {
   "cell_type": "code",
   "execution_count": 278,
   "metadata": {},
   "outputs": [
    {
     "data": {
      "text/plain": [
       "24"
      ]
     },
     "execution_count": 278,
     "metadata": {},
     "output_type": "execute_result"
    }
   ],
   "source": [
    "len(rmse_list)"
   ]
  },
  {
   "cell_type": "code",
   "execution_count": 279,
   "metadata": {},
   "outputs": [
    {
     "data": {
      "text/plain": [
       "(8713,)"
      ]
     },
     "execution_count": 279,
     "metadata": {},
     "output_type": "execute_result"
    }
   ],
   "source": [
    "inv_yhat.shape"
   ]
  },
  {
   "cell_type": "code",
   "execution_count": 280,
   "metadata": {},
   "outputs": [],
   "source": [
    "# ensemble models together - for loop thorugh all models.predict(test_x) -> average all 12 outputs together"
   ]
  },
  {
   "cell_type": "code",
   "execution_count": 281,
   "metadata": {},
   "outputs": [],
   "source": [
    "# model = keras.models.load_model('LSTM_models_48_24/PRSA_Aotizhongxin', custom_objects={'root_mean_squared_error': root_mean_squared_error})"
   ]
  },
  {
   "cell_type": "code",
   "execution_count": 282,
   "metadata": {},
   "outputs": [],
   "source": [
    "# looop here."
   ]
  },
  {
   "cell_type": "code",
   "execution_count": 283,
   "metadata": {},
   "outputs": [
    {
     "name": "stdout",
     "output_type": "stream",
     "text": [
      "[[0.19833545 0.20899665 0.19955865 ... 0.16601053 0.18848337 0.1792101 ]\n",
      " [0.18872324 0.1976707  0.18639965 ... 0.16988944 0.18159509 0.17849277]\n",
      " [0.1755625  0.17207658 0.16850223 ... 0.16230361 0.17618613 0.16849706]\n",
      " ...\n",
      " [0.09045298 0.11514282 0.10851197 ... 0.11834944 0.1264345  0.13332982]\n",
      " [0.07956462 0.10305828 0.0915517  ... 0.11666856 0.12337463 0.13134688]\n",
      " [0.05873205 0.0717296  0.06638083 ... 0.1107752  0.11825613 0.1269257 ]]\n"
     ]
    }
   ],
   "source": [
    "print(yhat)"
   ]
  },
  {
   "cell_type": "code",
   "execution_count": 284,
   "metadata": {},
   "outputs": [
    {
     "name": "stdout",
     "output_type": "stream",
     "text": [
      "(8713, 24)\n"
     ]
    }
   ],
   "source": [
    "print(yhat.shape)"
   ]
  },
  {
   "cell_type": "code",
   "execution_count": 285,
   "metadata": {},
   "outputs": [
    {
     "name": "stdout",
     "output_type": "stream",
     "text": [
      "(8713, 336)\n"
     ]
    }
   ],
   "source": [
    "print(test_X.shape)"
   ]
  },
  {
   "cell_type": "code",
   "execution_count": 286,
   "metadata": {},
   "outputs": [
    {
     "name": "stdout",
     "output_type": "stream",
     "text": [
      "8736\n"
     ]
    }
   ],
   "source": [
    "print(len(new_np))"
   ]
  },
  {
   "cell_type": "code",
   "execution_count": null,
   "metadata": {},
   "outputs": [],
   "source": []
  }
 ],
 "metadata": {
  "colab": {
   "authorship_tag": "ABX9TyPjS9zG9YgieXlqGYnmsUWX",
   "collapsed_sections": [],
   "provenance": []
  },
  "kernelspec": {
   "display_name": "Python 3 (my_tensorflow_env)",
   "language": "python",
   "name": "my_tensorflow_env"
  },
  "language_info": {
   "codemirror_mode": {
    "name": "ipython",
    "version": 3
   },
   "file_extension": ".py",
   "mimetype": "text/x-python",
   "name": "python",
   "nbconvert_exporter": "python",
   "pygments_lexer": "ipython3",
   "version": "3.10.6"
  }
 },
 "nbformat": 4,
 "nbformat_minor": 4
}
