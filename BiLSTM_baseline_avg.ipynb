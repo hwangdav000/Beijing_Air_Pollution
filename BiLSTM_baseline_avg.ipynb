{
 "cells": [
  {
   "cell_type": "code",
   "execution_count": 1,
   "id": "occupied-hobby",
   "metadata": {},
   "outputs": [
    {
     "name": "stdout",
     "output_type": "stream",
     "text": [
      "1\n",
      "2\n",
      "3\n",
      "4\n",
      "5\n",
      "6\n",
      "7\n",
      "8\n",
      "9\n",
      "10\n",
      "11\n"
     ]
    }
   ],
   "source": [
    "import numpy as np\n",
    "import os\n",
    "\n",
    "directory = \"baseline_6\"\n",
    "cnt = 0\n",
    "for filename in os.listdir(os.path.join(os.getcwd(), directory)):\n",
    "#     print('hk')\n",
    "    if cnt == 0:\n",
    "#         print('in')\n",
    "        loaded_np = np.load('baseline_6/' + filename)\n",
    "        loaded_np = np.reshape(loaded_np, (1, loaded_np.shape[0], loaded_np.shape[1]))\n",
    "        cnt += 1\n",
    "    else:\n",
    "        big_np = np.load('baseline_6/' + filename)\n",
    "        big_np = np.reshape(big_np, (1, big_np.shape[0], big_np.shape[1]))\n",
    "\n",
    "\n",
    "        # 12 x 8713 x 24 \n",
    "        #concat\n",
    "        loaded_np = np.concatenate((loaded_np, big_np), axis=0)\n",
    "#         loaded_np = np.hstack((loaded_np, big_np))\n",
    "\n",
    "        print(cnt)\n",
    "        cnt += 1\n",
    "\n",
    "    "
   ]
  },
  {
   "cell_type": "code",
   "execution_count": 2,
   "id": "beautiful-hometown",
   "metadata": {},
   "outputs": [
    {
     "name": "stdout",
     "output_type": "stream",
     "text": [
      "(12, 8731, 6)\n"
     ]
    }
   ],
   "source": [
    "print(loaded_np.shape)"
   ]
  },
  {
   "cell_type": "code",
   "execution_count": 3,
   "id": "wooden-clone",
   "metadata": {},
   "outputs": [
    {
     "name": "stdout",
     "output_type": "stream",
     "text": [
      "(8731, 6)\n",
      "[[73.21879784 74.54800891 75.89623131 77.24997224 78.61629111 80.01281106]\n",
      " [76.8681034  78.26466111 79.66774432 81.08443344 82.53237303 84.01742246]\n",
      " [80.4306034  81.87881041 83.34156341 84.83652653 86.36957917 87.9033204 ]\n",
      " ...\n",
      " [45.81433507 46.20630039 46.60122331 46.9574988  47.19098836 47.29392561]\n",
      " [45.46016841 45.83954692 46.17995414 46.39724485 46.48364579 46.35830508]\n",
      " [45.14072396 45.46657238 45.66900097 45.74023016 45.59940162 45.42265304]]\n"
     ]
    }
   ],
   "source": [
    "average_pred = np.mean(loaded_np, axis=0)\n",
    "print(average_pred.shape)\n",
    "print(average_pred)"
   ]
  },
  {
   "cell_type": "code",
   "execution_count": 4,
   "id": "buried-natural",
   "metadata": {},
   "outputs": [],
   "source": [
    "np.save('average_baseline_6.npy', average_pred)"
   ]
  },
  {
   "cell_type": "code",
   "execution_count": null,
   "id": "classical-thumbnail",
   "metadata": {},
   "outputs": [],
   "source": []
  }
 ],
 "metadata": {
  "kernelspec": {
   "display_name": "Python 3 (my_tensorflow_env)",
   "language": "python",
   "name": "my_tensorflow_env"
  },
  "language_info": {
   "codemirror_mode": {
    "name": "ipython",
    "version": 3
   },
   "file_extension": ".py",
   "mimetype": "text/x-python",
   "name": "python",
   "nbconvert_exporter": "python",
   "pygments_lexer": "ipython3",
   "version": "3.10.6"
  }
 },
 "nbformat": 4,
 "nbformat_minor": 5
}
