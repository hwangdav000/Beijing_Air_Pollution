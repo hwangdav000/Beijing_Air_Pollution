{
 "cells": [
  {
   "cell_type": "code",
   "execution_count": 2,
   "id": "incorrect-routine",
   "metadata": {},
   "outputs": [
    {
     "name": "stdout",
     "output_type": "stream",
     "text": [
      "1\n",
      "2\n",
      "3\n",
      "4\n",
      "5\n",
      "6\n",
      "7\n",
      "8\n",
      "9\n",
      "10\n",
      "11\n"
     ]
    }
   ],
   "source": [
    "import numpy as np\n",
    "import os\n",
    "\n",
    "directory = \"BiLSTM_pred_np\"\n",
    "cnt = 0\n",
    "for filename in os.listdir(os.path.join(os.getcwd(), directory)):\n",
    "#     print('hk')\n",
    "    if cnt == 0:\n",
    "#         print('in')\n",
    "        loaded_np = np.load('BiLSTM_pred_np/' + filename)\n",
    "        loaded_np = np.reshape(loaded_np, (1, loaded_np.shape[0], loaded_np.shape[1]))\n",
    "        cnt += 1\n",
    "    else:\n",
    "        big_np = np.load('BiLSTM_pred_np/' + filename)\n",
    "        big_np = np.reshape(big_np, (1, big_np.shape[0], big_np.shape[1]))\n",
    "\n",
    "\n",
    "        # 12 x 8713 x 24 \n",
    "        #concat\n",
    "        loaded_np = np.concatenate((loaded_np, big_np), axis=0)\n",
    "#         loaded_np = np.hstack((loaded_np, big_np))\n",
    "\n",
    "        print(cnt)\n",
    "        cnt += 1\n",
    "\n",
    "    "
   ]
  },
  {
   "cell_type": "code",
   "execution_count": 3,
   "id": "thorough-calvin",
   "metadata": {},
   "outputs": [
    {
     "name": "stdout",
     "output_type": "stream",
     "text": [
      "(12, 8713, 24)\n"
     ]
    }
   ],
   "source": [
    "print(loaded_np.shape)"
   ]
  },
  {
   "cell_type": "code",
   "execution_count": 4,
   "id": "adopted-emergency",
   "metadata": {},
   "outputs": [
    {
     "name": "stdout",
     "output_type": "stream",
     "text": [
      "(8713, 24)\n",
      "[[191.52284686 190.054636   188.85480181 ... 160.18305588 168.50026576\n",
      "  169.52090454]\n",
      " [190.59758949 185.17391586 184.34007136 ... 168.63285573 174.316185\n",
      "  174.08169301]\n",
      " [187.73233159 181.97771136 174.76621373 ... 176.49361674 178.2758522\n",
      "  176.22554016]\n",
      " ...\n",
      " [ 72.80267334  77.72408168  79.94509284 ... 100.05655988 108.05609258\n",
      "  113.65941874]\n",
      " [ 63.96066157  68.07614581  67.2889905  ...  97.69677353 105.93434334\n",
      "  110.53390503]\n",
      " [ 55.88893388  60.39527225  59.47434438 ... 103.66779232 108.29009501\n",
      "  111.19070371]]\n"
     ]
    }
   ],
   "source": [
    "average_pred = np.mean(loaded_np, axis=0)\n",
    "print(average_pred.shape)\n",
    "print(average_pred)"
   ]
  },
  {
   "cell_type": "code",
   "execution_count": 5,
   "id": "revolutionary-greensboro",
   "metadata": {},
   "outputs": [],
   "source": [
    "np.save('BiLSTM_average_pred.npy', average_pred)"
   ]
  },
  {
   "cell_type": "code",
   "execution_count": null,
   "id": "essential-premises",
   "metadata": {},
   "outputs": [],
   "source": []
  }
 ],
 "metadata": {
  "kernelspec": {
   "display_name": "Python 3 (my_tensorflow_env)",
   "language": "python",
   "name": "my_tensorflow_env"
  },
  "language_info": {
   "codemirror_mode": {
    "name": "ipython",
    "version": 3
   },
   "file_extension": ".py",
   "mimetype": "text/x-python",
   "name": "python",
   "nbconvert_exporter": "python",
   "pygments_lexer": "ipython3",
   "version": "3.10.6"
  }
 },
 "nbformat": 4,
 "nbformat_minor": 5
}
